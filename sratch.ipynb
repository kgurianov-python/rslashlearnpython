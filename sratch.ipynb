{
 "cells": [
  {
   "cell_type": "code",
   "execution_count": null,
   "metadata": {
    "collapsed": true
   },
   "outputs": [],
   "source": [
    "\n",
    "\n",
    "\n",
    "def double(value: int):\n",
    "    return value << True\n",
    "\n",
    "\n",
    "print(f\"{double(10) = }\")\n",
    "print(f\"{double(double(10)) = }\")\n",
    "print(f\"{double(double(double(10))) = }\")\n"
   ]
  },
  {
   "cell_type": "code",
   "execution_count": null,
   "outputs": [],
   "source": [
    "print(3 << 1)"
   ],
   "metadata": {
    "collapsed": false
   }
  },
  {
   "cell_type": "code",
   "execution_count": null,
   "outputs": [],
   "source": [
    "def my_func(n):\n",
    "    res = []\n",
    "    for i in range(n):\n",
    "        res.append(lambda: i * 2)\n",
    "    return i, res\n",
    "\n",
    "\n",
    "i, funcs = my_func(3)\n",
    "print(f\"{i = }\")\n",
    "for f in funcs:\n",
    "    print(f\"{f = } : {f() = }\")"
   ],
   "metadata": {
    "collapsed": false
   }
  },
  {
   "cell_type": "code",
   "execution_count": null,
   "outputs": [],
   "source": [
    "my_list = list(\"Python\")  # ['P', 'y', 't', 'h', 'o', 'n']\n",
    "my_list[2:3] = ['3', '4']  # ['P', 'y', '3', '4', 'h', 'o', 'n']\n",
    "my_str = \"\".join(my_list)  # 'Py34hon'\n",
    "new_my_lst = [char for char in my_str.replace('43', 'th') if char.isdigit()]  # ['3', '4']\n",
    "result = print(\n",
    "    [num1 + int(num2) for num1, num2 in enumerate(new_my_lst, start=2)])  # prints [2+int('3'), 3+int('4')] => [5, 7]"
   ],
   "metadata": {
    "collapsed": false
   }
  },
  {
   "cell_type": "code",
   "execution_count": null,
   "outputs": [],
   "source": [
    "def func(original_list):\n",
    "    if len(original_list) % 3 == 0:\n",
    "        temp2 = []\n",
    "        temp = []\n",
    "        counter = 0\n",
    "        for i in original_list:\n",
    "            if counter <= 2:\n",
    "                temp.append(i)\n",
    "                counter += 1\n",
    "            else:\n",
    "                temp2.append(temp)\n",
    "                temp = []\n",
    "                counter = 0\n",
    "        print(temp2)\n",
    "\n",
    "    else:\n",
    "        print(\"Not divisible by 3\")\n",
    "\n",
    "\n",
    "list2 = [1, 2, 3, 4, 5, 6, 7, 8, 9]\n",
    "func(list2)"
   ],
   "metadata": {
    "collapsed": false
   }
  },
  {
   "cell_type": "code",
   "execution_count": null,
   "outputs": [],
   "source": [
    "def funct():\n",
    "    arr = [x for x in range(1, 6, 2)]\n",
    "    arr1 = arr\n",
    "    print(f\"{id(arr) = }\")\n",
    "    print(f\"{id(arr1) = }\")\n",
    "    arr1.append(10)\n",
    "    return *arr,\n",
    "\n",
    "\n",
    "print(funct())"
   ],
   "metadata": {
    "collapsed": false
   }
  },
  {
   "cell_type": "code",
   "execution_count": null,
   "outputs": [],
   "source": [
    "pad = 40"
   ],
   "metadata": {
    "collapsed": false
   }
  },
  {
   "cell_type": "code",
   "execution_count": null,
   "outputs": [],
   "source": [
    "my_list = [1, 2, 3, 4]\n",
    "my_list.append(len(my_list) + 1)\n",
    "print(f\"{'1. append current length + 1':<30} {my_list = }\")\n",
    "\n",
    "my_list = [1, 2, 3, 4]\n",
    "my_list += [my_list[-1] + 1]\n",
    "print(f\"{'2. += last element + 1':<30} {my_list = }\")\n",
    "\n",
    "my_list = [1, 2, 3, 4]\n",
    "my_list[len(my_list):] = [max(my_list) + 1]\n",
    "print(f\"{'3. slice max value + 1':<30} {my_list = }\")"
   ],
   "metadata": {
    "collapsed": false
   }
  },
  {
   "cell_type": "code",
   "execution_count": null,
   "outputs": [],
   "source": [
    "test_sets = [\n",
    "    {5, 'hello', 3.2},\n",
    "    {5, 'hello', 3.2, 9.1, 10, 'zello', None}\n",
    "]\n",
    "for test_set in test_sets:\n",
    "    print(f\"\\n{test_set = }\")\n",
    "    for item in test_set:\n",
    "        print(f\"{str(item) = : <10} {hash(item) = }\")\n"
   ],
   "metadata": {
    "collapsed": false
   }
  },
  {
   "cell_type": "code",
   "execution_count": null,
   "outputs": [],
   "source": [
    "class MyString:\n",
    "    def __str__(self):\n",
    "        return 'I am from __str__'\n",
    "\n",
    "    def __repr__(self):\n",
    "        return 'I am from __repr__'\n",
    "\n",
    "    def __format__(self):\n",
    "        return 'I am from __format__'\n",
    "\n",
    "\n",
    "print(MyString())"
   ],
   "metadata": {
    "collapsed": false
   }
  },
  {
   "cell_type": "code",
   "execution_count": null,
   "outputs": [],
   "source": [
    "help(print)"
   ],
   "metadata": {
    "collapsed": false
   }
  },
  {
   "cell_type": "code",
   "execution_count": null,
   "outputs": [],
   "source": [
    "def condition(item):\n",
    "    pass\n",
    "    if item:\n",
    "        print(item, end=' ')\n",
    "        return False\n",
    "    else:\n",
    "        print(item, end='.')\n",
    "        return True\n",
    "\n",
    "\n",
    "x = 'Python'\n",
    "y = x.partition('m')\n",
    "print(y)\n",
    "x = (condition(item) for item in y)\n",
    "print(all(condition(item) for item in y))\n",
    "\n"
   ],
   "metadata": {
    "collapsed": false
   }
  },
  {
   "cell_type": "code",
   "execution_count": null,
   "outputs": [],
   "source": [
    "def fun(x, y):\n",
    "    return x is y\n",
    "\n",
    "\n",
    "x = [1, 2]\n",
    "z = [1, 2]\n",
    "\n",
    "a = fun(x, z)\n",
    "z = x == z\n",
    "c = x is not z\n",
    "d = fun(b, z)\n",
    "\n",
    "print(a, b, c, d, end=\" \")"
   ],
   "metadata": {
    "collapsed": false
   }
  },
  {
   "cell_type": "code",
   "execution_count": null,
   "outputs": [],
   "source": [
    "z = 255\n",
    "x = 255\n",
    "print(f\"{x is z = }:\\n\\t{x = }, {id(x) = }\\n\\t{z = }, {id(z) = }\")\n",
    "\n",
    "x = 257\n",
    "z = 257\n",
    "print(f\"{x is z = }:\\n\\t{x = }, {id(x) = }\\n\\t{z = }, {id(z) = }\")\n"
   ],
   "metadata": {
    "collapsed": false
   }
  },
  {
   "cell_type": "code",
   "execution_count": 14,
   "outputs": [
    {
     "name": "stdout",
     "output_type": "stream",
     "text": [
      "john, your numbers are: [5, 37]\n",
      "cindy, your number is: 26\n",
      "laura, your numbers are: [42, 1, 18]\n",
      "megan, your numbers are: [300, 16, 450]\n",
      "lucy, your number is: 69\n",
      "stacy, your number is: [121]\n"
     ]
    }
   ],
   "source": [
    "from typing import Collection\n",
    "\n",
    "favorite_number = {\n",
    "    'john': [5, 37],\n",
    "    'cindy': 26,\n",
    "    'laura': [42, 1, 18],\n",
    "    'megan': [300, 16, 450],\n",
    "    'lucy': 69,\n",
    "    'stacy': [121]\n",
    "}\n",
    "\n",
    "for key, value in favorite_number.items():\n",
    "    msg_suffix = 'number is'\n",
    "    if (isinstance(value, Collection) and not isinstance(value, (str, bytes, bytearray))) and len(value) > 1:\n",
    "        msg_suffix = 'numbers are'\n",
    "    print(f\"{key}, your {msg_suffix}: {value}\")\n"
   ],
   "metadata": {
    "collapsed": false
   }
  },
  {
   "cell_type": "code",
   "execution_count": 15,
   "outputs": [
    {
     "name": "stdout",
     "output_type": "stream",
     "text": [
      "john, your numbers are: [5, 37]\n",
      "cindy, your number is: 26\n",
      "laura, your numbers are: [42, 1, 18]\n",
      "megan, your numbers are: [300, 16, 450]\n",
      "lucy, your number is: 69\n",
      "stacy, your number is: [121]\n"
     ]
    }
   ],
   "source": [
    "from typing import Collection\n",
    "\n",
    "favorite_number = {\n",
    "    'john': [5, 37],\n",
    "    'cindy': 26,\n",
    "    'laura': [42, 1, 18],\n",
    "    'megan': [300, 16, 450],\n",
    "    'lucy': 69,\n",
    "    'stacy': [121]\n",
    "}\n",
    "\n",
    "for key, value in favorite_number.items():\n",
    "    msg_suffix = 'number is'\n",
    "    if isinstance(value, Collection) and len(value) > 1:\n",
    "        msg_suffix = 'numbers are'\n",
    "    print(f\"{key}, your {msg_suffix}: {value}\")"
   ],
   "metadata": {
    "collapsed": false
   }
  },
  {
   "cell_type": "code",
   "execution_count": 31,
   "outputs": [
    {
     "data": {
      "text/plain": "'dc'"
     },
     "execution_count": 31,
     "metadata": {},
     "output_type": "execute_result"
    }
   ],
   "source": [
    "tst = 'abcd'\n",
    "tst[-1:-3:-1]\n"
   ],
   "metadata": {
    "collapsed": false
   }
  },
  {
   "cell_type": "code",
   "execution_count": 35,
   "outputs": [
    {
     "name": "stdout",
     "output_type": "stream",
     "text": [
      "False False\n"
     ]
    }
   ],
   "source": [
    "a = [True, False, True, False]\n",
    "print(*filter(lambda x: not x, a))"
   ],
   "metadata": {
    "collapsed": false
   }
  },
  {
   "cell_type": "code",
   "execution_count": 39,
   "outputs": [
    {
     "data": {
      "text/plain": "'|B|r|i|a|n|'"
     },
     "execution_count": 39,
     "metadata": {},
     "output_type": "execute_result"
    }
   ],
   "source": [
    "('|'.join(' Brian ', )).strip()"
   ],
   "metadata": {
    "collapsed": false
   }
  },
  {
   "cell_type": "code",
   "execution_count": 87,
   "outputs": [
    {
     "name": "stdout",
     "output_type": "stream",
     "text": [
      "|B|r|i|a|n| |B|r|i|a|n| |B|r|i|a|n| |B|r|i|a|n|."
     ]
    }
   ],
   "source": [
    "def join_surround(in_str, sep='|', repeat=4):\n",
    "    print(*(sep.join(f\" {in_str} \").strip(),) * repeat, end='.')\n",
    "\n",
    "\n",
    "join_surround(\"Brian\")"
   ],
   "metadata": {
    "collapsed": false
   }
  },
  {
   "cell_type": "code",
   "execution_count": 74,
   "outputs": [
    {
     "name": "stdout",
     "output_type": "stream",
     "text": [
      "B|r|i|a|nB|r|i|a|nB|r|i|a|nB|r|i|a|n."
     ]
    }
   ],
   "source": [
    "def Func(int):\n",
    "    print(\"|\".join(\" Brian \".strip()) * int, end='.')\n",
    "\n",
    "\n",
    "Func(4)"
   ],
   "metadata": {
    "collapsed": false
   }
  },
  {
   "cell_type": "code",
   "execution_count": 70,
   "outputs": [
    {
     "name": "stdout",
     "output_type": "stream",
     "text": [
      "*********Python**********\n"
     ]
    }
   ],
   "source": [
    "align = '^'\n",
    "fill_char = '*'\n",
    "width = 25\n",
    "test = \"Python\"\n",
    "print(f\"{test:{fill_char}{align}{width}}\")"
   ],
   "metadata": {
    "collapsed": false
   }
  },
  {
   "cell_type": "code",
   "execution_count": 96,
   "outputs": [
    {
     "name": "stdout",
     "output_type": "stream",
     "text": [
      "1\n",
      "2\n",
      "3\n",
      "4\n",
      "1\n",
      "(1, 2)\n",
      "(2, 3)\n",
      "(3, 4)\n"
     ]
    },
    {
     "ename": "StopIteration",
     "evalue": "",
     "output_type": "error",
     "traceback": [
      "\u001B[1;31m---------------------------------------------------------------------------\u001B[0m",
      "\u001B[1;31mStopIteration\u001B[0m                             Traceback (most recent call last)",
      "Cell \u001B[1;32mIn[96], line 13\u001B[0m\n\u001B[0;32m     11\u001B[0m \u001B[38;5;28mprint\u001B[39m(\u001B[38;5;28mnext\u001B[39m(pairer))\n\u001B[0;32m     12\u001B[0m \u001B[38;5;28mprint\u001B[39m(\u001B[38;5;28mnext\u001B[39m(pairer))\n\u001B[1;32m---> 13\u001B[0m \u001B[38;5;28mprint\u001B[39m(\u001B[38;5;28;43mnext\u001B[39;49m\u001B[43m(\u001B[49m\u001B[43mpairer\u001B[49m\u001B[43m)\u001B[49m)\n\u001B[0;32m     14\u001B[0m \u001B[38;5;28mprint\u001B[39m(\u001B[38;5;28mnext\u001B[39m(pairer))\n",
      "\u001B[1;31mStopIteration\u001B[0m: "
     ]
    }
   ],
   "source": [
    "from itertools import cycle, pairwise\n",
    "\n",
    "cycler = cycle([1, 2, 3, 4])\n",
    "print(next(cycler))\n",
    "print(next(cycler))\n",
    "print(next(cycler))\n",
    "print(next(cycler))\n",
    "print(next(cycler))\n",
    "pairer = pairwise([1, 2, 3, 4])\n",
    "print(next(pairer))\n",
    "print(next(pairer))\n",
    "print(next(pairer))\n",
    "print(next(pairer))\n",
    "print(next(pairer))\n",
    "\n"
   ],
   "metadata": {
    "collapsed": false
   }
  },
  {
   "cell_type": "code",
   "execution_count": 106,
   "outputs": [
    {
     "name": "stdout",
     "output_type": "stream",
     "text": [
      "0\n"
     ]
    }
   ],
   "source": [
    "from functools import reduce\n",
    "\n",
    "print(reduce(lambda a, b: a * b, [0, 1, 2, 3, 4, 5, 6], 10))"
   ],
   "metadata": {
    "collapsed": false
   }
  },
  {
   "cell_type": "code",
   "execution_count": 125,
   "outputs": [
    {
     "name": "stdout",
     "output_type": "stream",
     "text": [
      "locals()['i'] = 3\n",
      "3\n",
      "3\n",
      "3\n",
      "3\n"
     ]
    }
   ],
   "source": [
    "from string import Template\n",
    "\n",
    "\n",
    "def strange_func(n):\n",
    "    template = Template('$x is not the $y letter')\n",
    "    result = []\n",
    "    for i in range(n):\n",
    "        result.append(lambda x: i)\n",
    "    print(f\"{locals()['i'] = }\")\n",
    "    return result\n",
    "\n",
    "\n",
    "funcs = strange_func(4)  # [<function strange_func.<locals>.<lambda> at 0x000001C99AFD0B80>,\n",
    "#  <function strange_func.<locals>.<lambda> at 0x000001C99AD258A0>,\n",
    "#  <function strange_func.<locals>.<lambda> at 0x000001C99AD27F60>,\n",
    "#  <function strange_func.<locals>.<lambda> at 0x000001C99AD25580>]\n",
    "for f in funcs:  # f => lambda x: template.substitute(x=x, y=i)\n",
    "    print(repr(f('A')))  # => template.substitute(x='A', y=3)) => 'A is not the 3 letter'"
   ],
   "metadata": {
    "collapsed": false
   }
  },
  {
   "cell_type": "code",
   "execution_count": 185,
   "outputs": [
    {
     "name": "stdout",
     "output_type": "stream",
     "text": [
      "['0', '1', '2', '3', '4', '5', '6', '7', '8', '9', '10', '11', '12', '13', '14']\n",
      "[11111111111111, 11111111111112, 11111111111113, 11111111111114, 11111111111115, 11111111111116, 11111111111117, 11111111111118, 11111111111119, 11111111111120]\n",
      "True True\n",
      "184\n",
      "184\n"
     ]
    }
   ],
   "source": [
    "from sys import getsizeof, maxsize\n",
    "\n",
    "\n",
    "def small():\n",
    "    return [str(i) for i in range(15)]\n",
    "\n",
    "\n",
    "def squared():\n",
    "    return [i for i in range(11111111111111, 11111111111111 + 10)]\n",
    "\n",
    "\n",
    "size_small = getsizeof(small())\n",
    "size_squared = getsizeof(squared())\n",
    "\n",
    "print(small())\n",
    "print(squared())\n",
    "\n",
    "print(size_small is size_squared, end=' ')\n",
    "print(size_small == size_squared)\n",
    "\n",
    "print(size_small)\n",
    "print(size_squared)\n"
   ],
   "metadata": {
    "collapsed": false
   }
  },
  {
   "cell_type": "code",
   "execution_count": 194,
   "outputs": [
    {
     "name": "stdout",
     "output_type": "stream",
     "text": [
      "maxsize = 7fffffffffffffff\n",
      "len(the_list) = 0, getsizeof(the_list) = 56\n",
      "len(the_list) = 1, getsizeof(the_list) = 88\n",
      "len(the_list) = 2, getsizeof(the_list) = 88\n",
      "len(the_list) = 3, getsizeof(the_list) = 88\n",
      "len(the_list) = 4, getsizeof(the_list) = 88\n",
      "len(the_list) = 5, getsizeof(the_list) = 120\n",
      "len(the_list) = 6, getsizeof(the_list) = 120\n",
      "len(the_list) = 7, getsizeof(the_list) = 120\n",
      "len(the_list) = 8, getsizeof(the_list) = 120\n",
      "len(the_list) = 9, getsizeof(the_list) = 184\n",
      "len(the_list) = 10, getsizeof(the_list) = 184\n",
      "len(the_list) = 11, getsizeof(the_list) = 184\n",
      "len(the_list) = 12, getsizeof(the_list) = 184\n",
      "len(the_list) = 13, getsizeof(the_list) = 184\n",
      "len(the_list) = 14, getsizeof(the_list) = 184\n",
      "len(the_list) = 15, getsizeof(the_list) = 184\n",
      "len(the_list) = 16, getsizeof(the_list) = 184\n",
      "len(the_list) = 17, getsizeof(the_list) = 248\n",
      "len(the_list) = 18, getsizeof(the_list) = 248\n",
      "len(the_list) = 19, getsizeof(the_list) = 248\n",
      "len(the_list) = 20, getsizeof(the_list) = 248\n"
     ]
    }
   ],
   "source": [
    "print(f\"{maxsize = :x}\")\n",
    "the_list = []\n",
    "loops = 20\n",
    "while loops >= 0:\n",
    "    print(f\"{len(the_list) = }, {getsizeof(the_list) = }\")\n",
    "    the_list.append(loops)\n",
    "    loops -= 1"
   ],
   "metadata": {
    "collapsed": false
   }
  },
  {
   "cell_type": "code",
   "execution_count": 224,
   "outputs": [
    {
     "name": "stdout",
     "output_type": "stream",
     "text": [
      "type(s) = <class 'set'>, s = set()\n",
      "type(s) = <class 'set'>, s = {1, 2, 3, 4}\n",
      "type(s) = <class 'set'>, s = {'1', '3_three', 'two', 4}\n",
      "type(s) = <class 'dict'>, s = {'1': 1, 'two': 2, '3_three': 3, 4: 'four'}\n"
     ]
    }
   ],
   "source": [
    "s = {*{}}\n",
    "print(f\"{type(s) = }, {s = }\")\n",
    "\n",
    "s = {*{1, 2, 3, 4}}  # unpacks inner set , so {*{1, 2, 3, 4}} => {1, 2, 3, 4}\n",
    "print(f\"{type(s) = }, {s = }\")\n",
    "\n",
    "# s =  {{1, 2, 3, 4}}  # TypeError: unhashable type: 'set\n",
    "\n",
    "s = {*{'1': 1, 'two': 2, \"3_three\": 3, 4: \"four\"}}  # unpacks inner dict keys , so\n",
    "# {*{'1':1, 'two':2, \"3_three\":3, 4:\"four\"}} => {'1', '3_three', 'two', 4}\n",
    "print(f\"{type(s) = }, {s = }\")\n",
    "\n",
    "s = {**{'1': 1, 'two': 2, \"3_three\": 3, 4: \"four\"}}  # unpacks inner dict items , so\n",
    "# {*{'1':1, 'two':2, \"3_three\":3, 4:\"four\"}} =>\n",
    "#      {'1':1, 'two':2, \"3_three\":3, 4:\"four\"} => dict\n",
    "print(f\"{type(s) = }, {s = }\")"
   ],
   "metadata": {
    "collapsed": false
   }
  },
  {
   "cell_type": "code",
   "execution_count": 286,
   "outputs": [
    {
     "name": "stdout",
     "output_type": "stream",
     "text": [
      "<class 'set'>\n",
      "set()\n",
      "<class 'set'>\n",
      "{1, 2}\n"
     ]
    }
   ],
   "source": [
    "s = {*{}}\n",
    "print(type(s))\n",
    "print(s)\n",
    "c = set({1: 1, 2: 2})\n",
    "print(type(c))\n",
    "print(c)\n"
   ],
   "metadata": {
    "collapsed": false
   }
  },
  {
   "cell_type": "code",
   "execution_count": 315,
   "outputs": [
    {
     "name": "stdout",
     "output_type": "stream",
     "text": [
      "Pythonista.mro() = [<class '__main__.Pythonista'>, <class '__main__.Programmer'>, <class '__main__.Person'>, <class 'object'>]\n",
      "...........Before del Pythonista.greet............\n",
      "Rodrigo writes Python\n",
      "............After del Pythonista.greet............\n",
      "Hey, Rodrigo!\n"
     ]
    }
   ],
   "source": [
    "class Person():\n",
    "    name = 'Unknown'\n",
    "\n",
    "    def greet(self):\n",
    "        print(f\"Hey, {self.name}!\")\n",
    "\n",
    "\n",
    "class Programmer(Person):\n",
    "    occupation = \"Programmer\"\n",
    "\n",
    "\n",
    "class Pythonista(Programmer):\n",
    "    language = \"Python\"\n",
    "\n",
    "    def greet(self):\n",
    "        print(f\"{self.name} writes {self.language}\")\n",
    "\n",
    "\n",
    "print(f\"{Pythonista.mro() = }\")\n",
    "rodrigo = Pythonista()\n",
    "rodrigo.name = \"Rodrigo\"\n",
    "print('Before del Pythonista.greet'.center(50, '.'))\n",
    "rodrigo.greet()\n",
    "del Pythonista.greet\n",
    "print('After del Pythonista.greet'.center(50, '.'))\n",
    "rodrigo.greet()"
   ],
   "metadata": {
    "collapsed": false
   }
  },
  {
   "cell_type": "code",
   "execution_count": 320,
   "outputs": [
    {
     "name": "stdout",
     "output_type": "stream",
     "text": [
      "111222\n",
      "Number is: 11\n"
     ]
    }
   ],
   "source": [
    "numbers = ['1', '11', '2', '22']\n",
    "numbers = ''.join(numbers)\n",
    "print(numbers)\n",
    "print('Number is:', numbers[2] * 2)"
   ],
   "metadata": {
    "collapsed": false
   }
  },
  {
   "cell_type": "code",
   "execution_count": 40,
   "outputs": [
    {
     "name": "stdout",
     "output_type": "stream",
     "text": [
      "bbdc\n"
     ]
    }
   ],
   "source": [
    "Dic1 = {'a': 3, 'l': 4, 'c': 5, 'z': 7}  #This dictionary is from an input\n",
    "Dic2 = {'a': 1, 'b': 4, 'c': 8, 'd': 4.7}  #This one is from the alphabet of a language\n",
    "\n",
    "diffs = [{abc_key: abs(abc_val - input_val) for abc_key, abc_val in Dic2.items()} for input_val in Dic1.values()]\n",
    "result = (min(diff, key=diff.get) for diff in diffs)\n",
    "print(*result, sep='')\n",
    "# print(*res, sep='')\n"
   ],
   "metadata": {
    "collapsed": false,
    "ExecuteTime": {
     "end_time": "2023-05-03T20:44:49.325313500Z",
     "start_time": "2023-05-03T20:44:49.319094500Z"
    }
   }
  },
  {
   "cell_type": "code",
   "execution_count": 69,
   "outputs": [
    {
     "name": "stdout",
     "output_type": "stream",
     "text": [
      "locals() = {'args': (), 'kwargs': {}}\n",
      "args = ()\n",
      "kwargs = {}\n",
      "locals() = {'args': ('1', '2'), 'kwargs': {}}\n",
      "args = ('1', '2')\n",
      "kwargs = {}\n",
      "locals() = {'args': (), 'kwargs': {'1': 1, '2': 2}}\n",
      "args = ()\n",
      "kwargs = {'1': 1, '2': 2}\n",
      "<class 'set'>\n",
      "<class 'set'>\n",
      "<class 'dict'>\n"
     ]
    },
    {
     "ename": "TypeError",
     "evalue": "unhashable type: 'dict'",
     "output_type": "error",
     "traceback": [
      "\u001B[1;31m---------------------------------------------------------------------------\u001B[0m",
      "\u001B[1;31mTypeError\u001B[0m                                 Traceback (most recent call last)",
      "Cell \u001B[1;32mIn[69], line 12\u001B[0m\n\u001B[0;32m     10\u001B[0m \u001B[38;5;28mprint\u001B[39m(\u001B[38;5;28mtype\u001B[39m({()}))\n\u001B[0;32m     11\u001B[0m \u001B[38;5;28mprint\u001B[39m(\u001B[38;5;28mtype\u001B[39m({\u001B[38;5;241m*\u001B[39m\u001B[38;5;241m*\u001B[39m{}}))\n\u001B[1;32m---> 12\u001B[0m \u001B[38;5;28mprint\u001B[39m(\u001B[38;5;28mtype\u001B[39m({{}}))\n",
      "\u001B[1;31mTypeError\u001B[0m: unhashable type: 'dict'"
     ]
    }
   ],
   "source": [
    "def func(*args, **kwargs):\n",
    "    print(f\"{locals() = }\")\n",
    "    print(f\"{args = }\")\n",
    "    print(f\"{kwargs = }\")\n",
    "\n",
    "\n",
    "func()\n",
    "func(*{'1': 1, '2': 2})\n",
    "func(**{'1': 1, '2': 2})\n",
    "print(type({*{}}))\n",
    "print(type({()}))\n",
    "print(type({**{}}))\n",
    "print(type({{}}))"
   ],
   "metadata": {
    "collapsed": false,
    "ExecuteTime": {
     "end_time": "2023-05-03T21:36:49.825937800Z",
     "start_time": "2023-05-03T21:36:49.811449300Z"
    }
   }
  },
  {
   "cell_type": "code",
   "execution_count": 86,
   "outputs": [
    {
     "name": "stdout",
     "output_type": "stream",
     "text": [
      "{()}\n"
     ]
    }
   ],
   "source": [
    "a = {()}\n",
    "print(a)\n"
   ],
   "metadata": {
    "collapsed": false,
    "ExecuteTime": {
     "end_time": "2023-05-03T21:43:32.747746800Z",
     "start_time": "2023-05-03T21:43:32.740745300Z"
    }
   }
  },
  {
   "cell_type": "code",
   "execution_count": 130,
   "outputs": [
    {
     "ename": "SyntaxError",
     "evalue": "invalid syntax (439617530.py, line 5)",
     "output_type": "error",
     "traceback": [
      "\u001B[1;36m  Cell \u001B[1;32mIn[130], line 5\u001B[1;36m\u001B[0m\n\u001B[1;33m    z= x == not y\u001B[0m\n\u001B[1;37m            ^\u001B[0m\n\u001B[1;31mSyntaxError\u001B[0m\u001B[1;31m:\u001B[0m invalid syntax\n"
     ]
    }
   ],
   "source": [
    "from dis import dis\n",
    "\n",
    "x = True\n",
    "y = False\n",
    "z = x ==\n",
    "not y\n",
    "\n"
   ],
   "metadata": {
    "collapsed": false,
    "ExecuteTime": {
     "end_time": "2023-05-04T16:35:39.339555700Z",
     "start_time": "2023-05-04T16:35:39.335555500Z"
    }
   }
  },
  {
   "cell_type": "code",
   "execution_count": 121,
   "outputs": [
    {
     "name": "stdout",
     "output_type": "stream",
     "text": [
      "-2\n"
     ]
    }
   ],
   "source": [
    "a = True\n",
    "print(~a)"
   ],
   "metadata": {
    "collapsed": false,
    "ExecuteTime": {
     "end_time": "2023-05-04T16:14:25.607592900Z",
     "start_time": "2023-05-04T16:14:25.601986500Z"
    }
   }
  },
  {
   "cell_type": "code",
   "execution_count": 135,
   "outputs": [
    {
     "name": "stdout",
     "output_type": "stream",
     "text": [
      "type(pandas) = <class 'module'>\n",
      "type(itertools) = <class 'module'>\n"
     ]
    }
   ],
   "source": [
    "import pandas\n",
    "import itertools\n",
    "\n",
    "print(f\"{type(pandas) = }\")\n",
    "print(f\"{type(itertools) = }\")"
   ],
   "metadata": {
    "collapsed": false,
    "ExecuteTime": {
     "end_time": "2023-05-04T16:41:02.437123700Z",
     "start_time": "2023-05-04T16:41:02.431794500Z"
    }
   }
  },
  {
   "cell_type": "code",
   "execution_count": 10,
   "outputs": [
    {
     "name": "stdout",
     "output_type": "stream",
     "text": [
      "i\n",
      "i\n",
      "i\n",
      "<class 'str'> result = 'True, False'\n"
     ]
    }
   ],
   "source": [
    "x = lambda x: (x, print('i'))  # prints 'i' to console, returns tuple (x, None)\n",
    "y = lambda x: x  # returns x\n",
    "\n",
    "z = lambda f: (f(0), f(1))  # returns a tuple of return values of callable f\n",
    "\n",
    "result = f'{(y(1) in x(1))}, {(z(x) in z(y))}'  # '{1 in (1, None)}, {(x(0), x(1)) in (y(0), y(1))}' =>\n",
    "                                                #    =>  '{1 in (1, None)}, {(0, None), (1, None) in (0, 1)}' =>\n",
    "                                                #    =>  '{True}, {False}'\n",
    "                                                #    => 'True, False'\n",
    "print(f\"{type(result)} {result = }\")"
   ],
   "metadata": {
    "collapsed": false,
    "ExecuteTime": {
     "end_time": "2023-05-06T02:27:42.264826800Z",
     "start_time": "2023-05-06T02:27:42.262297400Z"
    }
   }
  },
  {
   "cell_type": "code",
   "execution_count": 182,
   "outputs": [
    {
     "name": "stdout",
     "output_type": "stream",
     "text": [
      "(1, 10) (1, 100) (1, 1000) (2, 10) (2, 100) (2, 1000) (3, 10) (3, 100) (3, 1000) (4, 10) (4, 100) (4, 1000)\n",
      "(1, 10) (2, 100) (3, 1000)\n",
      "(1, 10) (2, 100) (3, 1000) (4, None)\n"
     ]
    }
   ],
   "source": [
    "from itertools import product, zip_longest, combinations, permutations\n",
    "\n",
    "a = [1, 2, 3, 4]\n",
    "b = [10, 100, 1000]\n",
    "print(*product(a,b))\n",
    "print(*zip(a,b))\n",
    "print(*zip_longest(a,b))\n",
    "\n"
   ],
   "metadata": {
    "collapsed": false,
    "ExecuteTime": {
     "end_time": "2023-05-04T21:16:15.636903700Z",
     "start_time": "2023-05-04T21:16:15.628778400Z"
    }
   }
  },
  {
   "cell_type": "code",
   "execution_count": 14,
   "outputs": [
    {
     "name": "stdout",
     "output_type": "stream",
     "text": [
      "True\n"
     ]
    }
   ],
   "source": [
    "def func(arr1, arr2):\n",
    "    return any(True if x == y else False for x in arr1 for y in arr2) # any((False, False, False, True, ...)) => True\n",
    "\n",
    "print(func([1, 2, 3], [4, 3, 2, 1]))"
   ],
   "metadata": {
    "collapsed": false,
    "ExecuteTime": {
     "end_time": "2023-05-06T02:47:20.230739800Z",
     "start_time": "2023-05-06T02:47:20.224348700Z"
    }
   }
  },
  {
   "cell_type": "code",
   "execution_count": 37,
   "outputs": [
    {
     "name": "stdout",
     "output_type": "stream",
     "text": [
      "......List comprehension......\n",
      "(a == b) = True\n",
      "a = ['Cat', 'Dog', 'Cow']\n",
      "b = ['Cat', 'Dog', 'Cow']\n",
      "\n",
      ".........Simple loop..........\n",
      "(a == b) = True\n",
      "a = ['Cat', 'Dog', 'Cow']\n",
      "b = ['Cat', 'Dog', 'Cow']\n"
     ]
    }
   ],
   "source": [
    "a = list(map(lambda x: x.capitalize(), ['cat', 'dog', 'cow']))\n",
    "\n",
    "print(f\"{'List comprehension':.^30}\")\n",
    "b = [val.capitalize() for val in ['cat', 'dog', 'cow']]\n",
    "\n",
    "assert a == b\n",
    "print(f\"{(a == b) = }\")\n",
    "print(f\"{a = }\")\n",
    "print(f\"{b = }\")\n",
    "\n",
    "print(f\"\\n{'Simple loop':.^30}\")\n",
    "b = ['cat', 'dog', 'cow']\n",
    "for idx, val in enumerate(b): b[idx] = val.capitalize()\n",
    "\n",
    "assert a == b\n",
    "print(f\"{(a == b) = }\")\n",
    "print(f\"{a = }\")\n",
    "print(f\"{b = }\")"
   ],
   "metadata": {
    "collapsed": false,
    "ExecuteTime": {
     "end_time": "2023-05-06T03:09:19.235975900Z",
     "start_time": "2023-05-06T03:09:19.229120600Z"
    }
   }
  },
  {
   "cell_type": "code",
   "execution_count": 42,
   "outputs": [
    {
     "name": "stdout",
     "output_type": "stream",
     "text": [
      "Horse\n"
     ]
    }
   ],
   "source": [
    "b = ['cat', 'dog', 'cow']\n",
    "c = (val.capitalize() for val in b)\n",
    "next(c)\n",
    "b+=['horse']\n",
    "next(c)\n",
    "next(c)\n",
    "print(next(c))"
   ],
   "metadata": {
    "collapsed": false,
    "ExecuteTime": {
     "end_time": "2023-05-06T03:23:13.034722300Z",
     "start_time": "2023-05-06T03:23:13.032200700Z"
    }
   }
  },
  {
   "cell_type": "code",
   "execution_count": 14,
   "outputs": [
    {
     "name": "stdout",
     "output_type": "stream",
     "text": [
      "╔═══╦═\n",
      "║   ║\n"
     ]
    }
   ],
   "source": [
    "a = [u'\\u2554']\n",
    "print(u'\\u2554\\u2550\\u2550\\u2550\\u2566\\u2550')\n",
    "print(u'\\u2551   \\u2551')\n"
   ],
   "metadata": {
    "collapsed": false,
    "ExecuteTime": {
     "end_time": "2023-05-06T11:14:41.840931500Z",
     "start_time": "2023-05-06T11:14:41.835974100Z"
    }
   }
  },
  {
   "cell_type": "code",
   "execution_count": null,
   "outputs": [],
   "source": [],
   "metadata": {
    "collapsed": false
   }
  }
 ],
 "metadata": {
  "kernelspec": {
   "display_name": "Python 3",
   "language": "python",
   "name": "python3"
  },
  "language_info": {
   "codemirror_mode": {
    "name": "ipython",
    "version": 2
   },
   "file_extension": ".py",
   "mimetype": "text/x-python",
   "name": "python",
   "nbconvert_exporter": "python",
   "pygments_lexer": "ipython2",
   "version": "2.7.6"
  }
 },
 "nbformat": 4,
 "nbformat_minor": 0
}
