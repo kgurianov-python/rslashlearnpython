{
 "cells": [
  {
   "cell_type": "code",
   "execution_count": null,
   "metadata": {
    "collapsed": true
   },
   "outputs": [],
   "source": [
    "d = {(0, 8): 246, (0, 4): 250, (1, 8): 233, (1, 4): 250}\n",
    "d"
   ]
  },
  {
   "cell_type": "code",
   "execution_count": null,
   "outputs": [],
   "source": [
    "d = {(0, 8): 246, (0, 4): 250, (1, 8): 233, (1, 4): 250}\n",
    "dd = dict(zip(d.values(), d.keys()))\n",
    "dd"
   ],
   "metadata": {
    "collapsed": false
   }
  },
  {
   "cell_type": "code",
   "execution_count": null,
   "outputs": [],
   "source": [
    "import random\n",
    "list_of_books = [\"The Hitchhiker's Guide to the Galaxy\", \"Do Androids Dream of Electric Sheep?\", \"Frankenstein\"]\n",
    "the_book = random.choice(list_of_books)\n",
    "list_of_books.remove(the_book)\n",
    "print(list_of_books)\n",
    "print(the_book)\n"
   ],
   "metadata": {
    "collapsed": false
   }
  },
  {
   "cell_type": "code",
   "execution_count": null,
   "outputs": [],
   "source": [
    "def test(val, val2) -> bytes:\n",
    "    pass\n",
    "test(10)"
   ],
   "metadata": {
    "collapsed": false
   }
  },
  {
   "cell_type": "code",
   "execution_count": 69,
   "outputs": [
    {
     "data": {
      "text/plain": "[[1.0, 2.0, 3.3, 4.4], [5.5, 6.6, 7.7, 8.8], [9.9, 10.1]]"
     },
     "execution_count": 69,
     "metadata": {},
     "output_type": "execute_result"
    }
   ],
   "source": [
    "from itertools import zip_longest\n",
    "\n",
    "the_list = [1.0, 2.0, 3.3, 4.4, 5.5, 6.6, 7.7, 8.8, 9.9, 10.1]\n",
    "res = [[i for i in item if i is not None] for item in zip_longest(*[iter(the_list)] * 4)]\n",
    "res"
   ],
   "metadata": {
    "collapsed": false
   }
  },
  {
   "cell_type": "code",
   "execution_count": 63,
   "outputs": [
    {
     "data": {
      "text/plain": "[<list_iterator at 0x1f7daaabfa0>,\n <list_iterator at 0x1f7daaabfa0>,\n <list_iterator at 0x1f7daaabfa0>,\n <list_iterator at 0x1f7daaabfa0>]"
     },
     "execution_count": 63,
     "metadata": {},
     "output_type": "execute_result"
    }
   ],
   "source": [
    "res  = [iter(the_list)] *4\n",
    "res"
   ],
   "metadata": {
    "collapsed": false
   }
  },
  {
   "cell_type": "code",
   "execution_count": 68,
   "outputs": [
    {
     "name": "stdout",
     "output_type": "stream",
     "text": [
      "Chunk 0 :\n",
      "1.0\n",
      "Chunk 1 :\n",
      "2.0\n",
      "Chunk 2 :\n",
      "3.3\n",
      "Chunk 3 :\n",
      "4.4\n"
     ]
    }
   ],
   "source": [
    "res  = [iter(the_list)] *4\n",
    "for idx, iterator in enumerate(res):\n",
    "    print(f\"Chunk {idx} :\")\n",
    "    print(next(iterator))\n"
   ],
   "metadata": {
    "collapsed": false
   }
  },
  {
   "cell_type": "code",
   "execution_count": null,
   "outputs": [],
   "source": [],
   "metadata": {
    "collapsed": false
   }
  }
 ],
 "metadata": {
  "kernelspec": {
   "display_name": "Python 3",
   "language": "python",
   "name": "python3"
  },
  "language_info": {
   "codemirror_mode": {
    "name": "ipython",
    "version": 2
   },
   "file_extension": ".py",
   "mimetype": "text/x-python",
   "name": "python",
   "nbconvert_exporter": "python",
   "pygments_lexer": "ipython2",
   "version": "2.7.6"
  }
 },
 "nbformat": 4,
 "nbformat_minor": 0
}
