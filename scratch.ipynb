{
 "cells": [
  {
   "cell_type": "code",
   "execution_count": 2,
   "metadata": {
    "collapsed": true
   },
   "outputs": [
    {
     "data": {
      "text/plain": "{(0, 8): 246, (0, 4): 250, (1, 8): 233, (1, 4): 250}"
     },
     "execution_count": 1,
     "metadata": {},
     "output_type": "execute_result"
    },
    {
     "data": {
      "text/plain": "{(0, 8): 246, (0, 4): 250, (1, 8): 233, (1, 4): 250}"
     },
     "execution_count": 2,
     "metadata": {},
     "output_type": "execute_result"
    }
   ],
   "source": [
    "d = {(0, 8): 246, (0, 4): 250, (1, 8): 233, (1, 4): 250}\n",
    "d"
   ]
  },
  {
   "cell_type": "code",
   "execution_count": 6,
   "outputs": [
    {
     "data": {
      "text/plain": "{246: (0, 8), 250: (1, 4), 233: (1, 8)}"
     },
     "execution_count": 6,
     "metadata": {},
     "output_type": "execute_result"
    }
   ],
   "source": [
    "d = {(0, 8): 246, (0, 4): 250, (1, 8): 233, (1, 4): 250}\n",
    "dd = dict(zip(d.values(), d.keys()))\n",
    "dd"
   ],
   "metadata": {
    "collapsed": false
   }
  },
  {
   "cell_type": "code",
   "execution_count": 5,
   "outputs": [
    {
     "name": "stdout",
     "output_type": "stream",
     "text": [
      "['Do Androids Dream of Electric Sheep?', 'Frankenstein']\n",
      "The Hitchhiker's Guide to the Galaxy\n"
     ]
    }
   ],
   "source": [
    "import random\n",
    "list_of_books = [\"The Hitchhiker's Guide to the Galaxy\", \"Do Androids Dream of Electric Sheep?\", \"Frankenstein\"]\n",
    "the_book = random.choice(list_of_books)\n",
    "list_of_books.remove(the_book)\n",
    "print(list_of_books)\n",
    "print(the_book)\n"
   ],
   "metadata": {
    "collapsed": false
   }
  },
  {
   "cell_type": "code",
   "execution_count": 6,
   "outputs": [
    {
     "ename": "TypeError",
     "evalue": "test() missing 1 required positional argument: 'val2'",
     "output_type": "error",
     "traceback": [
      "\u001B[1;31m---------------------------------------------------------------------------\u001B[0m",
      "\u001B[1;31mTypeError\u001B[0m                                 Traceback (most recent call last)",
      "Cell \u001B[1;32mIn[6], line 3\u001B[0m\n\u001B[0;32m      1\u001B[0m \u001B[38;5;28;01mdef\u001B[39;00m \u001B[38;5;21mtest\u001B[39m(val, val2):\n\u001B[0;32m      2\u001B[0m     \u001B[38;5;28;01mpass\u001B[39;00m\n\u001B[1;32m----> 3\u001B[0m \u001B[43mtest\u001B[49m\u001B[43m(\u001B[49m\u001B[38;5;241;43m10\u001B[39;49m\u001B[43m)\u001B[49m\n",
      "\u001B[1;31mTypeError\u001B[0m: test() missing 1 required positional argument: 'val2'"
     ]
    }
   ],
   "source": [
    "def test(val, val2) -> bytes:\n",
    "    pass\n",
    "test(10)"
   ],
   "metadata": {
    "collapsed": false
   }
  },
  {
   "cell_type": "code",
   "execution_count": null,
   "outputs": [],
   "source": [],
   "metadata": {
    "collapsed": false
   }
  }
 ],
 "metadata": {
  "kernelspec": {
   "display_name": "Python 3",
   "language": "python",
   "name": "python3"
  },
  "language_info": {
   "codemirror_mode": {
    "name": "ipython",
    "version": 2
   },
   "file_extension": ".py",
   "mimetype": "text/x-python",
   "name": "python",
   "nbconvert_exporter": "python",
   "pygments_lexer": "ipython2",
   "version": "2.7.6"
  }
 },
 "nbformat": 4,
 "nbformat_minor": 0
}
