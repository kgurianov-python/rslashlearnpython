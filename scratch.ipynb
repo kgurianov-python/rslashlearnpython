{
 "cells": [
  {
   "cell_type": "code",
   "execution_count": null,
   "metadata": {
    "collapsed": true
   },
   "outputs": [],
   "source": [
    "from pandas import DataFrame\n",
    "\n",
    "d = {(0, 8): 246, (0, 4): 250, (1, 8): 233, (1, 4): 250}\n",
    "d"
   ]
  },
  {
   "cell_type": "code",
   "execution_count": null,
   "outputs": [],
   "source": [
    "d = {(0, 8): 246, (0, 4): 250, (1, 8): 233, (1, 4): 250}\n",
    "dd = dict(zip(d.values(), d.keys()))\n",
    "dd"
   ],
   "metadata": {
    "collapsed": false
   }
  },
  {
   "cell_type": "code",
   "execution_count": null,
   "outputs": [],
   "source": [
    "import random\n",
    "\n",
    "list_of_books = [\"The Hitchhiker's Guide to the Galaxy\", \"Do Androids Dream of Electric Sheep?\", \"Frankenstein\"]\n",
    "the_book = random.choice(list_of_books)\n",
    "list_of_books.remove(the_book)\n",
    "print(list_of_books)\n",
    "print(the_book)\n"
   ],
   "metadata": {
    "collapsed": false
   }
  },
  {
   "cell_type": "code",
   "execution_count": null,
   "outputs": [],
   "source": [
    "def test(val, val2) -> bytes:\n",
    "    pass\n",
    "\n",
    "\n",
    "test(10)"
   ],
   "metadata": {
    "collapsed": false
   }
  },
  {
   "cell_type": "code",
   "execution_count": null,
   "outputs": [],
   "source": [
    "from itertools import zip_longest\n",
    "\n",
    "the_list = [1.0, 2.0, 3.3, 4.4, 5.5, 6.6, 7.7, 8.8, 9.9, 10.1, 11.11]\n",
    "\n",
    "chunk_length, remainder = divmod(len(the_list), 4)\n",
    "if remainder: chunk_length += 1\n",
    "\n",
    "res = [[i for i in item if i is not None] for item in zip_longest(*[iter(the_list)] * chunk_length)]\n",
    "res"
   ],
   "metadata": {
    "collapsed": false
   }
  },
  {
   "cell_type": "code",
   "execution_count": null,
   "outputs": [],
   "source": [
    "res = [iter(the_list)] * 4\n",
    "res"
   ],
   "metadata": {
    "collapsed": false
   }
  },
  {
   "cell_type": "code",
   "execution_count": null,
   "outputs": [],
   "source": [
    "res = [iter(the_list)] * 4\n",
    "for idx, iterator in enumerate(res):\n",
    "    print(f\"Chunk {idx} :\")\n",
    "    print(next(iterator))\n"
   ],
   "metadata": {
    "collapsed": false
   }
  },
  {
   "cell_type": "code",
   "execution_count": null,
   "outputs": [],
   "source": [
    "point = list(map(int, input(\"type the point in the format (x,y): \").split('.')))\n",
    "point"
   ],
   "metadata": {
    "collapsed": false
   }
  },
  {
   "cell_type": "code",
   "execution_count": null,
   "outputs": [],
   "source": [
    "point = [1000, 0]\n",
    "match point:\n",
    "    case (0, 0):\n",
    "        print(\"Origin\")\n",
    "    case (0, int(y)):\n",
    "        print(f\"Y={y}\")\n",
    "    case (int(x), 0):\n",
    "        print(f\"X={x}\")\n",
    "    case (int(x), int(y)):\n",
    "        print(f\"X={x}, Y={y}\")\n",
    "    case _:\n",
    "        raise ValueError(\"Not a point\")"
   ],
   "metadata": {
    "collapsed": false
   }
  },
  {
   "cell_type": "code",
   "execution_count": null,
   "outputs": [],
   "source": [
    "keys = [1, 2, 3, 4, 5, 6, 7, 8]\n",
    "values = ['1', '2', '3', '4', '5', '6', '7']\n",
    "my_dict = dict(list(zip_longest(keys, values)))\n",
    "my_dict"
   ],
   "metadata": {
    "collapsed": false
   }
  },
  {
   "cell_type": "code",
   "execution_count": null,
   "outputs": [],
   "source": [
    "int(bool(5))"
   ],
   "metadata": {
    "collapsed": false
   }
  },
  {
   "cell_type": "code",
   "execution_count": null,
   "outputs": [],
   "source": [
    "the_arr = ['eleven', 'one', 'two', 'three' ]\n",
    "the_arr.sort(key=len, reverse=True)\n",
    "the_arr"
   ],
   "metadata": {
    "collapsed": false
   }
  },
  {
   "cell_type": "code",
   "execution_count": null,
   "outputs": [],
   "source": [
    "x = (i for i in range(100))\n",
    "print(x)"
   ],
   "metadata": {
    "collapsed": false
   }
  },
  {
   "cell_type": "code",
   "execution_count": 16,
   "outputs": [
    {
     "name": "stdout",
     "output_type": "stream",
     "text": [
      "120\n"
     ]
    },
    {
     "data": {
      "text/plain": "[(1, 2, 3, 4, 5),\n (1, 2, 3, 5, 4),\n (1, 2, 4, 3, 5),\n (1, 2, 4, 5, 3),\n (1, 2, 5, 3, 4),\n (1, 2, 5, 4, 3),\n (1, 3, 2, 4, 5),\n (1, 3, 2, 5, 4),\n (1, 3, 4, 2, 5),\n (1, 3, 4, 5, 2)]"
     },
     "execution_count": 16,
     "metadata": {},
     "output_type": "execute_result"
    }
   ],
   "source": [
    "from itertools import permutations, combinations\n",
    "all_perms = list(permutations(range(1,6), 5))\n",
    "print(len(all_perms))\n",
    "all_perms[:10]"
   ],
   "metadata": {
    "collapsed": false
   }
  },
  {
   "cell_type": "code",
   "execution_count": 19,
   "outputs": [
    {
     "data": {
      "text/plain": "[12345, 12354, 12435, 12453, 12534, 12543, 13245, 13254, 13425, 13452]"
     },
     "execution_count": 19,
     "metadata": {},
     "output_type": "execute_result"
    }
   ],
   "source": [
    "def f(x): return sum(val * 10 ** (4 - idx) for idx, val in enumerate(x))\n",
    "\n",
    "vals = list(map(f, all_perms))\n",
    "vals[:10]"
   ],
   "metadata": {
    "collapsed": false
   }
  },
  {
   "cell_type": "code",
   "execution_count": 21,
   "outputs": [
    {
     "data": {
      "text/plain": "3999960"
     },
     "execution_count": 21,
     "metadata": {},
     "output_type": "execute_result"
    }
   ],
   "source": [
    "sum(vals)\n"
   ],
   "metadata": {
    "collapsed": false
   }
  },
  {
   "cell_type": "code",
   "execution_count": 33,
   "outputs": [
    {
     "data": {
      "text/plain": "2"
     },
     "execution_count": 33,
     "metadata": {},
     "output_type": "execute_result"
    }
   ],
   "source": [
    "from functools import reduce\n",
    "x = 2\n",
    "\n",
    "fact = reduce(lambda x, y: x * y, range(1, x+1), 1)\n",
    "fact"
   ],
   "metadata": {
    "collapsed": false
   }
  },
  {
   "cell_type": "code",
   "execution_count": 35,
   "outputs": [
    {
     "data": {
      "text/plain": "'This Is A String'"
     },
     "execution_count": 35,
     "metadata": {},
     "output_type": "execute_result"
    }
   ],
   "source": [
    "s = \"this is a string\"\n",
    "s = s.title()\n",
    "s"
   ],
   "metadata": {
    "collapsed": false
   }
  },
  {
   "cell_type": "code",
   "execution_count": 55,
   "outputs": [
    {
     "name": "stdout",
     "output_type": "stream",
     "text": [
      "score = 3.0\n",
      "val = 3\n"
     ]
    },
    {
     "ename": "TypeError",
     "evalue": "'int' object is not iterable",
     "output_type": "error",
     "traceback": [
      "\u001B[1;31m---------------------------------------------------------------------------\u001B[0m",
      "\u001B[1;31mTypeError\u001B[0m                                 Traceback (most recent call last)",
      "Cell \u001B[1;32mIn[55], line 14\u001B[0m\n\u001B[0;32m     12\u001B[0m val \u001B[38;5;241m=\u001B[39m round_scores([\u001B[38;5;241m1.0\u001B[39m, \u001B[38;5;241m2.0\u001B[39m, \u001B[38;5;241m3.0\u001B[39m])\n\u001B[0;32m     13\u001B[0m \u001B[38;5;28mprint\u001B[39m(\u001B[38;5;124mf\u001B[39m\u001B[38;5;124m\"\u001B[39m\u001B[38;5;132;01m{\u001B[39;00mval\u001B[38;5;250m \u001B[39m\u001B[38;5;132;01m= }\u001B[39;00m\u001B[38;5;124m\"\u001B[39m)\n\u001B[1;32m---> 14\u001B[0m \u001B[38;5;28;01mfor\u001B[39;00m i \u001B[38;5;129;01min\u001B[39;00m val:\n\u001B[0;32m     15\u001B[0m     \u001B[38;5;28mprint\u001B[39m(\u001B[38;5;124mf\u001B[39m\u001B[38;5;124m\"\u001B[39m\u001B[38;5;132;01m{\u001B[39;00mi\u001B[38;5;250m \u001B[39m\u001B[38;5;132;01m= }\u001B[39;00m\u001B[38;5;124m\"\u001B[39m)\n",
      "\u001B[1;31mTypeError\u001B[0m: 'int' object is not iterable"
     ]
    }
   ],
   "source": [
    "def round_scores(student_scores):\n",
    "    \"\"\"Round all provided student scores.\n",
    "\n",
    "    :param student_scores: list - float or int of student exam scores.\n",
    "    :return: list - student scores *rounded* to nearest integer value.\n",
    "    \"\"\"\n",
    "    while student_scores:\n",
    "        score= student_scores.pop()\n",
    "        return round(score)\n",
    "\n",
    "val = round_scores([1.0, 2.0, 3.0])\n",
    "print(f\"{val = }\")\n",
    "for i in val:\n",
    "    print(f\"{i = }\")"
   ],
   "metadata": {
    "collapsed": false
   }
  },
  {
   "cell_type": "code",
   "execution_count": 108,
   "outputs": [
    {
     "name": "stdout",
     "output_type": "stream",
     "text": [
      "list(start_dates) = ['2022-06-01', '2022-07-01', '2022-08-01', '2022-09-01', '2022-10-01', '2022-11-01', '2022-12-01', '2023-01-01', '2023-02-01', '2023-03-01', '2023-04-01', '2023-05-01']\n",
      "list(end_dates) = ['2022-06-30', '2022-07-31', '2022-08-31', '2022-09-30', '2022-10-31', '2022-11-30', '2022-12-31', '2023-01-31', '2023-02-28', '2023-03-31', '2023-04-30']\n"
     ]
    }
   ],
   "source": [
    "from dateutil.relativedelta import relativedelta\n",
    "from datetime import datetime\n",
    "from dateutil.rrule import rrule, MONTHLY\n",
    "\n",
    "start_date = '2022-06-11'\n",
    "end_date = '2023-05-10'\n",
    "\n",
    "start_date = datetime.strptime(start_date, '%Y-%m-%d')\n",
    "end_date = datetime.strptime(end_date, '%Y-%m-%d')\n",
    "\n",
    "start_dates = map(lambda x: x.strftime('%Y-%m-%d'), [dt for dt in rrule(MONTHLY, dtstart=(start_date+relativedelta(day=1)), until=end_date)])\n",
    "print(f\"{list(start_dates) = }\")\n",
    "end_dates = map(lambda x: (x + relativedelta(day=31)).strftime('%Y-%m-%d'), [dt for dt in rrule(MONTHLY, dtstart=start_date, until=end_date)])\n",
    "print(f\"{list(end_dates) = }\")\n"
   ],
   "metadata": {
    "collapsed": false
   }
  },
  {
   "cell_type": "code",
   "execution_count": 111,
   "outputs": [
    {
     "data": {
      "text/plain": "'2022-02-28'"
     },
     "execution_count": 111,
     "metadata": {},
     "output_type": "execute_result"
    }
   ],
   "source": [
    "feb_date = '2022-02-11'\n",
    "last_feb_day = datetime.strptime(feb_date, '%Y-%m-%d') + relativedelta(day=31)\n",
    "last_feb_day.strftime('%Y-%m-%d')"
   ],
   "metadata": {
    "collapsed": false
   }
  },
  {
   "cell_type": "code",
   "execution_count": 120,
   "outputs": [
    {
     "name": "stdout",
     "output_type": "stream",
     "text": [
      "Purchase ratio for column \"a\" is 50.60%\n",
      "Purchase ratio for column \"b\" is 49.00%\n",
      "Purchase ratio for column \"c\" is 51.25%\n",
      "Purchase ratio for column \"d\" is 48.45%\n",
      "Purchase ratio for column \"e\" is 50.05%\n"
     ]
    }
   ],
   "source": [
    "import random\n",
    "\n",
    "df = DataFrame({'a': [random.randrange(2) for _ in range(2000)],\n",
    "                'b': [random.randrange(2) for _ in range(2000)],\n",
    "                'c': [random.randrange(2) for _ in range(2000)],\n",
    "                'd': [random.randrange(2) for _ in range(2000)],\n",
    "                'e': [random.randrange(2) for _ in range(2000)]})\n",
    "for column in df:\n",
    "    print(f\"Purchase ratio for column \\\"{column}\\\" is {df[column].sum() / df[column].count() * 100:.2f}%\")"
   ],
   "metadata": {
    "collapsed": false
   }
  },
  {
   "cell_type": "code",
   "execution_count": 127,
   "outputs": [
    {
     "data": {
      "text/plain": "[{'type': 'something'}, {'type': 'something elaaa'}]"
     },
     "execution_count": 127,
     "metadata": {},
     "output_type": "execute_result"
    }
   ],
   "source": [
    "trades = [{\"type\": 'book_top'}, {\"type\": 'heartbeat'}, {\"type\": 'something'}, {\"type\": 'something elaaa'}]\n",
    "\n",
    "trades = list(filter(lambda x: x['type'] not in ['heartbeat', 'book_top'], trades))\n",
    "# trades = [x for x in trades if x['type'] not in ['heartbeat', 'book_top']]\n",
    "trades\n",
    "\n"
   ],
   "metadata": {
    "collapsed": false
   }
  },
  {
   "cell_type": "code",
   "execution_count": 130,
   "outputs": [
    {
     "name": "stdout",
     "output_type": "stream",
     "text": [
      "Purchase ratio for category \"a\" is 50.75%\n",
      "Purchase ratio for category \"b\" is 50.40%\n",
      "Purchase ratio for category \"c\" is 49.30%\n",
      "Purchase ratio for category \"d\" is 49.10%\n",
      "Purchase ratio for category \"e\" is 50.75%\n"
     ]
    }
   ],
   "source": [
    "df = DataFrame({'a': [random.randrange(2) for _ in range(2000)],\n",
    "                'b': [random.randrange(2) for _ in range(2000)],\n",
    "                'c': [random.randrange(2) for _ in range(2000)],\n",
    "                'd': [random.randrange(2) for _ in range(2000)],\n",
    "                'e': [random.randrange(2) for _ in range(2000)]})\n",
    "\n",
    "for column in df:\n",
    "    print(f\"Purchase ratio for category \\\"{column}\\\" is {df[column].sum() / df[column].count() * 100:.2f}%\")\n"
   ],
   "metadata": {
    "collapsed": false
   }
  },
  {
   "cell_type": "code",
   "execution_count": null,
   "outputs": [],
   "source": [
    " "
   ],
   "metadata": {
    "collapsed": false,
    "pycharm": {
     "is_executing": true
    }
   }
  },
  {
   "cell_type": "code",
   "execution_count": 121,
   "outputs": [],
   "source": [],
   "metadata": {
    "collapsed": false
   }
  }
 ],
 "metadata": {
  "kernelspec": {
   "display_name": "Python 3",
   "language": "python",
   "name": "python3"
  },
  "language_info": {
   "codemirror_mode": {
    "name": "ipython",
    "version": 2
   },
   "file_extension": ".py",
   "mimetype": "text/x-python",
   "name": "python",
   "nbconvert_exporter": "python",
   "pygments_lexer": "ipython2",
   "version": "2.7.6"
  }
 },
 "nbformat": 4,
 "nbformat_minor": 0
}
