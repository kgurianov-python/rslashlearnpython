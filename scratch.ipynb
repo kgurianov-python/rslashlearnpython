{
 "cells": [
  {
   "cell_type": "code",
   "execution_count": null,
   "metadata": {
    "collapsed": true
   },
   "outputs": [],
   "source": [
    "import time\n",
    "\n",
    "from pandas import DataFrame\n",
    "\n",
    "d = {(0, 8): 246, (0, 4): 250, (1, 8): 233, (1, 4): 250}\n",
    "d"
   ]
  },
  {
   "cell_type": "code",
   "execution_count": null,
   "outputs": [],
   "source": [
    "d = {(0, 8): 246, (0, 4): 250, (1, 8): 233, (1, 4): 250}\n",
    "dd = dict(zip(d.values(), d.keys()))\n",
    "dd"
   ],
   "metadata": {
    "collapsed": false
   }
  },
  {
   "cell_type": "code",
   "execution_count": null,
   "outputs": [],
   "source": [
    "import random\n",
    "\n",
    "list_of_books = [\"The Hitchhiker's Guide to the Galaxy\", \"Do Androids Dream of Electric Sheep?\", \"Frankenstein\"]\n",
    "the_book = random.choice(list_of_books)\n",
    "list_of_books.remove(the_book)\n",
    "print(list_of_books)\n",
    "print(the_book)\n"
   ],
   "metadata": {
    "collapsed": false
   }
  },
  {
   "cell_type": "code",
   "execution_count": null,
   "outputs": [],
   "source": [
    "def test(val, val2) -> bytes:\n",
    "    pass\n",
    "\n",
    "\n",
    "test(10)"
   ],
   "metadata": {
    "collapsed": false
   }
  },
  {
   "cell_type": "code",
   "execution_count": null,
   "outputs": [],
   "source": [
    "from itertools import zip_longest\n",
    "\n",
    "the_list = [1.0, 2.0, 3.3, 4.4, 5.5, 6.6, 7.7, 8.8, 9.9, 10.1, 11.11]\n",
    "\n",
    "chunk_length, remainder = divmod(len(the_list), 4)\n",
    "if remainder: chunk_length += 1\n",
    "\n",
    "res = [[i for i in item if i is not None] for item in zip_longest(*[iter(the_list)] * chunk_length)]\n",
    "res"
   ],
   "metadata": {
    "collapsed": false
   }
  },
  {
   "cell_type": "code",
   "execution_count": null,
   "outputs": [],
   "source": [
    "res = [iter(the_list)] * 4\n",
    "res"
   ],
   "metadata": {
    "collapsed": false
   }
  },
  {
   "cell_type": "code",
   "execution_count": null,
   "outputs": [],
   "source": [
    "res = [iter(the_list)] * 4\n",
    "for idx, iterator in enumerate(res):\n",
    "    print(f\"Chunk {idx} :\")\n",
    "    print(next(iterator))\n"
   ],
   "metadata": {
    "collapsed": false
   }
  },
  {
   "cell_type": "code",
   "execution_count": null,
   "outputs": [],
   "source": [
    "point = list(map(int, input(\"type the point in the format (x,y): \").split('.')))\n",
    "point"
   ],
   "metadata": {
    "collapsed": false
   }
  },
  {
   "cell_type": "code",
   "execution_count": null,
   "outputs": [],
   "source": [
    "point = [1000, 0]\n",
    "match point:\n",
    "    case (0, 0):\n",
    "        print(\"Origin\")\n",
    "    case (0, int(y)):\n",
    "        print(f\"Y={y}\")\n",
    "    case (int(x), 0):\n",
    "        print(f\"X={x}\")\n",
    "    case (int(x), int(y)):\n",
    "        print(f\"X={x}, Y={y}\")\n",
    "    case _:\n",
    "        raise ValueError(\"Not a point\")"
   ],
   "metadata": {
    "collapsed": false
   }
  },
  {
   "cell_type": "code",
   "execution_count": null,
   "outputs": [],
   "source": [
    "keys = [1, 2, 3, 4, 5, 6, 7, 8]\n",
    "values = ['1', '2', '3', '4', '5', '6', '7']\n",
    "my_dict = dict(list(zip_longest(keys, values)))\n",
    "my_dict"
   ],
   "metadata": {
    "collapsed": false
   }
  },
  {
   "cell_type": "code",
   "execution_count": null,
   "outputs": [],
   "source": [
    "int(bool(5))"
   ],
   "metadata": {
    "collapsed": false
   }
  },
  {
   "cell_type": "code",
   "execution_count": null,
   "outputs": [],
   "source": [
    "the_arr = ['eleven', 'one', 'two', 'three']\n",
    "the_arr.sort(key=len, reverse=True)\n",
    "the_arr"
   ],
   "metadata": {
    "collapsed": false
   }
  },
  {
   "cell_type": "code",
   "execution_count": null,
   "outputs": [],
   "source": [
    "x = (i for i in range(100))\n",
    "print(x)"
   ],
   "metadata": {
    "collapsed": false
   }
  },
  {
   "cell_type": "code",
   "execution_count": null,
   "outputs": [],
   "source": [
    "from itertools import permutations, combinations\n",
    "\n",
    "all_perms = list(permutations(range(1, 6), 5))\n",
    "print(len(all_perms))\n",
    "all_perms[:10]"
   ],
   "metadata": {
    "collapsed": false
   }
  },
  {
   "cell_type": "code",
   "execution_count": null,
   "outputs": [],
   "source": [
    "def f(x): return sum(val * 10 ** (4 - idx) for idx, val in enumerate(x))\n",
    "\n",
    "\n",
    "vals = list(map(f, all_perms))\n",
    "vals[:10]"
   ],
   "metadata": {
    "collapsed": false
   }
  },
  {
   "cell_type": "code",
   "execution_count": null,
   "outputs": [],
   "source": [
    "sum(vals)\n"
   ],
   "metadata": {
    "collapsed": false
   }
  },
  {
   "cell_type": "code",
   "execution_count": null,
   "outputs": [],
   "source": [
    "from functools import reduce\n",
    "\n",
    "x = 2\n",
    "\n",
    "fact = reduce(lambda x, y: x * y, range(1, x + 1), 1)\n",
    "fact"
   ],
   "metadata": {
    "collapsed": false
   }
  },
  {
   "cell_type": "code",
   "execution_count": null,
   "outputs": [],
   "source": [
    "s = \"this is a string\"\n",
    "s = s.title()\n",
    "s"
   ],
   "metadata": {
    "collapsed": false
   }
  },
  {
   "cell_type": "code",
   "execution_count": null,
   "outputs": [],
   "source": [
    "def round_scores(student_scores):\n",
    "    \"\"\"Round all provided student scores.\n",
    "\n",
    "    :param student_scores: list - float or int of student exam scores.\n",
    "    :return: list - student scores *rounded* to nearest integer value.\n",
    "    \"\"\"\n",
    "    while student_scores:\n",
    "        score = student_scores.pop()\n",
    "        return round(score)\n",
    "\n",
    "\n",
    "val = round_scores([1.0, 2.0, 3.0])\n",
    "print(f\"{val = }\")\n",
    "for i in val:\n",
    "    print(f\"{i = }\")"
   ],
   "metadata": {
    "collapsed": false
   }
  },
  {
   "cell_type": "code",
   "execution_count": null,
   "outputs": [],
   "source": [
    "from dateutil.relativedelta import relativedelta\n",
    "from datetime import datetime\n",
    "from dateutil.rrule import rrule, MONTHLY\n",
    "\n",
    "start_date = '2022-06-11'\n",
    "end_date = '2023-05-10'\n",
    "\n",
    "start_date = datetime.strptime(start_date, '%Y-%m-%d')\n",
    "end_date = datetime.strptime(end_date, '%Y-%m-%d')\n",
    "\n",
    "start_dates = map(lambda x: x.strftime('%Y-%m-%d'),\n",
    "                  [dt for dt in rrule(MONTHLY, dtstart=(start_date + relativedelta(day=1)), until=end_date)])\n",
    "print(f\"{list(start_dates) = }\")\n",
    "end_dates = map(lambda x: (x + relativedelta(day=31)).strftime('%Y-%m-%d'),\n",
    "                [dt for dt in rrule(MONTHLY, dtstart=start_date, until=end_date)])\n",
    "print(f\"{list(end_dates) = }\")\n"
   ],
   "metadata": {
    "collapsed": false
   }
  },
  {
   "cell_type": "code",
   "execution_count": null,
   "outputs": [],
   "source": [
    "feb_date = '2022-02-11'\n",
    "last_feb_day = datetime.strptime(feb_date, '%Y-%m-%d') + relativedelta(day=31)\n",
    "last_feb_day.strftime('%Y-%m-%d')"
   ],
   "metadata": {
    "collapsed": false
   }
  },
  {
   "cell_type": "code",
   "execution_count": null,
   "outputs": [],
   "source": [
    "import random\n",
    "\n",
    "df = DataFrame({'a': [random.randrange(2) for _ in range(2000)],\n",
    "                'b': [random.randrange(2) for _ in range(2000)],\n",
    "                'c': [random.randrange(2) for _ in range(2000)],\n",
    "                'd': [random.randrange(2) for _ in range(2000)],\n",
    "                'e': [random.randrange(2) for _ in range(2000)]})\n",
    "for column in df:\n",
    "    print(f\"Purchase ratio for column \\\"{column}\\\" is {df[column].sum() / df[column].count() * 100:.2f}%\")"
   ],
   "metadata": {
    "collapsed": false
   }
  },
  {
   "cell_type": "code",
   "execution_count": null,
   "outputs": [],
   "source": [
    "trades = [{\"type\": 'book_top'}, {\"type\": 'heartbeat'}, {\"type\": 'something'}, {\"type\": 'something elaaa'}]\n",
    "\n",
    "trades = list(filter(lambda x: x['type'] not in ['heartbeat', 'book_top'], trades))\n",
    "# trades = [x for x in trades if x['type'] not in ['heartbeat', 'book_top']]\n",
    "trades\n",
    "\n"
   ],
   "metadata": {
    "collapsed": false
   }
  },
  {
   "cell_type": "code",
   "execution_count": null,
   "outputs": [],
   "source": [
    "df = DataFrame({'a': [random.randrange(2) for _ in range(2000)],\n",
    "                'b': [random.randrange(2) for _ in range(2000)],\n",
    "                'c': [random.randrange(2) for _ in range(2000)],\n",
    "                'd': [random.randrange(2) for _ in range(2000)],\n",
    "                'e': [random.randrange(2) for _ in range(2000)]})\n",
    "\n",
    "for column in df:\n",
    "    print(f\"Purchase ratio for category \\\"{column}\\\" is {df[column].sum() / df[column].count() * 100:.2f}%\")\n"
   ],
   "metadata": {
    "collapsed": false
   }
  },
  {
   "cell_type": "code",
   "execution_count": null,
   "outputs": [],
   "source": [
    " "
   ],
   "metadata": {
    "collapsed": false
   }
  },
  {
   "cell_type": "code",
   "execution_count": null,
   "outputs": [],
   "source": [
    "import math\n",
    "\n",
    "a = [1, 2]\n",
    "b = [3, 4, math.sqrt(2), math.pi]\n",
    "c = [True if type(x) == type(y) else False for x in a for y in b]\n",
    "print(all(c))\n",
    "c"
   ],
   "metadata": {
    "collapsed": false
   }
  },
  {
   "cell_type": "code",
   "execution_count": null,
   "outputs": [],
   "source": [
    "type(math.sqrt(2))"
   ],
   "metadata": {
    "collapsed": false
   }
  },
  {
   "cell_type": "code",
   "execution_count": null,
   "outputs": [],
   "source": [
    "type(math.pi)"
   ],
   "metadata": {
    "collapsed": false
   }
  },
  {
   "cell_type": "code",
   "execution_count": null,
   "outputs": [],
   "source": [
    "c = []\n",
    "for x in a:\n",
    "    for y in b:\n",
    "        c.append(type(x) == type(y))\n",
    "\n",
    "c\n",
    "all(c)"
   ],
   "metadata": {
    "collapsed": false
   }
  },
  {
   "cell_type": "code",
   "execution_count": null,
   "outputs": [],
   "source": [
    "import pickle\n",
    "import time\n",
    "\n",
    "\n",
    "def get_primes(bound: int) -> list[int]:\n",
    "    candidates = [False, False] + ([True] * (bound - 1))\n",
    "    for idx, candidate in enumerate(candidates):\n",
    "        if candidate:\n",
    "            for i in range(idx * 2, len(candidates), idx):\n",
    "                candidates[i] = False\n",
    "    return [idx for idx, candidate in enumerate(candidates) if candidate]\n",
    "\n",
    "\n",
    "my_primes: [int] = get_primes(1_000_000)\n",
    "with open('primes.data', 'wb') as primes_dump:\n",
    "    pickle.dump(my_primes, primes_dump)\n",
    "\n",
    "with open('primes.data', 'rb') as primes_dump:\n",
    "    start = time.perf_counter()\n",
    "    primes_list: [int] = pickle.load(primes_dump)\n",
    "    print(f\"{time.perf_counter() - start : 0.8f}\")\n",
    "\n",
    "primes_list\n",
    "type(primes_list)"
   ],
   "metadata": {
    "collapsed": false
   }
  },
  {
   "cell_type": "code",
   "execution_count": null,
   "outputs": [],
   "source": [
    "from math import isqrt\n",
    "\n",
    "isqrt(150)"
   ],
   "metadata": {
    "collapsed": false
   }
  },
  {
   "cell_type": "code",
   "execution_count": null,
   "outputs": [],
   "source": [
    "True or False"
   ],
   "metadata": {
    "collapsed": false
   }
  },
  {
   "cell_type": "code",
   "execution_count": null,
   "outputs": [],
   "source": [
    "from dis import dis\n",
    "\n",
    "\n",
    "def my_func():\n",
    "    x = 10\n",
    "\n",
    "    def inner():\n",
    "        nonlocal x\n",
    "        x += 5\n",
    "\n",
    "    inner()\n",
    "    print(x)\n",
    "\n",
    "\n",
    "my_func()\n",
    "dis(my_func)"
   ],
   "metadata": {
    "collapsed": false
   }
  },
  {
   "cell_type": "code",
   "execution_count": null,
   "outputs": [],
   "source": [
    "import numpy as np\n",
    "\n",
    "mtrx0 = np.array([[1, 2, 3], [4, 5, 6], [7, 8, 9]])\n",
    "mtrx1 = np.array([[2, 4, 6], [8, 10, 12], [14, 16, 19]])\n",
    "mtrx0 @ mtrx1"
   ],
   "metadata": {
    "collapsed": false
   }
  },
  {
   "cell_type": "code",
   "execution_count": null,
   "outputs": [],
   "source": [
    "import os\n",
    "\n",
    "os.getcwd()"
   ],
   "metadata": {
    "collapsed": false
   }
  },
  {
   "cell_type": "code",
   "execution_count": null,
   "outputs": [],
   "source": [
    "a = {1, 2, 3}\n",
    "b = {1, 2, 3}\n",
    "a + b\n"
   ],
   "metadata": {
    "collapsed": false
   }
  },
  {
   "cell_type": "code",
   "execution_count": null,
   "outputs": [],
   "source": [
    "def inv_dict(dictionary: dict):\n",
    "    print(f\"Inside inv_dict before assignment: {id(dictionary) = }\")\n",
    "    dictionary = {value: key for key, value in dictionary.items()}\n",
    "    print(f\"Inside inv_dict after assignment: {id(dictionary) = }\")\n",
    "\n",
    "\n",
    "my_dict = {\"A\": \"Alice\", \"B\": \"Bob\"}\n",
    "print(f\"Outside inv_dict before assignment: {id(my_dict) = }\")\n",
    "inv_dict(my_dict)\n",
    "print(f\"Outside inv_dict after assignment: {id(my_dict) = }\")"
   ],
   "metadata": {
    "collapsed": false
   }
  },
  {
   "cell_type": "code",
   "execution_count": null,
   "outputs": [],
   "source": [
    "def alter_dict(dictionary: dict):\n",
    "    dictionary.update({value: key for key, value in dictionary.items()})\n",
    "\n",
    "\n",
    "my_dict = {\"A\": \"Alice\", \"B\": \"Bob\"}\n",
    "alter_dict(my_dict)\n",
    "print(my_dict)\n"
   ],
   "metadata": {
    "collapsed": false
   }
  },
  {
   "cell_type": "code",
   "execution_count": null,
   "outputs": [],
   "source": [
    "def my_function(arg1, arg2, **kwargs):\n",
    "    strangy = arg1 + arg2\n",
    "    if \"kwarg1\" in kwargs:\n",
    "        strangy += kwargs[\"kwarg1\"]\n",
    "    if \"kwarg2\" in kwargs:\n",
    "        strangy += kwargs[\"kwarg2\"]\n",
    "    return strangy\n",
    "\n",
    "\n",
    "my_function(1, 2, kwarg1=3, kwarg2=4)"
   ],
   "metadata": {
    "collapsed": false
   }
  },
  {
   "cell_type": "code",
   "execution_count": null,
   "outputs": [],
   "source": [
    "def add_ten(my_dict):\n",
    "    tmp_keys = list(my_dict.keys())\n",
    "    my_dict.update({value: key for key, value in my_dict.items()})\n",
    "    for key in tmp_keys:\n",
    "        del my_dict[key]\n",
    "\n",
    "\n",
    "the_dict2 = {\"A\": \"Alice\", \"B\": \"Bob\"}\n",
    "add_ten(the_dict2)\n",
    "print(the_dict2)"
   ],
   "metadata": {
    "collapsed": false
   }
  },
  {
   "cell_type": "code",
   "execution_count": null,
   "outputs": [],
   "source": [
    "def reassign_add_ten(my_dict: {int: [int]}):\n",
    "    print(f\"{my_dict = }\")\n",
    "    my_dict = {value: key for key, value in my_dict.items()}\n",
    "    print(f\"{my_dict = }\")\n",
    "\n",
    "\n",
    "the_dict2 = {\"A\": \"Alice\", \"B\": \"Bob\"}\n",
    "print(f\"{the_dict2 = }\")\n",
    "reassign_add_ten(the_dict2)\n",
    "print(f\"{the_dict2 = }\")"
   ],
   "metadata": {
    "collapsed": false
   }
  },
  {
   "cell_type": "code",
   "execution_count": null,
   "outputs": [],
   "source": [
    "def add_ten(my_list: list):\n",
    "    my_list = [item * 10 for item in my_list]\n",
    "    print(my_list)\n",
    "\n",
    "\n",
    "nums = [1, 2, 3]\n",
    "add_ten(nums)\n",
    "print(nums)"
   ],
   "metadata": {
    "collapsed": false
   }
  },
  {
   "cell_type": "code",
   "execution_count": null,
   "outputs": [],
   "source": [
    "def add_ten(my_list: list):\n",
    "    for idx, item in enumerate(my_list):\n",
    "        my_list[idx] = my_list[idx] * 10\n",
    "    print(my_list)\n",
    "\n",
    "\n",
    "nums = [1, 2, 3]\n",
    "add_ten(nums)\n",
    "print(nums)"
   ],
   "metadata": {
    "collapsed": false
   }
  },
  {
   "cell_type": "code",
   "execution_count": 3,
   "outputs": [
    {
     "name": "stdout",
     "output_type": "stream",
     "text": [
      "(6, 7, 8)\n"
     ]
    }
   ],
   "source": [
    "Python = (4, 5, 6, 7, 8)\n",
    "Python = Python[2:]\n",
    "Python = Python[2:] + (8,)\n",
    "\n",
    "print(Python)"
   ],
   "metadata": {
    "collapsed": false
   }
  },
  {
   "cell_type": "code",
   "execution_count": 31,
   "outputs": [
    {
     "name": "stdout",
     "output_type": "stream",
     "text": [
      "True\n"
     ]
    }
   ],
   "source": [
    "a, b, c = False, None, []\n",
    "print(not a if a or b else c)"
   ],
   "metadata": {
    "collapsed": false
   }
  },
  {
   "cell_type": "code",
   "execution_count": 34,
   "outputs": [
    {
     "name": "stdout",
     "output_type": "stream",
     "text": [
      "x\n"
     ]
    }
   ],
   "source": [
    "a = \"x\" or None\n",
    "print(a)"
   ],
   "metadata": {
    "collapsed": false
   }
  },
  {
   "cell_type": "code",
   "execution_count": 39,
   "outputs": [
    {
     "name": "stdout",
     "output_type": "stream",
     "text": [
      "(1, 2, 3)\n"
     ]
    }
   ],
   "source": [
    "def func(a):\n",
    "    if type(a) == list:\n",
    "        a[0] = 2\n",
    "    return x\n",
    "\n",
    "\n",
    "x = (1, 2, 3)\n",
    "print(func(x))"
   ],
   "metadata": {
    "collapsed": false
   }
  },
  {
   "cell_type": "code",
   "execution_count": 40,
   "outputs": [
    {
     "name": "stdout",
     "output_type": "stream",
     "text": [
      "[16]\n"
     ]
    }
   ],
   "source": [
    "def func(lst):\n",
    "    for i in range(len(lst)):\n",
    "        lst[i] *= lst[i]\n",
    "    return lst\n",
    "\n",
    "\n",
    "lst = [2]\n",
    "func(lst)\n",
    "print(func(lst))"
   ],
   "metadata": {
    "collapsed": false
   }
  },
  {
   "cell_type": "code",
   "execution_count": 42,
   "outputs": [],
   "source": [
    "from numpy import stack\n",
    "\n",
    "a = stack([1, 2, 3, 4])\n",
    "\n",
    "\n",
    "\n",
    "\n"
   ],
   "metadata": {
    "collapsed": false
   }
  },
  {
   "cell_type": "code",
   "execution_count": 55,
   "outputs": [
    {
     "name": "stdout",
     "output_type": "stream",
     "text": [
      "[200]\n"
     ]
    }
   ],
   "source": [
    "def multiply_func(x: int):\n",
    "    x[0] *= 10\n",
    "    return [value[0] * 2]\n",
    "\n",
    "\n",
    "value = [10]\n",
    "value = multiply_func(value)\n",
    "print(value)\n"
   ],
   "metadata": {
    "collapsed": false
   }
  },
  {
   "cell_type": "code",
   "execution_count": null,
   "outputs": [],
   "source": [],
   "metadata": {
    "collapsed": false
   }
  },
  {
   "cell_type": "markdown",
   "source": [
    "Get Data"
   ],
   "metadata": {
    "collapsed": false
   }
  },
  {
   "cell_type": "code",
   "execution_count": 57,
   "outputs": [],
   "source": [],
   "metadata": {
    "collapsed": false
   }
  },
  {
   "cell_type": "code",
   "execution_count": 86,
   "outputs": [
    {
     "name": "stdout",
     "output_type": "stream",
     "text": [
      "Adding df to 0\n",
      "Adding df to 1\n",
      "   a  b  ID_Num\n",
      "0  1  4       1\n",
      "1  2  5       1\n",
      "2  3  6       1\n",
      "   a  b  ID_Num\n",
      "0  1  4       0\n",
      "1  2  5       0\n",
      "2  3  6       0\n"
     ]
    }
   ],
   "source": [
    "import itertools\n",
    "\n",
    "\n",
    "class Parent():\n",
    "    counter = itertools.count()\n",
    "\n",
    "\n",
    "class Child(Parent):\n",
    "\n",
    "    def __init__(self):\n",
    "        self.id = next(Parent.counter)\n",
    "\n",
    "    def add_df(self, df):\n",
    "        self.df = df\n",
    "        self.df[\"ID_Num\"] = self.id\n",
    "\n",
    "\n",
    "class DF_adder:\n",
    "    def __init__(self, d1, d2, df):\n",
    "        self.d1 = d1\n",
    "        self.d2 = d2\n",
    "        self.df = df\n",
    "\n",
    "    def add_df(self):\n",
    "        for daughter in [self.d1, self.d2]:\n",
    "            print(f\"Adding df to {daughter.id}\")\n",
    "            daughter.add_df(self.df.copy())\n",
    "\n",
    "\n",
    "ch1 = Child()\n",
    "ch2 = Child()\n",
    "\n",
    "ch1.id, ch2.id\n",
    "a = DF_adder(ch1, ch2, DataFrame({\"a\": [1, 2, 3], \"b\": [4, 5, 6]}))\n",
    "a.add_df()\n",
    "print(ch2.df)\n",
    "print(ch1.df)\n"
   ],
   "metadata": {
    "collapsed": false
   }
  },
  {
   "cell_type": "code",
   "execution_count": 91,
   "outputs": [
    {
     "data": {
      "text/plain": "8"
     },
     "execution_count": 91,
     "metadata": {},
     "output_type": "execute_result"
    }
   ],
   "source": [
    "from collections import Counter\n",
    "\n",
    "arr = [1, 2, 3, 4, 5, 6, 7, 8, 8, 8, 8, 8, 8]\n",
    "counter = Counter(arr)\n",
    "\n",
    "max(counter, key=counter.get)"
   ],
   "metadata": {
    "collapsed": false
   }
  },
  {
   "cell_type": "code",
   "execution_count": 92,
   "outputs": [
    {
     "data": {
      "text/plain": "sys.version_info(major=3, minor=11, micro=1, releaselevel='final', serial=0)"
     },
     "execution_count": 92,
     "metadata": {},
     "output_type": "execute_result"
    }
   ],
   "source": [
    "print(sys.version_info)"
   ],
   "metadata": {
    "collapsed": false
   }
  },
  {
   "cell_type": "code",
   "execution_count": 97,
   "outputs": [
    {
     "name": "stdout",
     "output_type": "stream",
     "text": [
      "2.28.2\n"
     ]
    }
   ],
   "source": [
    "\n",
    "import requests\n",
    "\n",
    "print(requests.__version__)"
   ],
   "metadata": {
    "collapsed": false
   }
  },
  {
   "cell_type": "code",
   "execution_count": 103,
   "outputs": [
    {
     "name": "stdout",
     "output_type": "stream",
     "text": [
      "4\n",
      "11\n"
     ]
    }
   ],
   "source": [
    "s = \"learn Python\"\n",
    "print(s.index(\"n\"))\n",
    "print(s.rindex(\"n\"))\n"
   ],
   "metadata": {
    "collapsed": false
   }
  },
  {
   "cell_type": "code",
   "execution_count": 108,
   "outputs": [
    {
     "name": "stdout",
     "output_type": "stream",
     "text": [
      "0 0, 0 1, 0 2, 1 0, 1 1, 1 2, 2 0, 2 1, 2 2, "
     ]
    }
   ],
   "source": [
    "for i in range(3):\n",
    "    for j in range(3):\n",
    "        print(i, j, end=', ')"
   ],
   "metadata": {
    "collapsed": false
   }
  },
  {
   "cell_type": "code",
   "execution_count": 119,
   "outputs": [
    {
     "data": {
      "text/plain": "['P', 'y', 't', 'h', 'o', 'n']"
     },
     "execution_count": 119,
     "metadata": {},
     "output_type": "execute_result"
    }
   ],
   "source": [
    "some_string = \"Python\"\n",
    "some_list = [None] * len(some_string)\n",
    "for i, some_list[i] in enumerate(some_string):\n",
    "    i = 10\n",
    "\n",
    "some_list"
   ],
   "metadata": {
    "collapsed": false
   }
  },
  {
   "cell_type": "code",
   "execution_count": 122,
   "outputs": [
    {
     "data": {
      "text/plain": "(1, 'y')"
     },
     "execution_count": 122,
     "metadata": {},
     "output_type": "execute_result"
    }
   ],
   "source": [
    "a = enumerate(\"Python\")\n",
    "next(a)\n",
    "next(a)\n"
   ],
   "metadata": {
    "collapsed": false
   }
  },
  {
   "cell_type": "code",
   "execution_count": 16,
   "outputs": [
    {
     "name": "stdout",
     "output_type": "stream",
     "text": [
      "user_status['user1'] = False\n",
      "user_status['user2'] = True\n"
     ]
    }
   ],
   "source": [
    "from collections import defaultdict\n",
    "\n",
    "user_status = defaultdict(bool)\n",
    "print(f\"{user_status['user1'] = }\")\n",
    "user_status['user2'] = True\n",
    "print(f\"{user_status['user2'] = }\")"
   ],
   "metadata": {
    "collapsed": false
   }
  },
  {
   "cell_type": "code",
   "execution_count": 19,
   "outputs": [
    {
     "name": "stdout",
     "output_type": "stream",
     "text": [
      "<class 'tuple'>\n"
     ]
    }
   ],
   "source": [
    "mixed = \"s5r4\", {2}, 5\n",
    "print(type(mixed))"
   ],
   "metadata": {
    "collapsed": false
   }
  },
  {
   "cell_type": "code",
   "execution_count": 80,
   "outputs": [
    {
     "name": "stdout",
     "output_type": "stream",
     "text": [
      "defaultdict(<class 'bool'>, {'user0': False, 'user1': False, 'user2': False, 'user3': False, 'user4': False, 'user5': False, 'user6': False, 'user7': False, 'user8': False, 'user9': False})\n"
     ]
    },
    {
     "ename": "KeyError",
     "evalue": "'kjhftghkj'",
     "output_type": "error",
     "traceback": [
      "\u001B[1;31m---------------------------------------------------------------------------\u001B[0m",
      "\u001B[1;31mKeyError\u001B[0m                                  Traceback (most recent call last)",
      "Cell \u001B[1;32mIn[80], line 6\u001B[0m\n\u001B[0;32m      3\u001B[0m pwd_dict\u001B[38;5;241m.\u001B[39mupdate({\u001B[38;5;124mf\u001B[39m\u001B[38;5;124m'\u001B[39m\u001B[38;5;124muser\u001B[39m\u001B[38;5;132;01m{\u001B[39;00mi\u001B[38;5;132;01m}\u001B[39;00m\u001B[38;5;124m'\u001B[39m:\u001B[38;5;28;01mFalse\u001B[39;00m \u001B[38;5;28;01mfor\u001B[39;00m i \u001B[38;5;129;01min\u001B[39;00m \u001B[38;5;28mrange\u001B[39m(\u001B[38;5;241m10\u001B[39m)})\n\u001B[0;32m      4\u001B[0m \u001B[38;5;28mprint\u001B[39m(pwd_dict)\n\u001B[1;32m----> 6\u001B[0m \u001B[38;5;28mprint\u001B[39m(\u001B[43mtimeit\u001B[49m\u001B[38;5;241;43m.\u001B[39;49m\u001B[43mtimeit\u001B[49m\u001B[43m(\u001B[49m\u001B[38;5;124;43m\"\u001B[39;49m\u001B[38;5;124;43mpwd_dict[\u001B[39;49m\u001B[38;5;124;43m'\u001B[39;49m\u001B[38;5;124;43mkjhftghkj\u001B[39;49m\u001B[38;5;124;43m'\u001B[39;49m\u001B[38;5;124;43m]\u001B[39;49m\u001B[38;5;124;43m\"\u001B[39;49m\u001B[43m,\u001B[49m\u001B[43m \u001B[49m\u001B[43msetup\u001B[49m\u001B[43m \u001B[49m\u001B[38;5;241;43m=\u001B[39;49m\u001B[43m \u001B[49m\u001B[38;5;124;43m\"\u001B[39;49m\u001B[38;5;124;43mfrom collections import defaultdict; pwd_dict= defaultdict(bool).fromkeys([f\u001B[39;49m\u001B[38;5;124;43m'\u001B[39;49m\u001B[38;5;124;43muser\u001B[39;49m\u001B[38;5;132;43;01m{i}\u001B[39;49;00m\u001B[38;5;124;43m'\u001B[39;49m\u001B[38;5;124;43m for i in range(1_000_000)], False)\u001B[39;49m\u001B[38;5;124;43m\"\u001B[39;49m\u001B[43m)\u001B[49m)\n\u001B[0;32m      7\u001B[0m \u001B[38;5;28mprint\u001B[39m(timeit\u001B[38;5;241m.\u001B[39mtimeit(\u001B[38;5;124m\"\u001B[39m\u001B[38;5;124m'\u001B[39m\u001B[38;5;124mkjhftghkj\u001B[39m\u001B[38;5;124m'\u001B[39m\u001B[38;5;124m in pwd_set\u001B[39m\u001B[38;5;124m\"\u001B[39m, setup\u001B[38;5;241m=\u001B[39m\u001B[38;5;124m\"\u001B[39m\u001B[38;5;124mpwd_set = \u001B[39m\u001B[38;5;124m{\u001B[39m\u001B[38;5;124mf\u001B[39m\u001B[38;5;124m'\u001B[39m\u001B[38;5;124muser\u001B[39m\u001B[38;5;132;01m{i}\u001B[39;00m\u001B[38;5;124m'\u001B[39m\u001B[38;5;124m for i in range(1_000_000)}\u001B[39m\u001B[38;5;124m\"\u001B[39m))\n",
      "File \u001B[1;32m~\\.pyenv\\pyenv-win\\versions\\3.11.1\\Lib\\timeit.py:234\u001B[0m, in \u001B[0;36mtimeit\u001B[1;34m(stmt, setup, timer, number, globals)\u001B[0m\n\u001B[0;32m    231\u001B[0m \u001B[38;5;28;01mdef\u001B[39;00m \u001B[38;5;21mtimeit\u001B[39m(stmt\u001B[38;5;241m=\u001B[39m\u001B[38;5;124m\"\u001B[39m\u001B[38;5;124mpass\u001B[39m\u001B[38;5;124m\"\u001B[39m, setup\u001B[38;5;241m=\u001B[39m\u001B[38;5;124m\"\u001B[39m\u001B[38;5;124mpass\u001B[39m\u001B[38;5;124m\"\u001B[39m, timer\u001B[38;5;241m=\u001B[39mdefault_timer,\n\u001B[0;32m    232\u001B[0m            number\u001B[38;5;241m=\u001B[39mdefault_number, \u001B[38;5;28mglobals\u001B[39m\u001B[38;5;241m=\u001B[39m\u001B[38;5;28;01mNone\u001B[39;00m):\n\u001B[0;32m    233\u001B[0m \u001B[38;5;250m    \u001B[39m\u001B[38;5;124;03m\"\"\"Convenience function to create Timer object and call timeit method.\"\"\"\u001B[39;00m\n\u001B[1;32m--> 234\u001B[0m     \u001B[38;5;28;01mreturn\u001B[39;00m \u001B[43mTimer\u001B[49m\u001B[43m(\u001B[49m\u001B[43mstmt\u001B[49m\u001B[43m,\u001B[49m\u001B[43m \u001B[49m\u001B[43msetup\u001B[49m\u001B[43m,\u001B[49m\u001B[43m \u001B[49m\u001B[43mtimer\u001B[49m\u001B[43m,\u001B[49m\u001B[43m \u001B[49m\u001B[38;5;28;43mglobals\u001B[39;49m\u001B[43m)\u001B[49m\u001B[38;5;241;43m.\u001B[39;49m\u001B[43mtimeit\u001B[49m\u001B[43m(\u001B[49m\u001B[43mnumber\u001B[49m\u001B[43m)\u001B[49m\n",
      "File \u001B[1;32m~\\.pyenv\\pyenv-win\\versions\\3.11.1\\Lib\\timeit.py:178\u001B[0m, in \u001B[0;36mTimer.timeit\u001B[1;34m(self, number)\u001B[0m\n\u001B[0;32m    176\u001B[0m gc\u001B[38;5;241m.\u001B[39mdisable()\n\u001B[0;32m    177\u001B[0m \u001B[38;5;28;01mtry\u001B[39;00m:\n\u001B[1;32m--> 178\u001B[0m     timing \u001B[38;5;241m=\u001B[39m \u001B[38;5;28;43mself\u001B[39;49m\u001B[38;5;241;43m.\u001B[39;49m\u001B[43minner\u001B[49m\u001B[43m(\u001B[49m\u001B[43mit\u001B[49m\u001B[43m,\u001B[49m\u001B[43m \u001B[49m\u001B[38;5;28;43mself\u001B[39;49m\u001B[38;5;241;43m.\u001B[39;49m\u001B[43mtimer\u001B[49m\u001B[43m)\u001B[49m\n\u001B[0;32m    179\u001B[0m \u001B[38;5;28;01mfinally\u001B[39;00m:\n\u001B[0;32m    180\u001B[0m     \u001B[38;5;28;01mif\u001B[39;00m gcold:\n",
      "File \u001B[1;32m<timeit-src>:6\u001B[0m, in \u001B[0;36minner\u001B[1;34m(_it, _timer)\u001B[0m\n",
      "\u001B[1;31mKeyError\u001B[0m: 'kjhftghkj'"
     ]
    }
   ],
   "source": [
    "import timeit\n",
    "\n",
    "pwd_dict = defaultdict(bool)\n",
    "pwd_dict.update({f'user{i}': False for i in range(10)})\n",
    "print(pwd_dict)\n",
    "\n",
    "print(timeit.timeit(\"pwd_dict['kjhftghkj']\",\n",
    "                    setup=\"from collections import defaultdict; pwd_dict= defaultdict(bool).fromkeys([f'user{i}' for i in range(1_000_000)], False)\"))\n",
    "print(timeit.timeit(\"'kjhftghkj' in pwd_set\", setup=\"pwd_set = {f'user{i}' for i in range(1_000_000)}\"))"
   ],
   "metadata": {
    "collapsed": false
   }
  },
  {
   "cell_type": "code",
   "execution_count": 95,
   "outputs": [
    {
     "name": "stdout",
     "output_type": "stream",
     "text": [
      "True False False\n",
      "False\n"
     ]
    },
    {
     "data": {
      "text/plain": "False"
     },
     "execution_count": 95,
     "metadata": {},
     "output_type": "execute_result"
    }
   ],
   "source": [
    "x = 5\n",
    "y = 10\n",
    "x = (x > 10 or y > 5)\n",
    "y = not (x < 10 and y > 5)\n",
    "z = (x and y)\n",
    "print(x, y, z)\n",
    "print(z.__or__(y))\n",
    "False.__or__(False)"
   ],
   "metadata": {
    "collapsed": false
   }
  },
  {
   "cell_type": "code",
   "execution_count": 94,
   "outputs": [
    {
     "data": {
      "text/plain": "True"
     },
     "execution_count": 94,
     "metadata": {},
     "output_type": "execute_result"
    }
   ],
   "source": [
    "val = True < 10\n",
    "val"
   ],
   "metadata": {
    "collapsed": false
   }
  },
  {
   "cell_type": "code",
   "execution_count": 13,
   "outputs": [
    {
     "name": "stdout",
     "output_type": "stream",
     "text": [
      "[7, 7]\n",
      "False\n",
      "[7, 7]\n",
      "True\n"
     ]
    }
   ],
   "source": [
    "a = [7]\n",
    "b = [7]\n",
    "a = a*2\n",
    "print(a)\n",
    "print((a == b.extend(b)))\n",
    "print(b)\n",
    "print(a == b)\n"
   ],
   "metadata": {
    "collapsed": false
   }
  },
  {
   "cell_type": "code",
   "execution_count": 20,
   "outputs": [
    {
     "name": "stdout",
     "output_type": "stream",
     "text": [
      "<function outer.<locals>.inner at 0x0000027B6A2F7600>\n",
      "[100, 101, 102]\n"
     ]
    }
   ],
   "source": [
    "def outer():\n",
    "    some_list = []\n",
    "    def inner(value):\n",
    "        some_list.append(value)\n",
    "        return some_list\n",
    "    return inner\n",
    "\n",
    "f = outer()\n",
    "print(f)\n",
    "f(100)\n",
    "f(101)\n",
    "print(f(102))\n"
   ],
   "metadata": {
    "collapsed": false
   }
  },
  {
   "cell_type": "code",
   "execution_count": 22,
   "outputs": [
    {
     "name": "stdout",
     "output_type": "stream",
     "text": [
      "b = [7]\n",
      "#############\n",
      "b.extend(b) = None\n",
      "b = [7, 7]\n"
     ]
    }
   ],
   "source": [
    "b = [7]\n",
    "print(f\"{b = }\")\n",
    "print(\"#\"*13)\n",
    "print(f\"{b.extend(b) = }\")\n",
    "print(f\"{b = }\")"
   ],
   "metadata": {
    "collapsed": false
   }
  },
  {
   "cell_type": "code",
   "execution_count": 25,
   "outputs": [
    {
     "ename": "StopIteration",
     "evalue": "",
     "output_type": "error",
     "traceback": [
      "\u001B[1;31m---------------------------------------------------------------------------\u001B[0m",
      "\u001B[1;31mStopIteration\u001B[0m                             Traceback (most recent call last)",
      "Cell \u001B[1;32mIn[25], line 8\u001B[0m\n\u001B[0;32m      6\u001B[0m \u001B[38;5;28mnext\u001B[39m(x)\n\u001B[0;32m      7\u001B[0m \u001B[38;5;28mnext\u001B[39m(x)\n\u001B[1;32m----> 8\u001B[0m \u001B[38;5;28;43mnext\u001B[39;49m\u001B[43m(\u001B[49m\u001B[43mx\u001B[49m\u001B[43m)\u001B[49m\n",
      "\u001B[1;31mStopIteration\u001B[0m: "
     ]
    }
   ],
   "source": [
    "def numbers():\n",
    "    yield 1\n",
    "    yield 2\n",
    "\n",
    "x = numbers()\n",
    "next(x)\n",
    "next(x)\n",
    "next(x)"
   ],
   "metadata": {
    "collapsed": false
   }
  },
  {
   "cell_type": "code",
   "execution_count": 33,
   "outputs": [
    {
     "data": {
      "text/plain": "1"
     },
     "execution_count": 33,
     "metadata": {},
     "output_type": "execute_result"
    }
   ],
   "source": [
    "test = ()\n",
    "test = test+(10,)\n",
    "len(test)"
   ],
   "metadata": {
    "collapsed": false
   }
  },
  {
   "cell_type": "code",
   "execution_count": null,
   "outputs": [],
   "source": [],
   "metadata": {
    "collapsed": false
   }
  }
 ],
 "metadata": {
  "kernelspec": {
   "display_name": "Python 3",
   "language": "python",
   "name": "python3"
  },
  "language_info": {
   "codemirror_mode": {
    "name": "ipython",
    "version": 2
   },
   "file_extension": ".py",
   "mimetype": "text/x-python",
   "name": "python",
   "nbconvert_exporter": "python",
   "pygments_lexer": "ipython2",
   "version": "2.7.6"
  }
 },
 "nbformat": 4,
 "nbformat_minor": 0
}
