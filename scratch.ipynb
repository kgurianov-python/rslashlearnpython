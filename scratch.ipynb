{
 "cells": [
  {
   "cell_type": "code",
   "execution_count": null,
   "metadata": {
    "collapsed": true
   },
   "outputs": [],
   "source": [
    "import time\n",
    "\n",
    "from pandas import DataFrame\n",
    "\n",
    "d = {(0, 8): 246, (0, 4): 250, (1, 8): 233, (1, 4): 250}\n",
    "d"
   ]
  },
  {
   "cell_type": "code",
   "execution_count": null,
   "outputs": [],
   "source": [
    "d = {(0, 8): 246, (0, 4): 250, (1, 8): 233, (1, 4): 250}\n",
    "dd = dict(zip(d.values(), d.keys()))\n",
    "dd"
   ],
   "metadata": {
    "collapsed": false
   }
  },
  {
   "cell_type": "code",
   "execution_count": null,
   "outputs": [],
   "source": [
    "import random\n",
    "\n",
    "list_of_books = [\"The Hitchhiker's Guide to the Galaxy\", \"Do Androids Dream of Electric Sheep?\", \"Frankenstein\"]\n",
    "the_book = random.choice(list_of_books)\n",
    "list_of_books.remove(the_book)\n",
    "print(list_of_books)\n",
    "print(the_book)\n"
   ],
   "metadata": {
    "collapsed": false
   }
  },
  {
   "cell_type": "code",
   "execution_count": null,
   "outputs": [],
   "source": [
    "def test(val, val2) -> bytes:\n",
    "    pass\n",
    "\n",
    "\n",
    "test(10)"
   ],
   "metadata": {
    "collapsed": false
   }
  },
  {
   "cell_type": "code",
   "execution_count": null,
   "outputs": [],
   "source": [
    "from itertools import zip_longest\n",
    "\n",
    "the_list = [1.0, 2.0, 3.3, 4.4, 5.5, 6.6, 7.7, 8.8, 9.9, 10.1, 11.11]\n",
    "\n",
    "chunk_length, remainder = divmod(len(the_list), 4)\n",
    "if remainder: chunk_length += 1\n",
    "\n",
    "res = [[i for i in item if i is not None] for item in zip_longest(*[iter(the_list)] * chunk_length)]\n",
    "res"
   ],
   "metadata": {
    "collapsed": false
   }
  },
  {
   "cell_type": "code",
   "execution_count": null,
   "outputs": [],
   "source": [
    "res = [iter(the_list)] * 4\n",
    "res"
   ],
   "metadata": {
    "collapsed": false
   }
  },
  {
   "cell_type": "code",
   "execution_count": null,
   "outputs": [],
   "source": [
    "res = [iter(the_list)] * 4\n",
    "for idx, iterator in enumerate(res):\n",
    "    print(f\"Chunk {idx} :\")\n",
    "    print(next(iterator))\n"
   ],
   "metadata": {
    "collapsed": false
   }
  },
  {
   "cell_type": "code",
   "execution_count": null,
   "outputs": [],
   "source": [
    "point = list(map(int, input(\"type the point in the format (x,y): \").split('.')))\n",
    "point"
   ],
   "metadata": {
    "collapsed": false
   }
  },
  {
   "cell_type": "code",
   "execution_count": null,
   "outputs": [],
   "source": [
    "point = [1000, 0]\n",
    "match point:\n",
    "    case (0, 0):\n",
    "        print(\"Origin\")\n",
    "    case (0, int(y)):\n",
    "        print(f\"Y={y}\")\n",
    "    case (int(x), 0):\n",
    "        print(f\"X={x}\")\n",
    "    case (int(x), int(y)):\n",
    "        print(f\"X={x}, Y={y}\")\n",
    "    case _:\n",
    "        raise ValueError(\"Not a point\")"
   ],
   "metadata": {
    "collapsed": false
   }
  },
  {
   "cell_type": "code",
   "execution_count": null,
   "outputs": [],
   "source": [
    "keys = [1, 2, 3, 4, 5, 6, 7, 8]\n",
    "values = ['1', '2', '3', '4', '5', '6', '7']\n",
    "my_dict = dict(list(zip_longest(keys, values)))\n",
    "my_dict"
   ],
   "metadata": {
    "collapsed": false
   }
  },
  {
   "cell_type": "code",
   "execution_count": null,
   "outputs": [],
   "source": [
    "int(bool(5))"
   ],
   "metadata": {
    "collapsed": false
   }
  },
  {
   "cell_type": "code",
   "execution_count": null,
   "outputs": [],
   "source": [
    "the_arr = ['eleven', 'one', 'two', 'three' ]\n",
    "the_arr.sort(key=len, reverse=True)\n",
    "the_arr"
   ],
   "metadata": {
    "collapsed": false
   }
  },
  {
   "cell_type": "code",
   "execution_count": null,
   "outputs": [],
   "source": [
    "x = (i for i in range(100))\n",
    "print(x)"
   ],
   "metadata": {
    "collapsed": false
   }
  },
  {
   "cell_type": "code",
   "execution_count": null,
   "outputs": [],
   "source": [
    "from itertools import permutations, combinations\n",
    "all_perms = list(permutations(range(1,6), 5))\n",
    "print(len(all_perms))\n",
    "all_perms[:10]"
   ],
   "metadata": {
    "collapsed": false
   }
  },
  {
   "cell_type": "code",
   "execution_count": null,
   "outputs": [],
   "source": [
    "def f(x): return sum(val * 10 ** (4 - idx) for idx, val in enumerate(x))\n",
    "\n",
    "vals = list(map(f, all_perms))\n",
    "vals[:10]"
   ],
   "metadata": {
    "collapsed": false
   }
  },
  {
   "cell_type": "code",
   "execution_count": null,
   "outputs": [],
   "source": [
    "sum(vals)\n"
   ],
   "metadata": {
    "collapsed": false
   }
  },
  {
   "cell_type": "code",
   "execution_count": null,
   "outputs": [],
   "source": [
    "from functools import reduce\n",
    "x = 2\n",
    "\n",
    "fact = reduce(lambda x, y: x * y, range(1, x+1), 1)\n",
    "fact"
   ],
   "metadata": {
    "collapsed": false
   }
  },
  {
   "cell_type": "code",
   "execution_count": null,
   "outputs": [],
   "source": [
    "s = \"this is a string\"\n",
    "s = s.title()\n",
    "s"
   ],
   "metadata": {
    "collapsed": false
   }
  },
  {
   "cell_type": "code",
   "execution_count": null,
   "outputs": [],
   "source": [
    "def round_scores(student_scores):\n",
    "    \"\"\"Round all provided student scores.\n",
    "\n",
    "    :param student_scores: list - float or int of student exam scores.\n",
    "    :return: list - student scores *rounded* to nearest integer value.\n",
    "    \"\"\"\n",
    "    while student_scores:\n",
    "        score= student_scores.pop()\n",
    "        return round(score)\n",
    "\n",
    "val = round_scores([1.0, 2.0, 3.0])\n",
    "print(f\"{val = }\")\n",
    "for i in val:\n",
    "    print(f\"{i = }\")"
   ],
   "metadata": {
    "collapsed": false
   }
  },
  {
   "cell_type": "code",
   "execution_count": null,
   "outputs": [],
   "source": [
    "from dateutil.relativedelta import relativedelta\n",
    "from datetime import datetime\n",
    "from dateutil.rrule import rrule, MONTHLY\n",
    "\n",
    "start_date = '2022-06-11'\n",
    "end_date = '2023-05-10'\n",
    "\n",
    "start_date = datetime.strptime(start_date, '%Y-%m-%d')\n",
    "end_date = datetime.strptime(end_date, '%Y-%m-%d')\n",
    "\n",
    "start_dates = map(lambda x: x.strftime('%Y-%m-%d'), [dt for dt in rrule(MONTHLY, dtstart=(start_date+relativedelta(day=1)), until=end_date)])\n",
    "print(f\"{list(start_dates) = }\")\n",
    "end_dates = map(lambda x: (x + relativedelta(day=31)).strftime('%Y-%m-%d'), [dt for dt in rrule(MONTHLY, dtstart=start_date, until=end_date)])\n",
    "print(f\"{list(end_dates) = }\")\n"
   ],
   "metadata": {
    "collapsed": false
   }
  },
  {
   "cell_type": "code",
   "execution_count": null,
   "outputs": [],
   "source": [
    "feb_date = '2022-02-11'\n",
    "last_feb_day = datetime.strptime(feb_date, '%Y-%m-%d') + relativedelta(day=31)\n",
    "last_feb_day.strftime('%Y-%m-%d')"
   ],
   "metadata": {
    "collapsed": false
   }
  },
  {
   "cell_type": "code",
   "execution_count": null,
   "outputs": [],
   "source": [
    "import random\n",
    "\n",
    "df = DataFrame({'a': [random.randrange(2) for _ in range(2000)],\n",
    "                'b': [random.randrange(2) for _ in range(2000)],\n",
    "                'c': [random.randrange(2) for _ in range(2000)],\n",
    "                'd': [random.randrange(2) for _ in range(2000)],\n",
    "                'e': [random.randrange(2) for _ in range(2000)]})\n",
    "for column in df:\n",
    "    print(f\"Purchase ratio for column \\\"{column}\\\" is {df[column].sum() / df[column].count() * 100:.2f}%\")"
   ],
   "metadata": {
    "collapsed": false
   }
  },
  {
   "cell_type": "code",
   "execution_count": null,
   "outputs": [],
   "source": [
    "trades = [{\"type\": 'book_top'}, {\"type\": 'heartbeat'}, {\"type\": 'something'}, {\"type\": 'something elaaa'}]\n",
    "\n",
    "trades = list(filter(lambda x: x['type'] not in ['heartbeat', 'book_top'], trades))\n",
    "# trades = [x for x in trades if x['type'] not in ['heartbeat', 'book_top']]\n",
    "trades\n",
    "\n"
   ],
   "metadata": {
    "collapsed": false
   }
  },
  {
   "cell_type": "code",
   "execution_count": null,
   "outputs": [],
   "source": [
    "df = DataFrame({'a': [random.randrange(2) for _ in range(2000)],\n",
    "                'b': [random.randrange(2) for _ in range(2000)],\n",
    "                'c': [random.randrange(2) for _ in range(2000)],\n",
    "                'd': [random.randrange(2) for _ in range(2000)],\n",
    "                'e': [random.randrange(2) for _ in range(2000)]})\n",
    "\n",
    "for column in df:\n",
    "    print(f\"Purchase ratio for category \\\"{column}\\\" is {df[column].sum() / df[column].count() * 100:.2f}%\")\n"
   ],
   "metadata": {
    "collapsed": false
   }
  },
  {
   "cell_type": "code",
   "execution_count": null,
   "outputs": [],
   "source": [
    " "
   ],
   "metadata": {
    "collapsed": false
   }
  },
  {
   "cell_type": "code",
   "execution_count": null,
   "outputs": [],
   "source": [
    "import math\n",
    "a = [1,2]\n",
    "b = [3, 4, math.sqrt(2), math.pi]\n",
    "c = [True if type(x) == type(y) else False for x in a for y in b]\n",
    "print(all(c))\n",
    "c"
   ],
   "metadata": {
    "collapsed": false
   }
  },
  {
   "cell_type": "code",
   "execution_count": null,
   "outputs": [],
   "source": [
    "type(math.sqrt(2))"
   ],
   "metadata": {
    "collapsed": false
   }
  },
  {
   "cell_type": "code",
   "execution_count": null,
   "outputs": [],
   "source": [
    "type(math.pi)"
   ],
   "metadata": {
    "collapsed": false
   }
  },
  {
   "cell_type": "code",
   "execution_count": null,
   "outputs": [],
   "source": [
    "c = []\n",
    "for x in a:\n",
    "    for y in b:\n",
    "        c.append(type(x) == type(y))\n",
    "\n",
    "c\n",
    "all(c)"
   ],
   "metadata": {
    "collapsed": false
   }
  },
  {
   "cell_type": "code",
   "execution_count": null,
   "outputs": [],
   "source": [
    "import pickle\n",
    "import time\n",
    "\n",
    "def get_primes(bound: int) -> list[int]:\n",
    "    candidates = [False, False] + ([True] * (bound - 1))\n",
    "    for idx, candidate in enumerate(candidates):\n",
    "        if candidate:\n",
    "            for i in range(idx * 2, len(candidates), idx):\n",
    "                candidates[i] = False\n",
    "    return [idx for idx, candidate in enumerate(candidates) if candidate]\n",
    "\n",
    "\n",
    "my_primes: [int] = get_primes(1_000_000)\n",
    "with open('primes.data', 'wb') as primes_dump:\n",
    "    pickle.dump(my_primes, primes_dump)\n",
    "\n",
    "\n",
    "with open('primes.data', 'rb') as primes_dump:\n",
    "    start = time.perf_counter()\n",
    "    primes_list: [int] = pickle.load(primes_dump)\n",
    "    print(f\"{time.perf_counter() - start : 0.8f}\")\n",
    "\n",
    "primes_list\n",
    "type(primes_list)"
   ],
   "metadata": {
    "collapsed": false
   }
  },
  {
   "cell_type": "code",
   "execution_count": null,
   "outputs": [],
   "source": [
    "from math import isqrt\n",
    "\n",
    "isqrt(150)"
   ],
   "metadata": {
    "collapsed": false
   }
  },
  {
   "cell_type": "code",
   "execution_count": null,
   "outputs": [],
   "source": [
    "True or False"
   ],
   "metadata": {
    "collapsed": false
   }
  },
  {
   "cell_type": "code",
   "execution_count": null,
   "outputs": [],
   "source": [
    "from dis import dis\n",
    "\n",
    "\n",
    "def my_func():\n",
    "    x = 10\n",
    "    def inner():\n",
    "        nonlocal x\n",
    "        x+=5\n",
    "    inner()\n",
    "    print(x)\n",
    "\n",
    "my_func()\n",
    "dis(my_func)"
   ],
   "metadata": {
    "collapsed": false
   }
  },
  {
   "cell_type": "code",
   "execution_count": null,
   "outputs": [],
   "source": [
    "import numpy as np\n",
    "\n",
    "mtrx0 = np.array([[1,2,3], [4, 5, 6], [7, 8, 9]])\n",
    "mtrx1 = np.array([[2, 4, 6], [8, 10, 12], [14, 16, 19]])\n",
    "mtrx0 @ mtrx1"
   ],
   "metadata": {
    "collapsed": false
   }
  },
  {
   "cell_type": "code",
   "execution_count": null,
   "outputs": [],
   "source": [
    "import os\n",
    "\n",
    "os.getcwd()"
   ],
   "metadata": {
    "collapsed": false
   }
  },
  {
   "cell_type": "code",
   "execution_count": null,
   "outputs": [],
   "source": [
    "a= {1, 2, 3}\n",
    "b={1, 2, 3}\n",
    "a+b\n"
   ],
   "metadata": {
    "collapsed": false
   }
  },
  {
   "cell_type": "code",
   "execution_count": null,
   "outputs": [],
   "source": [
    "def inv_dict(dictionary: dict):\n",
    "    print(f\"Inside inv_dict before assignment: {id(dictionary) = }\")\n",
    "    dictionary={value: key for key, value in dictionary.items()}\n",
    "    print(f\"Inside inv_dict after assignment: {id(dictionary) = }\")\n",
    "\n",
    "\n",
    "my_dict={\"A\":\"Alice\", \"B\":\"Bob\"}\n",
    "print(f\"Outside inv_dict before assignment: {id(my_dict) = }\")\n",
    "inv_dict(my_dict)\n",
    "print(f\"Outside inv_dict after assignment: {id(my_dict) = }\")"
   ],
   "metadata": {
    "collapsed": false
   }
  },
  {
   "cell_type": "code",
   "execution_count": null,
   "outputs": [],
   "source": [
    "def alter_dict(dictionary: dict):\n",
    "    dictionary.update({value: key for key, value in dictionary.items()})\n",
    "\n",
    "my_dict={\"A\":\"Alice\", \"B\":\"Bob\"}\n",
    "alter_dict(my_dict)\n",
    "print(my_dict)\n"
   ],
   "metadata": {
    "collapsed": false
   }
  },
  {
   "cell_type": "code",
   "execution_count": null,
   "outputs": [],
   "source": [
    "def my_function(arg1, arg2, **kwargs):\n",
    "    strangy = arg1 + arg2\n",
    "    if \"kwarg1\" in kwargs:\n",
    "        strangy += kwargs[\"kwarg1\"]\n",
    "    if \"kwarg2\" in kwargs:\n",
    "        strangy += kwargs[\"kwarg2\"]\n",
    "    return strangy\n",
    "\n",
    "my_function(1, 2, kwarg1=3, kwarg2=4)"
   ],
   "metadata": {
    "collapsed": false
   }
  },
  {
   "cell_type": "code",
   "execution_count": null,
   "outputs": [],
   "source": [
    "def add_ten(my_dict):\n",
    "    tmp_keys = list(my_dict.keys())\n",
    "    my_dict.update({value: key for key, value in my_dict.items()})\n",
    "    for key in tmp_keys:\n",
    "        del my_dict[key]\n",
    "\n",
    "the_dict2 = {\"A\":\"Alice\", \"B\":\"Bob\"}\n",
    "add_ten(the_dict2)\n",
    "print(the_dict2)"
   ],
   "metadata": {
    "collapsed": false
   }
  },
  {
   "cell_type": "code",
   "execution_count": null,
   "outputs": [],
   "source": [
    "def reassign_add_ten(my_dict: {int: [int]}):\n",
    "    print(f\"{my_dict = }\")\n",
    "    my_dict = {value: key for key, value in my_dict.items()}\n",
    "    print(f\"{my_dict = }\")\n",
    "\n",
    "the_dict2 = {\"A\":\"Alice\", \"B\":\"Bob\"}\n",
    "print(f\"{the_dict2 = }\")\n",
    "reassign_add_ten(the_dict2)\n",
    "print(f\"{the_dict2 = }\")"
   ],
   "metadata": {
    "collapsed": false
   }
  },
  {
   "cell_type": "code",
   "execution_count": null,
   "outputs": [],
   "source": [
    "def add_ten(my_list:list):\n",
    "    my_list = [item*10 for item in my_list]\n",
    "    print(my_list)\n",
    "\n",
    "nums=[1, 2, 3]\n",
    "add_ten(nums)\n",
    "print(nums)"
   ],
   "metadata": {
    "collapsed": false
   }
  },
  {
   "cell_type": "code",
   "execution_count": null,
   "outputs": [],
   "source": [
    "def add_ten(my_list:list):\n",
    "    for idx, item in enumerate(my_list):\n",
    "        my_list[idx] = my_list[idx]*10\n",
    "    print(my_list)\n",
    "\n",
    "nums=[1, 2, 3]\n",
    "add_ten(nums)\n",
    "print(nums)"
   ],
   "metadata": {
    "collapsed": false
   }
  },
  {
   "cell_type": "code",
   "execution_count": 3,
   "outputs": [
    {
     "name": "stdout",
     "output_type": "stream",
     "text": [
      "(6, 7, 8)\n"
     ]
    }
   ],
   "source": [
    "Python = (4, 5, 6, 7,8)\n",
    "Python = Python[2:]\n",
    "Python = Python[2:]+(8,)\n",
    "\n",
    "print(Python)"
   ],
   "metadata": {
    "collapsed": false
   }
  },
  {
   "cell_type": "code",
   "execution_count": 31,
   "outputs": [
    {
     "name": "stdout",
     "output_type": "stream",
     "text": [
      "True\n"
     ]
    }
   ],
   "source": [
    "a, b, c  = False, None, []\n",
    "print(not a if a or b else c)"
   ],
   "metadata": {
    "collapsed": false
   }
  },
  {
   "cell_type": "code",
   "execution_count": 34,
   "outputs": [
    {
     "name": "stdout",
     "output_type": "stream",
     "text": [
      "x\n"
     ]
    }
   ],
   "source": [
    "a = \"x\" or None\n",
    "print(a)"
   ],
   "metadata": {
    "collapsed": false
   }
  },
  {
   "cell_type": "code",
   "execution_count": 39,
   "outputs": [
    {
     "name": "stdout",
     "output_type": "stream",
     "text": [
      "(1, 2, 3)\n"
     ]
    }
   ],
   "source": [
    "def func(a):\n",
    "    if type(a) == list:\n",
    "        a[0] = 2\n",
    "    return x\n",
    "\n",
    "x = (1, 2, 3)\n",
    "print(func(x))"
   ],
   "metadata": {
    "collapsed": false
   }
  },
  {
   "cell_type": "code",
   "execution_count": 40,
   "outputs": [
    {
     "name": "stdout",
     "output_type": "stream",
     "text": [
      "[16]\n"
     ]
    }
   ],
   "source": [
    "def func(lst):\n",
    "    for i in range(len(lst)):\n",
    "        lst[i] *= lst[i]\n",
    "    return lst\n",
    "\n",
    "lst = [2]\n",
    "func(lst)\n",
    "print(func(lst))"
   ],
   "metadata": {
    "collapsed": false
   }
  },
  {
   "cell_type": "code",
   "execution_count": 42,
   "outputs": [],
   "source": [
    "from numpy import stack\n",
    "\n",
    "a = stack([1, 2, 3, 4])\n",
    "\n",
    "\n",
    "\n",
    "\n"
   ],
   "metadata": {
    "collapsed": false
   }
  },
  {
   "cell_type": "code",
   "execution_count": 55,
   "outputs": [
    {
     "name": "stdout",
     "output_type": "stream",
     "text": [
      "[200]\n"
     ]
    }
   ],
   "source": [
    "def multiply_func(x:int):\n",
    "    x[0] *=10\n",
    "    return [value[0] * 2]\n",
    "\n",
    "value = [10]\n",
    "value = multiply_func(value)\n",
    "print(value)\n"
   ],
   "metadata": {
    "collapsed": false
   }
  },
  {
   "cell_type": "code",
   "execution_count": null,
   "outputs": [],
   "source": [],
   "metadata": {
    "collapsed": false
   }
  },
  {
   "cell_type": "markdown",
   "source": [
    "Get Data"
   ],
   "metadata": {
    "collapsed": false
   }
  },
  {
   "cell_type": "code",
   "execution_count": 57,
   "outputs": [],
   "source": [],
   "metadata": {
    "collapsed": false
   }
  },
  {
   "cell_type": "code",
   "execution_count": 86,
   "outputs": [
    {
     "name": "stdout",
     "output_type": "stream",
     "text": [
      "Adding df to 0\n",
      "Adding df to 1\n",
      "   a  b  ID_Num\n",
      "0  1  4       1\n",
      "1  2  5       1\n",
      "2  3  6       1\n",
      "   a  b  ID_Num\n",
      "0  1  4       0\n",
      "1  2  5       0\n",
      "2  3  6       0\n"
     ]
    }
   ],
   "source": [
    "import itertools\n",
    "\n",
    "\n",
    "class Parent():\n",
    "    counter = itertools.count()\n",
    "\n",
    "class Child(Parent):\n",
    "\n",
    "    def __init__(self):\n",
    "        self.id = next(Parent.counter)\n",
    "\n",
    "    def add_df(self, df):\n",
    "        self.df = df\n",
    "        self.df[\"ID_Num\"] = self.id\n",
    "\n",
    "class DF_adder:\n",
    "    def __init__(self, d1, d2, df):\n",
    "        self.d1 = d1\n",
    "        self.d2 = d2\n",
    "        self.df = df\n",
    "\n",
    "    def add_df(self):\n",
    "        for daughter in [self.d1, self.d2]:\n",
    "            print(f\"Adding df to {daughter.id}\")\n",
    "            daughter.add_df(self.df.copy())\n",
    "\n",
    "ch1 = Child()\n",
    "ch2 = Child()\n",
    "\n",
    "ch1.id, ch2.id\n",
    "a = DF_adder(ch1, ch2, DataFrame({\"a\":[1,2,3], \"b\":[4,5,6]}))\n",
    "a.add_df()\n",
    "print(ch2.df)\n",
    "print(ch1.df)\n"
   ],
   "metadata": {
    "collapsed": false
   }
  },
  {
   "cell_type": "code",
   "execution_count": 91,
   "outputs": [
    {
     "data": {
      "text/plain": "8"
     },
     "execution_count": 91,
     "metadata": {},
     "output_type": "execute_result"
    }
   ],
   "source": [
    "from collections import Counter\n",
    "\n",
    "arr = [1, 2, 3, 4, 5, 6, 7, 8, 8, 8, 8, 8, 8]\n",
    "counter = Counter(arr)\n",
    "\n",
    "max(counter, key=counter.get)"
   ],
   "metadata": {
    "collapsed": false
   }
  },
  {
   "cell_type": "code",
   "execution_count": 92,
   "outputs": [
    {
     "data": {
      "text/plain": "sys.version_info(major=3, minor=11, micro=1, releaselevel='final', serial=0)"
     },
     "execution_count": 92,
     "metadata": {},
     "output_type": "execute_result"
    }
   ],
   "source": [
    "print(sys.version_info)"
   ],
   "metadata": {
    "collapsed": false
   }
  },
  {
   "cell_type": "code",
   "execution_count": 97,
   "outputs": [
    {
     "name": "stdout",
     "output_type": "stream",
     "text": [
      "2.28.2\n"
     ]
    }
   ],
   "source": [
    "\n",
    "import requests\n",
    "\n",
    "print(requests.__version__)"
   ],
   "metadata": {
    "collapsed": false
   }
  },
  {
   "cell_type": "code",
   "execution_count": 103,
   "outputs": [
    {
     "name": "stdout",
     "output_type": "stream",
     "text": [
      "4\n",
      "11\n"
     ]
    }
   ],
   "source": [
    "s = \"learn Python\"\n",
    "print(s.index(\"n\"))\n",
    "print(s.rindex(\"n\"))\n"
   ],
   "metadata": {
    "collapsed": false
   }
  },
  {
   "cell_type": "code",
   "execution_count": 108,
   "outputs": [
    {
     "name": "stdout",
     "output_type": "stream",
     "text": [
      "0 0, 0 1, 0 2, 1 0, 1 1, 1 2, 2 0, 2 1, 2 2, "
     ]
    }
   ],
   "source": [
    "for i in range(3):\n",
    "    for j in range(3):\n",
    "        print(i, j, end=', ')"
   ],
   "metadata": {
    "collapsed": false
   }
  },
  {
   "cell_type": "code",
   "execution_count": 119,
   "outputs": [
    {
     "data": {
      "text/plain": "['P', 'y', 't', 'h', 'o', 'n']"
     },
     "execution_count": 119,
     "metadata": {},
     "output_type": "execute_result"
    }
   ],
   "source": [
    "some_string = \"Python\"\n",
    "some_list = [None] * len(some_string)\n",
    "for i, some_list[i] in enumerate(some_string):\n",
    "    i = 10\n",
    "\n",
    "some_list"
   ],
   "metadata": {
    "collapsed": false
   }
  },
  {
   "cell_type": "code",
   "execution_count": 122,
   "outputs": [
    {
     "data": {
      "text/plain": "(1, 'y')"
     },
     "execution_count": 122,
     "metadata": {},
     "output_type": "execute_result"
    }
   ],
   "source": [
    "a = enumerate(\"Python\")\n",
    "next(a)\n",
    "next(a)\n"
   ],
   "metadata": {
    "collapsed": false
   }
  },
  {
   "cell_type": "code",
   "execution_count": null,
   "outputs": [],
   "source": [],
   "metadata": {
    "collapsed": false
   }
  }
 ],
 "metadata": {
  "kernelspec": {
   "display_name": "Python 3",
   "language": "python",
   "name": "python3"
  },
  "language_info": {
   "codemirror_mode": {
    "name": "ipython",
    "version": 2
   },
   "file_extension": ".py",
   "mimetype": "text/x-python",
   "name": "python",
   "nbconvert_exporter": "python",
   "pygments_lexer": "ipython2",
   "version": "2.7.6"
  }
 },
 "nbformat": 4,
 "nbformat_minor": 0
}
