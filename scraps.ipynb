{
 "cells": [
  {
   "cell_type": "code",
   "execution_count": 14,
   "metadata": {
    "collapsed": true
   },
   "outputs": [],
   "source": [
    "import itertools\n",
    "\n"
   ]
  },
  {
   "cell_type": "code",
   "execution_count": 15,
   "outputs": [
    {
     "name": "stdout",
     "output_type": "stream",
     "text": [
      "107 ns ± 2.48 ns per loop (mean ± std. dev. of 7 runs, 10,000,000 loops each)\n"
     ]
    }
   ],
   "source": [
    "import itertools\n",
    "\n",
    "test = ['n', 't', 'e']\n",
    "%timeit itertools.permutations(test, 3)\n"
   ],
   "metadata": {
    "collapsed": false
   }
  },
  {
   "cell_type": "code",
   "execution_count": 16,
   "outputs": [
    {
     "name": "stdout",
     "output_type": "stream",
     "text": [
      "Packed: <zip object at 0x000001F6A42BCC80>\n",
      "Unpacked:\n",
      "(0, 1, 2, 3, 4, 5, 6, 7, 8, 9)\r\n",
      "(10, 11, 12, 13, 14, 15, 16, 17, 18, 19)\n"
     ]
    }
   ],
   "source": [
    "def chunked(iterable, n):\n",
    "    return zip(*[iter(iterable)] * n)\n",
    "\n",
    "\n",
    "nums = list(range(20))\n",
    "print(f'Packed: {chunked(nums, 10)}')\n",
    "print(f'Unpacked:')\n",
    "print(*chunked(nums, 10), sep=\"\\r\\n\")"
   ],
   "metadata": {
    "collapsed": false
   }
  },
  {
   "cell_type": "code",
   "execution_count": 16,
   "outputs": [],
   "source": [],
   "metadata": {
    "collapsed": false
   }
  },
  {
   "cell_type": "code",
   "execution_count": 17,
   "outputs": [
    {
     "name": "stdout",
     "output_type": "stream",
     "text": [
      "10\n"
     ]
    }
   ],
   "source": [
    "superstring = \"Lorem Ipsum is simply dummy text of the printing and typesetting industry\" * 10\n",
    "substring = \"text\"\n",
    "\n",
    "# print(*(''.join(candidate) for candidate in zip(*(superstring[i:] for i in range(len(substring))))), sep='\\n')\n",
    "count = 0\n",
    "for candidate in (''.join(candidate) for candidate in zip(*(superstring[i:] for i in range(len(substring))))):\n",
    "    if candidate == substring:\n",
    "        count += 1\n",
    "print(count)"
   ],
   "metadata": {
    "collapsed": false
   }
  },
  {
   "cell_type": "code",
   "execution_count": 18,
   "outputs": [
    {
     "name": "stdout",
     "output_type": "stream",
     "text": [
      "Lore\n",
      "orem\n",
      "rem \n",
      "em I\n",
      "m Ip\n",
      " Ips\n",
      "Ipsu\n",
      "psum\n",
      "sum \n",
      "um i\n",
      "m is\n",
      " is \n",
      "is s\n",
      "s si\n",
      " sim\n",
      "simp\n",
      "impl\n",
      "mply\n",
      "ply \n",
      "ly d\n",
      "y du\n",
      " dum\n",
      "dumm\n",
      "ummy\n",
      "mmy \n",
      "my t\n",
      "y te\n",
      " tex\n",
      "text\n",
      "ext \n",
      "xt o\n",
      "t of\n",
      " of \n",
      "of t\n",
      "f th\n",
      " the\n",
      "the \n",
      "he p\n",
      "e pr\n",
      " pri\n",
      "prin\n",
      "rint\n",
      "inti\n",
      "ntin\n",
      "ting\n",
      "ing \n",
      "ng a\n",
      "g an\n",
      " and\n",
      "and \n",
      "nd t\n",
      "d ty\n",
      " typ\n",
      "type\n",
      "ypes\n",
      "pese\n",
      "eset\n",
      "sett\n",
      "etti\n",
      "ttin\n",
      "ting\n",
      "ing \n",
      "ng i\n",
      "g in\n",
      " ind\n",
      "indu\n",
      "ndus\n",
      "dust\n",
      "ustr\n",
      "stry\n"
     ]
    }
   ],
   "source": [
    "from typing import Iterable\n",
    "\n",
    "test = \"Lorem Ipsum is simply dummy text of the printing and typesetting industry\"\n",
    "def chunker(s:Iterable, size:int) -> Iterable:\n",
    "    for idx in range(1+len(s) - size):\n",
    "        yield s[idx:idx+size]\n",
    "\n",
    "print(*chunker(test, 4), sep='\\n')"
   ],
   "metadata": {
    "collapsed": false
   }
  },
  {
   "cell_type": "code",
   "execution_count": 19,
   "outputs": [
    {
     "data": {
      "text/plain": "1.4142135623730951"
     },
     "execution_count": 19,
     "metadata": {},
     "output_type": "execute_result"
    }
   ],
   "source": [
    "from math import sqrt\n",
    "\n",
    "sqrt(2)"
   ],
   "metadata": {
    "collapsed": false
   }
  },
  {
   "cell_type": "code",
   "execution_count": 20,
   "outputs": [
    {
     "name": "stdout",
     "output_type": "stream",
     "text": [
      "3.141592653589793\n"
     ]
    }
   ],
   "source": [
    "from math import pi\n",
    "\n",
    "print(pi)"
   ],
   "metadata": {
    "collapsed": false
   }
  },
  {
   "cell_type": "code",
   "execution_count": 21,
   "outputs": [
    {
     "data": {
      "text/plain": "True"
     },
     "execution_count": 21,
     "metadata": {},
     "output_type": "execute_result"
    }
   ],
   "source": [
    "a= 10\n",
    "b = 10\n",
    "b is a"
   ],
   "metadata": {
    "collapsed": false
   }
  },
  {
   "cell_type": "code",
   "execution_count": 22,
   "outputs": [
    {
     "data": {
      "text/plain": "True"
     },
     "execution_count": 22,
     "metadata": {},
     "output_type": "execute_result"
    }
   ],
   "source": [
    "a = 10\n",
    "b =10\n",
    "b is a"
   ],
   "metadata": {
    "collapsed": false
   }
  },
  {
   "cell_type": "code",
   "execution_count": 23,
   "outputs": [
    {
     "data": {
      "text/plain": "False"
     },
     "execution_count": 23,
     "metadata": {},
     "output_type": "execute_result"
    }
   ],
   "source": [
    "a=500\n",
    "b=500\n",
    "a is b"
   ],
   "metadata": {
    "collapsed": false
   }
  },
  {
   "cell_type": "code",
   "execution_count": 24,
   "outputs": [
    {
     "data": {
      "text/plain": "2158840092400"
     },
     "execution_count": 24,
     "metadata": {},
     "output_type": "execute_result"
    }
   ],
   "source": [
    "id(a)\n",
    "id(b)"
   ],
   "metadata": {
    "collapsed": false
   }
  },
  {
   "cell_type": "code",
   "execution_count": 25,
   "outputs": [
    {
     "data": {
      "text/plain": "2158840091056"
     },
     "execution_count": 25,
     "metadata": {},
     "output_type": "execute_result"
    }
   ],
   "source": [
    "id(a)"
   ],
   "metadata": {
    "collapsed": false
   }
  },
  {
   "cell_type": "code",
   "execution_count": 26,
   "outputs": [],
   "source": [
    "#Fibonacci comprehension"
   ],
   "metadata": {
    "collapsed": false
   }
  },
  {
   "cell_type": "code",
   "execution_count": 11,
   "outputs": [
    {
     "name": "stdout",
     "output_type": "stream",
     "text": [
      "[1, 1, 2, 3, 5, 8, 13, 21, 34, 55]\n"
     ]
    }
   ],
   "source": [
    "n = 10\n",
    "x = [0,1]\n",
    "fibs = x[0:2] + [x.append(x[-1] + x[-2]) or x[-1] for i in range(n-2)]\n",
    "print(fibs)"
   ],
   "metadata": {
    "collapsed": false
   }
  },
  {
   "cell_type": "code",
   "execution_count": 27,
   "outputs": [],
   "source": [],
   "metadata": {
    "collapsed": false
   }
  }
 ],
 "metadata": {
  "kernelspec": {
   "display_name": "Python 3",
   "language": "python",
   "name": "python3"
  },
  "language_info": {
   "codemirror_mode": {
    "name": "ipython",
    "version": 2
   },
   "file_extension": ".py",
   "mimetype": "text/x-python",
   "name": "python",
   "nbconvert_exporter": "python",
   "pygments_lexer": "ipython2",
   "version": "2.7.6"
  }
 },
 "nbformat": 4,
 "nbformat_minor": 0
}
