{
 "cells": [
  {
   "cell_type": "code",
   "execution_count": 14,
   "metadata": {
    "collapsed": true
   },
   "outputs": [],
   "source": [
    "import itertools\n",
    "\n"
   ]
  },
  {
   "cell_type": "code",
   "execution_count": 15,
   "outputs": [
    {
     "name": "stdout",
     "output_type": "stream",
     "text": [
      "107 ns ± 2.48 ns per loop (mean ± std. dev. of 7 runs, 10,000,000 loops each)\n"
     ]
    }
   ],
   "source": [
    "import itertools\n",
    "\n",
    "test = ['n', 't', 'e']\n",
    "%timeit itertools.permutations(test, 3)\n"
   ],
   "metadata": {
    "collapsed": false
   }
  },
  {
   "cell_type": "code",
   "execution_count": 16,
   "outputs": [
    {
     "name": "stdout",
     "output_type": "stream",
     "text": [
      "Packed: <zip object at 0x000001F6A42BCC80>\n",
      "Unpacked:\n",
      "(0, 1, 2, 3, 4, 5, 6, 7, 8, 9)\r\n",
      "(10, 11, 12, 13, 14, 15, 16, 17, 18, 19)\n"
     ]
    }
   ],
   "source": [
    "def chunked(iterable, n):\n",
    "    return zip(*[iter(iterable)] * n)\n",
    "\n",
    "\n",
    "nums = list(range(20))\n",
    "print(f'Packed: {chunked(nums, 10)}')\n",
    "print(f'Unpacked:')\n",
    "print(*chunked(nums, 10), sep=\"\\r\\n\")"
   ],
   "metadata": {
    "collapsed": false
   }
  },
  {
   "cell_type": "code",
   "execution_count": 16,
   "outputs": [],
   "source": [],
   "metadata": {
    "collapsed": false
   }
  },
  {
   "cell_type": "code",
   "execution_count": 17,
   "outputs": [
    {
     "name": "stdout",
     "output_type": "stream",
     "text": [
      "10\n"
     ]
    }
   ],
   "source": [
    "superstring = \"Lorem Ipsum is simply dummy text of the printing and typesetting industry\" * 10\n",
    "substring = \"text\"\n",
    "\n",
    "# print(*(''.join(candidate) for candidate in zip(*(superstring[i:] for i in range(len(substring))))), sep='\\n')\n",
    "count = 0\n",
    "for candidate in (''.join(candidate) for candidate in zip(*(superstring[i:] for i in range(len(substring))))):\n",
    "    if candidate == substring:\n",
    "        count += 1\n",
    "print(count)"
   ],
   "metadata": {
    "collapsed": false
   }
  },
  {
   "cell_type": "code",
   "execution_count": 18,
   "outputs": [
    {
     "name": "stdout",
     "output_type": "stream",
     "text": [
      "Lore\n",
      "orem\n",
      "rem \n",
      "em I\n",
      "m Ip\n",
      " Ips\n",
      "Ipsu\n",
      "psum\n",
      "sum \n",
      "um i\n",
      "m is\n",
      " is \n",
      "is s\n",
      "s si\n",
      " sim\n",
      "simp\n",
      "impl\n",
      "mply\n",
      "ply \n",
      "ly d\n",
      "y du\n",
      " dum\n",
      "dumm\n",
      "ummy\n",
      "mmy \n",
      "my t\n",
      "y te\n",
      " tex\n",
      "text\n",
      "ext \n",
      "xt o\n",
      "t of\n",
      " of \n",
      "of t\n",
      "f th\n",
      " the\n",
      "the \n",
      "he p\n",
      "e pr\n",
      " pri\n",
      "prin\n",
      "rint\n",
      "inti\n",
      "ntin\n",
      "ting\n",
      "ing \n",
      "ng a\n",
      "g an\n",
      " and\n",
      "and \n",
      "nd t\n",
      "d ty\n",
      " typ\n",
      "type\n",
      "ypes\n",
      "pese\n",
      "eset\n",
      "sett\n",
      "etti\n",
      "ttin\n",
      "ting\n",
      "ing \n",
      "ng i\n",
      "g in\n",
      " ind\n",
      "indu\n",
      "ndus\n",
      "dust\n",
      "ustr\n",
      "stry\n"
     ]
    }
   ],
   "source": [
    "from typing import Iterable\n",
    "\n",
    "test = \"Lorem Ipsum is simply dummy text of the printing and typesetting industry\"\n",
    "def chunker(s:Iterable, size:int) -> Iterable:\n",
    "    for idx in range(1+len(s) - size):\n",
    "        yield s[idx:idx+size]\n",
    "\n",
    "print(*chunker(test, 4), sep='\\n')"
   ],
   "metadata": {
    "collapsed": false
   }
  },
  {
   "cell_type": "code",
   "execution_count": 19,
   "outputs": [
    {
     "data": {
      "text/plain": "1.4142135623730951"
     },
     "execution_count": 19,
     "metadata": {},
     "output_type": "execute_result"
    }
   ],
   "source": [
    "from math import sqrt\n",
    "\n",
    "sqrt(2)"
   ],
   "metadata": {
    "collapsed": false
   }
  },
  {
   "cell_type": "code",
   "execution_count": 20,
   "outputs": [
    {
     "name": "stdout",
     "output_type": "stream",
     "text": [
      "3.141592653589793\n"
     ]
    }
   ],
   "source": [
    "from math import pi\n",
    "\n",
    "print(pi)"
   ],
   "metadata": {
    "collapsed": false
   }
  },
  {
   "cell_type": "code",
   "execution_count": 21,
   "outputs": [
    {
     "data": {
      "text/plain": "True"
     },
     "execution_count": 21,
     "metadata": {},
     "output_type": "execute_result"
    }
   ],
   "source": [
    "a= 10\n",
    "b = 10\n",
    "b is a"
   ],
   "metadata": {
    "collapsed": false
   }
  },
  {
   "cell_type": "code",
   "execution_count": 22,
   "outputs": [
    {
     "data": {
      "text/plain": "True"
     },
     "execution_count": 22,
     "metadata": {},
     "output_type": "execute_result"
    }
   ],
   "source": [
    "a = 10\n",
    "b =10\n",
    "b is a"
   ],
   "metadata": {
    "collapsed": false
   }
  },
  {
   "cell_type": "code",
   "execution_count": 23,
   "outputs": [
    {
     "data": {
      "text/plain": "False"
     },
     "execution_count": 23,
     "metadata": {},
     "output_type": "execute_result"
    }
   ],
   "source": [
    "a=500\n",
    "b=500\n",
    "a is b"
   ],
   "metadata": {
    "collapsed": false
   }
  },
  {
   "cell_type": "code",
   "execution_count": 24,
   "outputs": [
    {
     "data": {
      "text/plain": "2158840092400"
     },
     "execution_count": 24,
     "metadata": {},
     "output_type": "execute_result"
    }
   ],
   "source": [
    "id(a)\n",
    "id(b)"
   ],
   "metadata": {
    "collapsed": false
   }
  },
  {
   "cell_type": "code",
   "execution_count": 25,
   "outputs": [
    {
     "data": {
      "text/plain": "2158840091056"
     },
     "execution_count": 25,
     "metadata": {},
     "output_type": "execute_result"
    }
   ],
   "source": [
    "id(a)"
   ],
   "metadata": {
    "collapsed": false
   }
  },
  {
   "cell_type": "code",
   "execution_count": 26,
   "outputs": [],
   "source": [
    "#Fibonacci comprehension"
   ],
   "metadata": {
    "collapsed": false
   }
  },
  {
   "cell_type": "code",
   "execution_count": 11,
   "outputs": [
    {
     "name": "stdout",
     "output_type": "stream",
     "text": [
      "[1, 1, 2, 3, 5, 8, 13, 21, 34, 55]\n"
     ]
    }
   ],
   "source": [
    "n = 10\n",
    "x = [0,1]\n",
    "fibs = x[0:2] + [x.append(x[-1] + x[-2]) or x[-1] for i in range(n-2)]\n",
    "print(fibs)"
   ],
   "metadata": {
    "collapsed": false
   }
  },
  {
   "cell_type": "code",
   "execution_count": 1,
   "outputs": [
    {
     "name": "stdout",
     "output_type": "stream",
     "text": [
      "0\n"
     ]
    }
   ],
   "source": [
    "import calendar\n",
    "print(calendar.MONDAY)"
   ],
   "metadata": {
    "collapsed": false
   }
  },
  {
   "cell_type": "code",
   "execution_count": 7,
   "outputs": [
    {
     "name": "stdout",
     "output_type": "stream",
     "text": [
      "[0, 1, 0, 0, 0, 0, 0, 0, 0, 0]\n",
      "[0, 1, 0, 0, 0, 0, 0, 0, 0, 0]\n",
      "[0, 1, 0, 0, 0, 0, 0, 0, 0, 0]\n",
      "[0, 1, 0, 0, 0, 0, 0, 0, 0, 0]\n",
      "[0, 1, 0, 0, 0, 0, 0, 0, 0, 0]\n",
      "True\n"
     ]
    }
   ],
   "source": [
    "m = 10\n",
    "n = 5\n",
    "transpose = [[0] * m] * n\n",
    "transpose[0][1] = 1\n",
    "print(*transpose, sep='\\n')\n",
    "print(transpose[2] is transpose[4])"
   ],
   "metadata": {
    "collapsed": false
   }
  },
  {
   "cell_type": "code",
   "execution_count": 2,
   "outputs": [
    {
     "data": {
      "text/plain": "'1.5.3'"
     },
     "execution_count": 2,
     "metadata": {},
     "output_type": "execute_result"
    }
   ],
   "source": [
    "import pandas as pd\n",
    "pd.__version__"
   ],
   "metadata": {
    "collapsed": false
   }
  },
  {
   "cell_type": "code",
   "execution_count": 3,
   "outputs": [
    {
     "name": "stderr",
     "output_type": "stream",
     "text": [
      "C:\\Users\\kgury\\.virtualenvs\\rslashlearningpython--vhEfHp6\\Lib\\site-packages\\_distutils_hack\\__init__.py:33: UserWarning: Setuptools is replacing distutils.\n",
      "  warnings.warn(\"Setuptools is replacing distutils.\")\n"
     ]
    },
    {
     "name": "stdout",
     "output_type": "stream",
     "text": [
      "\n",
      "INSTALLED VERSIONS\n",
      "------------------\n",
      "commit           : 2e218d10984e9919f0296931d92ea851c6a6faf5\n",
      "python           : 3.11.1.final.0\n",
      "python-bits      : 64\n",
      "OS               : Windows\n",
      "OS-release       : 10\n",
      "Version          : 10.0.19044\n",
      "machine          : AMD64\n",
      "processor        : AMD64 Family 25 Model 80 Stepping 0, AuthenticAMD\n",
      "byteorder        : little\n",
      "LC_ALL           : en_US.UTF-8\n",
      "LANG             : en_US.UTF-8\n",
      "LOCALE           : English_United States.1252\n",
      "\n",
      "pandas           : 1.5.3\n",
      "numpy            : 1.24.2\n",
      "pytz             : 2022.7.1\n",
      "dateutil         : 2.8.2\n",
      "setuptools       : 67.3.3\n",
      "pip              : 23.0.1\n",
      "Cython           : None\n",
      "pytest           : 7.2.1\n",
      "hypothesis       : None\n",
      "sphinx           : None\n",
      "blosc            : None\n",
      "feather          : None\n",
      "xlsxwriter       : None\n",
      "lxml.etree       : None\n",
      "html5lib         : None\n",
      "pymysql          : None\n",
      "psycopg2         : None\n",
      "jinja2           : 3.1.2\n",
      "IPython          : 8.10.0\n",
      "pandas_datareader: None\n",
      "bs4              : 4.11.2\n",
      "bottleneck       : None\n",
      "brotli           : None\n",
      "fastparquet      : None\n",
      "fsspec           : None\n",
      "gcsfs            : None\n",
      "matplotlib       : 3.7.0\n",
      "numba            : None\n",
      "numexpr          : None\n",
      "odfpy            : None\n",
      "openpyxl         : None\n",
      "pandas_gbq       : None\n",
      "pyarrow          : None\n",
      "pyreadstat       : None\n",
      "pyxlsb           : None\n",
      "s3fs             : None\n",
      "scipy            : None\n",
      "snappy           : None\n",
      "sqlalchemy       : None\n",
      "tables           : None\n",
      "tabulate         : None\n",
      "xarray           : None\n",
      "xlrd             : None\n",
      "xlwt             : None\n",
      "zstandard        : None\n",
      "tzdata           : 2022.7\n"
     ]
    }
   ],
   "source": [
    "pd.show_versions()"
   ],
   "metadata": {
    "collapsed": false
   }
  },
  {
   "cell_type": "code",
   "execution_count": 25,
   "outputs": [
    {
     "data": {
      "text/plain": "   Injury indicator\n0            injury\n1            injury\n2            injury\n3           another\n4           another\n5           another\n6             other\n7             other\n8             other\n9    comething_else\n10   comething_else\n11   comething_else\n12   comething_else\n13   comething_else\n14   comething_else\n15   comething_else\n16   comething_else\n17   comething_else\n18   comething_else",
      "text/html": "<div>\n<style scoped>\n    .dataframe tbody tr th:only-of-type {\n        vertical-align: middle;\n    }\n\n    .dataframe tbody tr th {\n        vertical-align: top;\n    }\n\n    .dataframe thead th {\n        text-align: right;\n    }\n</style>\n<table border=\"1\" class=\"dataframe\">\n  <thead>\n    <tr style=\"text-align: right;\">\n      <th></th>\n      <th>Injury indicator</th>\n    </tr>\n  </thead>\n  <tbody>\n    <tr>\n      <th>0</th>\n      <td>injury</td>\n    </tr>\n    <tr>\n      <th>1</th>\n      <td>injury</td>\n    </tr>\n    <tr>\n      <th>2</th>\n      <td>injury</td>\n    </tr>\n    <tr>\n      <th>3</th>\n      <td>another</td>\n    </tr>\n    <tr>\n      <th>4</th>\n      <td>another</td>\n    </tr>\n    <tr>\n      <th>5</th>\n      <td>another</td>\n    </tr>\n    <tr>\n      <th>6</th>\n      <td>other</td>\n    </tr>\n    <tr>\n      <th>7</th>\n      <td>other</td>\n    </tr>\n    <tr>\n      <th>8</th>\n      <td>other</td>\n    </tr>\n    <tr>\n      <th>9</th>\n      <td>comething_else</td>\n    </tr>\n    <tr>\n      <th>10</th>\n      <td>comething_else</td>\n    </tr>\n    <tr>\n      <th>11</th>\n      <td>comething_else</td>\n    </tr>\n    <tr>\n      <th>12</th>\n      <td>comething_else</td>\n    </tr>\n    <tr>\n      <th>13</th>\n      <td>comething_else</td>\n    </tr>\n    <tr>\n      <th>14</th>\n      <td>comething_else</td>\n    </tr>\n    <tr>\n      <th>15</th>\n      <td>comething_else</td>\n    </tr>\n    <tr>\n      <th>16</th>\n      <td>comething_else</td>\n    </tr>\n    <tr>\n      <th>17</th>\n      <td>comething_else</td>\n    </tr>\n    <tr>\n      <th>18</th>\n      <td>comething_else</td>\n    </tr>\n  </tbody>\n</table>\n</div>"
     },
     "execution_count": 25,
     "metadata": {},
     "output_type": "execute_result"
    }
   ],
   "source": [
    "from pandas import DataFrame\n",
    "\n",
    "df = DataFrame({'Injury indicator' : ['injury']*3+['another']*3+['other']*3+['comething_else']*10})\n",
    "df"
   ],
   "metadata": {
    "collapsed": false
   }
  },
  {
   "cell_type": "code",
   "execution_count": 24,
   "outputs": [
    {
     "data": {
      "text/plain": "   Injury indicator\n6             other\n7             other\n8             other\n9    comething_else\n10   comething_else\n11   comething_else\n12   comething_else\n13   comething_else\n14   comething_else\n15   comething_else\n16   comething_else\n17   comething_else\n18   comething_else",
      "text/html": "<div>\n<style scoped>\n    .dataframe tbody tr th:only-of-type {\n        vertical-align: middle;\n    }\n\n    .dataframe tbody tr th {\n        vertical-align: top;\n    }\n\n    .dataframe thead th {\n        text-align: right;\n    }\n</style>\n<table border=\"1\" class=\"dataframe\">\n  <thead>\n    <tr style=\"text-align: right;\">\n      <th></th>\n      <th>Injury indicator</th>\n    </tr>\n  </thead>\n  <tbody>\n    <tr>\n      <th>6</th>\n      <td>other</td>\n    </tr>\n    <tr>\n      <th>7</th>\n      <td>other</td>\n    </tr>\n    <tr>\n      <th>8</th>\n      <td>other</td>\n    </tr>\n    <tr>\n      <th>9</th>\n      <td>comething_else</td>\n    </tr>\n    <tr>\n      <th>10</th>\n      <td>comething_else</td>\n    </tr>\n    <tr>\n      <th>11</th>\n      <td>comething_else</td>\n    </tr>\n    <tr>\n      <th>12</th>\n      <td>comething_else</td>\n    </tr>\n    <tr>\n      <th>13</th>\n      <td>comething_else</td>\n    </tr>\n    <tr>\n      <th>14</th>\n      <td>comething_else</td>\n    </tr>\n    <tr>\n      <th>15</th>\n      <td>comething_else</td>\n    </tr>\n    <tr>\n      <th>16</th>\n      <td>comething_else</td>\n    </tr>\n    <tr>\n      <th>17</th>\n      <td>comething_else</td>\n    </tr>\n    <tr>\n      <th>18</th>\n      <td>comething_else</td>\n    </tr>\n  </tbody>\n</table>\n</div>"
     },
     "execution_count": 24,
     "metadata": {},
     "output_type": "execute_result"
    }
   ],
   "source": [
    "df = df[~df['Injury indicator'].isin(['injury', 'another'])]\n",
    "df"
   ],
   "metadata": {
    "collapsed": false
   }
  },
  {
   "cell_type": "code",
   "execution_count": 27,
   "outputs": [
    {
     "data": {
      "text/plain": "{'11231423': ['11-11111', '11-11111'],\n '12345667': ['11-11111', '22-22222'],\n '77712131': ['22-22222', '22-22222', '44-44444'],\n '12344567': ['33-33333', '33-33333'],\n '82710382': ['44-44444', '44-44444']}"
     },
     "execution_count": 27,
     "metadata": {},
     "output_type": "execute_result"
    }
   ],
   "source": [
    "loans = {\"11231423\": [\"11-11111\", \"11-11111\"],\n",
    "             \"12345667\": [\"11-11111\", \"22-22222\"],\n",
    "             \"77712131\": [\"22-22222\", \"22-22222\", \"44-44444\"],\n",
    "             \"12344567\": [\"33-33333\", \"33-33333\"],\n",
    "             \"82710382\": [\"44-44444\", \"44-44444\"]}\n",
    "loans"
   ],
   "metadata": {
    "collapsed": false
   }
  },
  {
   "cell_type": "code",
   "execution_count": 30,
   "outputs": [
    {
     "name": "stdout",
     "output_type": "stream",
     "text": [
      "all_gen = <generator object <genexpr> at 0x0000022F87163370>\n"
     ]
    }
   ],
   "source": [
    "combos= [[1,1,1,1,1], [1,1,1,2], [1,1,3], [2,3]]\n",
    "all_gen = (one for one in combos)\n",
    "print(f\"{all_gen = }\")\n"
   ],
   "metadata": {
    "collapsed": false
   }
  },
  {
   "cell_type": "code",
   "execution_count": 31,
   "outputs": [
    {
     "name": "stdout",
     "output_type": "stream",
     "text": [
      "all_gen = <generator object all_gen at 0x0000022F87161630>\n"
     ]
    }
   ],
   "source": [
    "def all_gen(the_list):\n",
    "    for one in the_list:\n",
    "        yield one\n",
    "\n",
    "all_gen = all_gen(combos)\n",
    "print(f\"{all_gen = }\")"
   ],
   "metadata": {
    "collapsed": false
   }
  },
  {
   "cell_type": "code",
   "execution_count": null,
   "outputs": [],
   "source": [],
   "metadata": {
    "collapsed": false
   }
  }
 ],
 "metadata": {
  "kernelspec": {
   "display_name": "Python 3",
   "language": "python",
   "name": "python3"
  },
  "language_info": {
   "codemirror_mode": {
    "name": "ipython",
    "version": 2
   },
   "file_extension": ".py",
   "mimetype": "text/x-python",
   "name": "python",
   "nbconvert_exporter": "python",
   "pygments_lexer": "ipython2",
   "version": "2.7.6"
  }
 },
 "nbformat": 4,
 "nbformat_minor": 0
}
