{
 "cells": [
  {
   "cell_type": "code",
   "execution_count": 4,
   "metadata": {
    "collapsed": true
   },
   "outputs": [
    {
     "name": "stdout",
     "output_type": "stream",
     "text": [
      "['Roy', 'David', 'Pooja', 'Sharma', 'T']\n"
     ]
    }
   ],
   "source": [
    "import re\n",
    "\n",
    "text = \"433 - 675 - 8765 - 322 - 533 - 7665 Mr. Roy Mr. David Mrs. Pooja Ms. Sharma Mr. T \"\n",
    "res=re.findall(\"M\\S*\\.\\s(\\S*)\",text)\n",
    "print(res)"
   ]
  },
  {
   "cell_type": "code",
   "execution_count": 9,
   "outputs": [
    {
     "data": {
      "text/plain": "[('Mr.', 'Roy'),\n ('Mr.', 'David'),\n ('Mrs.', 'Pooja'),\n ('Ms.', 'Sharma'),\n ('Mr.', 'T'),\n ('Dr.', 'Doe'),\n ('Prof.', 'Dave')]"
     },
     "execution_count": 9,
     "metadata": {},
     "output_type": "execute_result"
    }
   ],
   "source": [
    "text = '433 - 675 - 8765 - 322 - 533 - 7665 Mr. Roy Mr. David Mrs. Pooja Ms. Sharma Mr. T Dr. Doe Prof. Dave'\n",
    "res=re.findall(\"(\\S*\\.)\\s(\\S*)\",text)\n",
    "res"
   ],
   "metadata": {
    "collapsed": false
   }
  },
  {
   "cell_type": "code",
   "execution_count": null,
   "outputs": [],
   "source": [],
   "metadata": {
    "collapsed": false,
    "pycharm": {
     "is_executing": true
    }
   }
  },
  {
   "cell_type": "code",
   "execution_count": 4,
   "outputs": [],
   "source": [],
   "metadata": {
    "collapsed": false
   }
  }
 ],
 "metadata": {
  "kernelspec": {
   "display_name": "Python 3",
   "language": "python",
   "name": "python3"
  },
  "language_info": {
   "codemirror_mode": {
    "name": "ipython",
    "version": 2
   },
   "file_extension": ".py",
   "mimetype": "text/x-python",
   "name": "python",
   "nbconvert_exporter": "python",
   "pygments_lexer": "ipython2",
   "version": "2.7.6"
  }
 },
 "nbformat": 4,
 "nbformat_minor": 0
}
