{
 "cells": [
  {
   "cell_type": "code",
   "execution_count": 83,
   "metadata": {
    "collapsed": true
   },
   "outputs": [
    {
     "name": "stdout",
     "output_type": "stream",
     "text": [
      "\n",
      "INSTALLED VERSIONS\n",
      "------------------\n",
      "commit           : 2e218d10984e9919f0296931d92ea851c6a6faf5\n",
      "python           : 3.11.1.final.0\n",
      "python-bits      : 64\n",
      "OS               : Windows\n",
      "OS-release       : 10\n",
      "Version          : 10.0.19044\n",
      "machine          : AMD64\n",
      "processor        : AMD64 Family 25 Model 80 Stepping 0, AuthenticAMD\n",
      "byteorder        : little\n",
      "LC_ALL           : en_US.UTF-8\n",
      "LANG             : en_US.UTF-8\n",
      "LOCALE           : English_United States.1252\n",
      "\n",
      "pandas           : 1.5.3\n",
      "numpy            : 1.24.2\n",
      "pytz             : 2022.7.1\n",
      "dateutil         : 2.8.2\n",
      "setuptools       : 67.3.3\n",
      "pip              : 23.0.1\n",
      "Cython           : None\n",
      "pytest           : 7.2.1\n",
      "hypothesis       : None\n",
      "sphinx           : None\n",
      "blosc            : None\n",
      "feather          : None\n",
      "xlsxwriter       : None\n",
      "lxml.etree       : None\n",
      "html5lib         : None\n",
      "pymysql          : None\n",
      "psycopg2         : None\n",
      "jinja2           : 3.1.2\n",
      "IPython          : 8.10.0\n",
      "pandas_datareader: None\n",
      "bs4              : 4.11.2\n",
      "bottleneck       : None\n",
      "brotli           : None\n",
      "fastparquet      : None\n",
      "fsspec           : None\n",
      "gcsfs            : None\n",
      "matplotlib       : 3.7.0\n",
      "numba            : None\n",
      "numexpr          : None\n",
      "odfpy            : None\n",
      "openpyxl         : None\n",
      "pandas_gbq       : None\n",
      "pyarrow          : None\n",
      "pyreadstat       : None\n",
      "pyxlsb           : None\n",
      "s3fs             : None\n",
      "scipy            : None\n",
      "snappy           : None\n",
      "sqlalchemy       : None\n",
      "tables           : None\n",
      "tabulate         : None\n",
      "xarray           : None\n",
      "xlrd             : None\n",
      "xlwt             : None\n",
      "zstandard        : None\n",
      "tzdata           : 2022.7\n"
     ]
    },
    {
     "name": "stderr",
     "output_type": "stream",
     "text": [
      "C:\\Users\\kgury\\AppData\\Local\\Temp\\ipykernel_28504\\3911441206.py:10: FutureWarning: The default value of regex will change from True to False in a future version. In addition, single character regular expressions will *not* be treated as literal strings when regex=True.\n",
      "  orders['item_price'] = orders.item_price.str.replace('$', '').astype('float')\n"
     ]
    }
   ],
   "source": [
    "import pandas as pd\n",
    "import numpy as np\n",
    "\n",
    "pd.__version__\n",
    "pd.show_versions()\n",
    "\n",
    "drinks = pd.read_csv('http://bit.ly/drinksbycountry')\n",
    "movies = pd.read_csv('http://bit.ly/imdbratings')\n",
    "orders = pd.read_csv('http://bit.ly/chiporders', sep='\\t')\n",
    "orders['item_price'] = orders.item_price.str.replace('$', '').astype('float')\n",
    "stocks = pd.read_csv('http://bit.ly/smallstocks', parse_dates=['Date'])\n",
    "titanic = pd.read_csv('http://bit.ly/kaggletrain')\n",
    "ufo = pd.read_csv('http://bit.ly/uforeports', parse_dates=['Time'])"
   ]
  },
  {
   "cell_type": "code",
   "execution_count": 23,
   "outputs": [
    {
     "data": {
      "text/plain": "     item  price\n0    blue     10\n1     red     20\n2   green     30\n3  yellow     40",
      "text/html": "<div>\n<style scoped>\n    .dataframe tbody tr th:only-of-type {\n        vertical-align: middle;\n    }\n\n    .dataframe tbody tr th {\n        vertical-align: top;\n    }\n\n    .dataframe thead th {\n        text-align: right;\n    }\n</style>\n<table border=\"1\" class=\"dataframe\">\n  <thead>\n    <tr style=\"text-align: right;\">\n      <th></th>\n      <th>item</th>\n      <th>price</th>\n    </tr>\n  </thead>\n  <tbody>\n    <tr>\n      <th>0</th>\n      <td>blue</td>\n      <td>10</td>\n    </tr>\n    <tr>\n      <th>1</th>\n      <td>red</td>\n      <td>20</td>\n    </tr>\n    <tr>\n      <th>2</th>\n      <td>green</td>\n      <td>30</td>\n    </tr>\n    <tr>\n      <th>3</th>\n      <td>yellow</td>\n      <td>40</td>\n    </tr>\n  </tbody>\n</table>\n</div>"
     },
     "execution_count": 23,
     "metadata": {},
     "output_type": "execute_result"
    }
   ],
   "source": [
    "df = pd.DataFrame({'item':['blue', 'red', 'green', 'yellow'], 'price' : [10, 20, 30, 40]})\n",
    "df"
   ],
   "metadata": {
    "collapsed": false
   }
  },
  {
   "cell_type": "code",
   "execution_count": 24,
   "outputs": [
    {
     "name": "stdout",
     "output_type": "stream",
     "text": [
      "<class 'pandas.core.frame.DataFrame'>\n",
      "RangeIndex: 4 entries, 0 to 3\n",
      "Data columns (total 2 columns):\n",
      " #   Column  Non-Null Count  Dtype \n",
      "---  ------  --------------  ----- \n",
      " 0   item    4 non-null      object\n",
      " 1   price   4 non-null      int64 \n",
      "dtypes: int64(1), object(1)\n",
      "memory usage: 192.0+ bytes\n"
     ]
    }
   ],
   "source": [
    "df.info()"
   ],
   "metadata": {
    "collapsed": false
   }
  },
  {
   "cell_type": "code",
   "execution_count": 25,
   "outputs": [
    {
     "data": {
      "text/plain": "      price    volume\n0  0.456045 -0.301041\n1 -0.612332 -0.280618\n2 -0.367075 -0.013200\n3  0.214810 -0.507926\n4  0.468246 -0.447473\n5 -1.166460  1.433126\n6 -2.722698  0.805357\n7 -0.932102 -0.314497\n8  0.214232  0.751457\n9 -0.535892 -0.623890",
      "text/html": "<div>\n<style scoped>\n    .dataframe tbody tr th:only-of-type {\n        vertical-align: middle;\n    }\n\n    .dataframe tbody tr th {\n        vertical-align: top;\n    }\n\n    .dataframe thead th {\n        text-align: right;\n    }\n</style>\n<table border=\"1\" class=\"dataframe\">\n  <thead>\n    <tr style=\"text-align: right;\">\n      <th></th>\n      <th>price</th>\n      <th>volume</th>\n    </tr>\n  </thead>\n  <tbody>\n    <tr>\n      <th>0</th>\n      <td>0.456045</td>\n      <td>-0.301041</td>\n    </tr>\n    <tr>\n      <th>1</th>\n      <td>-0.612332</td>\n      <td>-0.280618</td>\n    </tr>\n    <tr>\n      <th>2</th>\n      <td>-0.367075</td>\n      <td>-0.013200</td>\n    </tr>\n    <tr>\n      <th>3</th>\n      <td>0.214810</td>\n      <td>-0.507926</td>\n    </tr>\n    <tr>\n      <th>4</th>\n      <td>0.468246</td>\n      <td>-0.447473</td>\n    </tr>\n    <tr>\n      <th>5</th>\n      <td>-1.166460</td>\n      <td>1.433126</td>\n    </tr>\n    <tr>\n      <th>6</th>\n      <td>-2.722698</td>\n      <td>0.805357</td>\n    </tr>\n    <tr>\n      <th>7</th>\n      <td>-0.932102</td>\n      <td>-0.314497</td>\n    </tr>\n    <tr>\n      <th>8</th>\n      <td>0.214232</td>\n      <td>0.751457</td>\n    </tr>\n    <tr>\n      <th>9</th>\n      <td>-0.535892</td>\n      <td>-0.623890</td>\n    </tr>\n  </tbody>\n</table>\n</div>"
     },
     "execution_count": 25,
     "metadata": {},
     "output_type": "execute_result"
    }
   ],
   "source": [
    "pd.DataFrame(np.random.randn(10, 2), columns=['price', 'volume'])"
   ],
   "metadata": {
    "collapsed": false
   }
  },
  {
   "cell_type": "code",
   "execution_count": 26,
   "outputs": [
    {
     "data": {
      "text/plain": "     item  price values\n0    blue            10\n1     red            20\n2   green            30\n3  yellow            40",
      "text/html": "<div>\n<style scoped>\n    .dataframe tbody tr th:only-of-type {\n        vertical-align: middle;\n    }\n\n    .dataframe tbody tr th {\n        vertical-align: top;\n    }\n\n    .dataframe thead th {\n        text-align: right;\n    }\n</style>\n<table border=\"1\" class=\"dataframe\">\n  <thead>\n    <tr style=\"text-align: right;\">\n      <th></th>\n      <th>item</th>\n      <th>price values</th>\n    </tr>\n  </thead>\n  <tbody>\n    <tr>\n      <th>0</th>\n      <td>blue</td>\n      <td>10</td>\n    </tr>\n    <tr>\n      <th>1</th>\n      <td>red</td>\n      <td>20</td>\n    </tr>\n    <tr>\n      <th>2</th>\n      <td>green</td>\n      <td>30</td>\n    </tr>\n    <tr>\n      <th>3</th>\n      <td>yellow</td>\n      <td>40</td>\n    </tr>\n  </tbody>\n</table>\n</div>"
     },
     "execution_count": 26,
     "metadata": {},
     "output_type": "execute_result"
    }
   ],
   "source": [
    "df.rename({'price': 'price values'}, axis='columns')"
   ],
   "metadata": {
    "collapsed": false
   }
  },
  {
   "cell_type": "code",
   "execution_count": 63,
   "outputs": [],
   "source": [
    "df.columns = ['col one', 'col two']"
   ],
   "metadata": {
    "collapsed": false
   }
  },
  {
   "cell_type": "code",
   "execution_count": 64,
   "outputs": [
    {
     "data": {
      "text/plain": "  col one  col two\n0    blue       10\n1     red       20\n2   green       30\n3  yellow       40",
      "text/html": "<div>\n<style scoped>\n    .dataframe tbody tr th:only-of-type {\n        vertical-align: middle;\n    }\n\n    .dataframe tbody tr th {\n        vertical-align: top;\n    }\n\n    .dataframe thead th {\n        text-align: right;\n    }\n</style>\n<table border=\"1\" class=\"dataframe\">\n  <thead>\n    <tr style=\"text-align: right;\">\n      <th></th>\n      <th>col one</th>\n      <th>col two</th>\n    </tr>\n  </thead>\n  <tbody>\n    <tr>\n      <th>0</th>\n      <td>blue</td>\n      <td>10</td>\n    </tr>\n    <tr>\n      <th>1</th>\n      <td>red</td>\n      <td>20</td>\n    </tr>\n    <tr>\n      <th>2</th>\n      <td>green</td>\n      <td>30</td>\n    </tr>\n    <tr>\n      <th>3</th>\n      <td>yellow</td>\n      <td>40</td>\n    </tr>\n  </tbody>\n</table>\n</div>"
     },
     "execution_count": 64,
     "metadata": {},
     "output_type": "execute_result"
    }
   ],
   "source": [
    "df"
   ],
   "metadata": {
    "collapsed": false
   }
  },
  {
   "cell_type": "code",
   "execution_count": 66,
   "outputs": [
    {
     "data": {
      "text/plain": "   colone  coltwo\n0    blue      10\n1     red      20\n2   green      30\n3  yellow      40",
      "text/html": "<div>\n<style scoped>\n    .dataframe tbody tr th:only-of-type {\n        vertical-align: middle;\n    }\n\n    .dataframe tbody tr th {\n        vertical-align: top;\n    }\n\n    .dataframe thead th {\n        text-align: right;\n    }\n</style>\n<table border=\"1\" class=\"dataframe\">\n  <thead>\n    <tr style=\"text-align: right;\">\n      <th></th>\n      <th>colone</th>\n      <th>coltwo</th>\n    </tr>\n  </thead>\n  <tbody>\n    <tr>\n      <th>0</th>\n      <td>blue</td>\n      <td>10</td>\n    </tr>\n    <tr>\n      <th>1</th>\n      <td>red</td>\n      <td>20</td>\n    </tr>\n    <tr>\n      <th>2</th>\n      <td>green</td>\n      <td>30</td>\n    </tr>\n    <tr>\n      <th>3</th>\n      <td>yellow</td>\n      <td>40</td>\n    </tr>\n  </tbody>\n</table>\n</div>"
     },
     "execution_count": 66,
     "metadata": {},
     "output_type": "execute_result"
    }
   ],
   "source": [
    "df.columns = df.columns.str.replace(' ', '')\n",
    "df"
   ],
   "metadata": {
    "collapsed": false
   }
  },
  {
   "cell_type": "code",
   "execution_count": 67,
   "outputs": [
    {
     "data": {
      "text/plain": "  colone__x__  coltwo__x__\n0        blue           10\n1         red           20\n2       green           30\n3      yellow           40",
      "text/html": "<div>\n<style scoped>\n    .dataframe tbody tr th:only-of-type {\n        vertical-align: middle;\n    }\n\n    .dataframe tbody tr th {\n        vertical-align: top;\n    }\n\n    .dataframe thead th {\n        text-align: right;\n    }\n</style>\n<table border=\"1\" class=\"dataframe\">\n  <thead>\n    <tr style=\"text-align: right;\">\n      <th></th>\n      <th>colone__x__</th>\n      <th>coltwo__x__</th>\n    </tr>\n  </thead>\n  <tbody>\n    <tr>\n      <th>0</th>\n      <td>blue</td>\n      <td>10</td>\n    </tr>\n    <tr>\n      <th>1</th>\n      <td>red</td>\n      <td>20</td>\n    </tr>\n    <tr>\n      <th>2</th>\n      <td>green</td>\n      <td>30</td>\n    </tr>\n    <tr>\n      <th>3</th>\n      <td>yellow</td>\n      <td>40</td>\n    </tr>\n  </tbody>\n</table>\n</div>"
     },
     "execution_count": 67,
     "metadata": {},
     "output_type": "execute_result"
    }
   ],
   "source": [
    "df.add_suffix('__x__')"
   ],
   "metadata": {
    "collapsed": false
   }
  },
  {
   "cell_type": "code",
   "execution_count": 69,
   "outputs": [
    {
     "data": {
      "text/plain": "     item  price\n0    blue     10\n1     red     20\n2   green     30\n3  yellow     40",
      "text/html": "<div>\n<style scoped>\n    .dataframe tbody tr th:only-of-type {\n        vertical-align: middle;\n    }\n\n    .dataframe tbody tr th {\n        vertical-align: top;\n    }\n\n    .dataframe thead th {\n        text-align: right;\n    }\n</style>\n<table border=\"1\" class=\"dataframe\">\n  <thead>\n    <tr style=\"text-align: right;\">\n      <th></th>\n      <th>item</th>\n      <th>price</th>\n    </tr>\n  </thead>\n  <tbody>\n    <tr>\n      <th>0</th>\n      <td>blue</td>\n      <td>10</td>\n    </tr>\n    <tr>\n      <th>1</th>\n      <td>red</td>\n      <td>20</td>\n    </tr>\n    <tr>\n      <th>2</th>\n      <td>green</td>\n      <td>30</td>\n    </tr>\n    <tr>\n      <th>3</th>\n      <td>yellow</td>\n      <td>40</td>\n    </tr>\n  </tbody>\n</table>\n</div>"
     },
     "execution_count": 69,
     "metadata": {},
     "output_type": "execute_result"
    }
   ],
   "source": [
    "df.columns = ['item', 'price']\n",
    "df"
   ],
   "metadata": {
    "collapsed": false
   }
  },
  {
   "cell_type": "code",
   "execution_count": 70,
   "outputs": [
    {
     "data": {
      "text/plain": "  item__x__  price__x__\n0      blue          10\n1       red          20\n2     green          30\n3    yellow          40",
      "text/html": "<div>\n<style scoped>\n    .dataframe tbody tr th:only-of-type {\n        vertical-align: middle;\n    }\n\n    .dataframe tbody tr th {\n        vertical-align: top;\n    }\n\n    .dataframe thead th {\n        text-align: right;\n    }\n</style>\n<table border=\"1\" class=\"dataframe\">\n  <thead>\n    <tr style=\"text-align: right;\">\n      <th></th>\n      <th>item__x__</th>\n      <th>price__x__</th>\n    </tr>\n  </thead>\n  <tbody>\n    <tr>\n      <th>0</th>\n      <td>blue</td>\n      <td>10</td>\n    </tr>\n    <tr>\n      <th>1</th>\n      <td>red</td>\n      <td>20</td>\n    </tr>\n    <tr>\n      <th>2</th>\n      <td>green</td>\n      <td>30</td>\n    </tr>\n    <tr>\n      <th>3</th>\n      <td>yellow</td>\n      <td>40</td>\n    </tr>\n  </tbody>\n</table>\n</div>"
     },
     "execution_count": 70,
     "metadata": {},
     "output_type": "execute_result"
    }
   ],
   "source": [
    "df.add_suffix('__x__')"
   ],
   "metadata": {
    "collapsed": false
   }
  },
  {
   "cell_type": "code",
   "execution_count": 74,
   "outputs": [],
   "source": [
    "# Reverse"
   ],
   "metadata": {
    "collapsed": false
   }
  },
  {
   "cell_type": "code",
   "execution_count": 77,
   "outputs": [
    {
     "data": {
      "text/plain": "             name continent\n0     Afghanistan      Asia\n1         Albania    Europe\n2         Algeria    Africa\n3  American Samoa   Oceania\n4         Andorra    Europe",
      "text/html": "<div>\n<style scoped>\n    .dataframe tbody tr th:only-of-type {\n        vertical-align: middle;\n    }\n\n    .dataframe tbody tr th {\n        vertical-align: top;\n    }\n\n    .dataframe thead th {\n        text-align: right;\n    }\n</style>\n<table border=\"1\" class=\"dataframe\">\n  <thead>\n    <tr style=\"text-align: right;\">\n      <th></th>\n      <th>name</th>\n      <th>continent</th>\n    </tr>\n  </thead>\n  <tbody>\n    <tr>\n      <th>0</th>\n      <td>Afghanistan</td>\n      <td>Asia</td>\n    </tr>\n    <tr>\n      <th>1</th>\n      <td>Albania</td>\n      <td>Europe</td>\n    </tr>\n    <tr>\n      <th>2</th>\n      <td>Algeria</td>\n      <td>Africa</td>\n    </tr>\n    <tr>\n      <th>3</th>\n      <td>American Samoa</td>\n      <td>Oceania</td>\n    </tr>\n    <tr>\n      <th>4</th>\n      <td>Andorra</td>\n      <td>Europe</td>\n    </tr>\n  </tbody>\n</table>\n</div>"
     },
     "execution_count": 77,
     "metadata": {},
     "output_type": "execute_result"
    }
   ],
   "source": [
    "import requests\n",
    "all_countries = requests.get('https://restcountries.com/v3.1/all').json()\n",
    "countries_list = [{'name': country['name']['common'], 'continent': country['region']} for country in all_countries]\n",
    "countries = pd.DataFrame(countries_list).sort_values('name').reset_index(drop=True)\n",
    "countries.head()"
   ],
   "metadata": {
    "collapsed": false
   }
  },
  {
   "cell_type": "code",
   "execution_count": 78,
   "outputs": [
    {
     "data": {
      "text/plain": "               name continent\n249   Åland Islands    Europe\n248        Zimbabwe    Africa\n247          Zambia    Africa\n246           Yemen      Asia\n245  Western Sahara    Africa\n..              ...       ...\n4           Andorra    Europe\n3    American Samoa   Oceania\n2           Algeria    Africa\n1           Albania    Europe\n0       Afghanistan      Asia\n\n[250 rows x 2 columns]",
      "text/html": "<div>\n<style scoped>\n    .dataframe tbody tr th:only-of-type {\n        vertical-align: middle;\n    }\n\n    .dataframe tbody tr th {\n        vertical-align: top;\n    }\n\n    .dataframe thead th {\n        text-align: right;\n    }\n</style>\n<table border=\"1\" class=\"dataframe\">\n  <thead>\n    <tr style=\"text-align: right;\">\n      <th></th>\n      <th>name</th>\n      <th>continent</th>\n    </tr>\n  </thead>\n  <tbody>\n    <tr>\n      <th>249</th>\n      <td>Åland Islands</td>\n      <td>Europe</td>\n    </tr>\n    <tr>\n      <th>248</th>\n      <td>Zimbabwe</td>\n      <td>Africa</td>\n    </tr>\n    <tr>\n      <th>247</th>\n      <td>Zambia</td>\n      <td>Africa</td>\n    </tr>\n    <tr>\n      <th>246</th>\n      <td>Yemen</td>\n      <td>Asia</td>\n    </tr>\n    <tr>\n      <th>245</th>\n      <td>Western Sahara</td>\n      <td>Africa</td>\n    </tr>\n    <tr>\n      <th>...</th>\n      <td>...</td>\n      <td>...</td>\n    </tr>\n    <tr>\n      <th>4</th>\n      <td>Andorra</td>\n      <td>Europe</td>\n    </tr>\n    <tr>\n      <th>3</th>\n      <td>American Samoa</td>\n      <td>Oceania</td>\n    </tr>\n    <tr>\n      <th>2</th>\n      <td>Algeria</td>\n      <td>Africa</td>\n    </tr>\n    <tr>\n      <th>1</th>\n      <td>Albania</td>\n      <td>Europe</td>\n    </tr>\n    <tr>\n      <th>0</th>\n      <td>Afghanistan</td>\n      <td>Asia</td>\n    </tr>\n  </tbody>\n</table>\n<p>250 rows × 2 columns</p>\n</div>"
     },
     "execution_count": 78,
     "metadata": {},
     "output_type": "execute_result"
    }
   ],
   "source": [
    "countries.loc[::-1]"
   ],
   "metadata": {
    "collapsed": false
   }
  },
  {
   "cell_type": "code",
   "execution_count": 80,
   "outputs": [
    {
     "data": {
      "text/plain": "             name continent\n0   Åland Islands    Europe\n1        Zimbabwe    Africa\n2          Zambia    Africa\n3           Yemen      Asia\n4  Western Sahara    Africa",
      "text/html": "<div>\n<style scoped>\n    .dataframe tbody tr th:only-of-type {\n        vertical-align: middle;\n    }\n\n    .dataframe tbody tr th {\n        vertical-align: top;\n    }\n\n    .dataframe thead th {\n        text-align: right;\n    }\n</style>\n<table border=\"1\" class=\"dataframe\">\n  <thead>\n    <tr style=\"text-align: right;\">\n      <th></th>\n      <th>name</th>\n      <th>continent</th>\n    </tr>\n  </thead>\n  <tbody>\n    <tr>\n      <th>0</th>\n      <td>Åland Islands</td>\n      <td>Europe</td>\n    </tr>\n    <tr>\n      <th>1</th>\n      <td>Zimbabwe</td>\n      <td>Africa</td>\n    </tr>\n    <tr>\n      <th>2</th>\n      <td>Zambia</td>\n      <td>Africa</td>\n    </tr>\n    <tr>\n      <th>3</th>\n      <td>Yemen</td>\n      <td>Asia</td>\n    </tr>\n    <tr>\n      <th>4</th>\n      <td>Western Sahara</td>\n      <td>Africa</td>\n    </tr>\n  </tbody>\n</table>\n</div>"
     },
     "execution_count": 80,
     "metadata": {},
     "output_type": "execute_result"
    }
   ],
   "source": [
    "countries.loc[::-1].reset_index(drop=True).head()"
   ],
   "metadata": {
    "collapsed": false
   }
  },
  {
   "cell_type": "code",
   "execution_count": 81,
   "outputs": [
    {
     "data": {
      "text/plain": "  continent            name\n0      Asia     Afghanistan\n1    Europe         Albania\n2    Africa         Algeria\n3   Oceania  American Samoa\n4    Europe         Andorra",
      "text/html": "<div>\n<style scoped>\n    .dataframe tbody tr th:only-of-type {\n        vertical-align: middle;\n    }\n\n    .dataframe tbody tr th {\n        vertical-align: top;\n    }\n\n    .dataframe thead th {\n        text-align: right;\n    }\n</style>\n<table border=\"1\" class=\"dataframe\">\n  <thead>\n    <tr style=\"text-align: right;\">\n      <th></th>\n      <th>continent</th>\n      <th>name</th>\n    </tr>\n  </thead>\n  <tbody>\n    <tr>\n      <th>0</th>\n      <td>Asia</td>\n      <td>Afghanistan</td>\n    </tr>\n    <tr>\n      <th>1</th>\n      <td>Europe</td>\n      <td>Albania</td>\n    </tr>\n    <tr>\n      <th>2</th>\n      <td>Africa</td>\n      <td>Algeria</td>\n    </tr>\n    <tr>\n      <th>3</th>\n      <td>Oceania</td>\n      <td>American Samoa</td>\n    </tr>\n    <tr>\n      <th>4</th>\n      <td>Europe</td>\n      <td>Andorra</td>\n    </tr>\n  </tbody>\n</table>\n</div>"
     },
     "execution_count": 81,
     "metadata": {},
     "output_type": "execute_result"
    }
   ],
   "source": [
    "countries.loc[:, ::-1].head()"
   ],
   "metadata": {
    "collapsed": false
   }
  },
  {
   "cell_type": "code",
   "execution_count": 82,
   "outputs": [
    {
     "data": {
      "text/plain": "       country  beer_servings  spirit_servings  wine_servings  \\\n0  Afghanistan              0                0              0   \n1      Albania             89              132             54   \n2      Algeria             25                0             14   \n3      Andorra            245              138            312   \n4       Angola            217               57             45   \n\n   total_litres_of_pure_alcohol continent  \n0                           0.0      Asia  \n1                           4.9    Europe  \n2                           0.7    Africa  \n3                          12.4    Europe  \n4                           5.9    Africa  ",
      "text/html": "<div>\n<style scoped>\n    .dataframe tbody tr th:only-of-type {\n        vertical-align: middle;\n    }\n\n    .dataframe tbody tr th {\n        vertical-align: top;\n    }\n\n    .dataframe thead th {\n        text-align: right;\n    }\n</style>\n<table border=\"1\" class=\"dataframe\">\n  <thead>\n    <tr style=\"text-align: right;\">\n      <th></th>\n      <th>country</th>\n      <th>beer_servings</th>\n      <th>spirit_servings</th>\n      <th>wine_servings</th>\n      <th>total_litres_of_pure_alcohol</th>\n      <th>continent</th>\n    </tr>\n  </thead>\n  <tbody>\n    <tr>\n      <th>0</th>\n      <td>Afghanistan</td>\n      <td>0</td>\n      <td>0</td>\n      <td>0</td>\n      <td>0.0</td>\n      <td>Asia</td>\n    </tr>\n    <tr>\n      <th>1</th>\n      <td>Albania</td>\n      <td>89</td>\n      <td>132</td>\n      <td>54</td>\n      <td>4.9</td>\n      <td>Europe</td>\n    </tr>\n    <tr>\n      <th>2</th>\n      <td>Algeria</td>\n      <td>25</td>\n      <td>0</td>\n      <td>14</td>\n      <td>0.7</td>\n      <td>Africa</td>\n    </tr>\n    <tr>\n      <th>3</th>\n      <td>Andorra</td>\n      <td>245</td>\n      <td>138</td>\n      <td>312</td>\n      <td>12.4</td>\n      <td>Europe</td>\n    </tr>\n    <tr>\n      <th>4</th>\n      <td>Angola</td>\n      <td>217</td>\n      <td>57</td>\n      <td>45</td>\n      <td>5.9</td>\n      <td>Africa</td>\n    </tr>\n  </tbody>\n</table>\n</div>"
     },
     "execution_count": 82,
     "metadata": {},
     "output_type": "execute_result"
    }
   ],
   "source": [
    "drinks = pd.read_csv('http://bit.ly/drinksbycountry')\n",
    "drinks.head()"
   ],
   "metadata": {
    "collapsed": false
   }
  },
  {
   "cell_type": "code",
   "execution_count": 87,
   "outputs": [
    {
     "data": {
      "text/plain": "     country  beer_servings  spirit_servings  wine_servings  \\\n0   Zimbabwe             64               18              4   \n1     Zambia             32               19              4   \n2      Yemen              6                0              0   \n3    Vietnam            111                2              1   \n4  Venezuela            333              100              3   \n\n   total_litres_of_pure_alcohol      continent  \n0                           4.7         Africa  \n1                           2.5         Africa  \n2                           0.1           Asia  \n3                           2.0           Asia  \n4                           7.7  South America  ",
      "text/html": "<div>\n<style scoped>\n    .dataframe tbody tr th:only-of-type {\n        vertical-align: middle;\n    }\n\n    .dataframe tbody tr th {\n        vertical-align: top;\n    }\n\n    .dataframe thead th {\n        text-align: right;\n    }\n</style>\n<table border=\"1\" class=\"dataframe\">\n  <thead>\n    <tr style=\"text-align: right;\">\n      <th></th>\n      <th>country</th>\n      <th>beer_servings</th>\n      <th>spirit_servings</th>\n      <th>wine_servings</th>\n      <th>total_litres_of_pure_alcohol</th>\n      <th>continent</th>\n    </tr>\n  </thead>\n  <tbody>\n    <tr>\n      <th>0</th>\n      <td>Zimbabwe</td>\n      <td>64</td>\n      <td>18</td>\n      <td>4</td>\n      <td>4.7</td>\n      <td>Africa</td>\n    </tr>\n    <tr>\n      <th>1</th>\n      <td>Zambia</td>\n      <td>32</td>\n      <td>19</td>\n      <td>4</td>\n      <td>2.5</td>\n      <td>Africa</td>\n    </tr>\n    <tr>\n      <th>2</th>\n      <td>Yemen</td>\n      <td>6</td>\n      <td>0</td>\n      <td>0</td>\n      <td>0.1</td>\n      <td>Asia</td>\n    </tr>\n    <tr>\n      <th>3</th>\n      <td>Vietnam</td>\n      <td>111</td>\n      <td>2</td>\n      <td>1</td>\n      <td>2.0</td>\n      <td>Asia</td>\n    </tr>\n    <tr>\n      <th>4</th>\n      <td>Venezuela</td>\n      <td>333</td>\n      <td>100</td>\n      <td>3</td>\n      <td>7.7</td>\n      <td>South America</td>\n    </tr>\n  </tbody>\n</table>\n</div>"
     },
     "execution_count": 87,
     "metadata": {},
     "output_type": "execute_result"
    }
   ],
   "source": [
    "drinks.loc[::-1].reset_index(drop=True).head()"
   ],
   "metadata": {
    "collapsed": false
   }
  },
  {
   "cell_type": "code",
   "execution_count": 88,
   "outputs": [
    {
     "data": {
      "text/plain": "  continent  total_litres_of_pure_alcohol  wine_servings  spirit_servings  \\\n0      Asia                           0.0              0                0   \n1    Europe                           4.9             54              132   \n2    Africa                           0.7             14                0   \n3    Europe                          12.4            312              138   \n4    Africa                           5.9             45               57   \n\n   beer_servings      country  \n0              0  Afghanistan  \n1             89      Albania  \n2             25      Algeria  \n3            245      Andorra  \n4            217       Angola  ",
      "text/html": "<div>\n<style scoped>\n    .dataframe tbody tr th:only-of-type {\n        vertical-align: middle;\n    }\n\n    .dataframe tbody tr th {\n        vertical-align: top;\n    }\n\n    .dataframe thead th {\n        text-align: right;\n    }\n</style>\n<table border=\"1\" class=\"dataframe\">\n  <thead>\n    <tr style=\"text-align: right;\">\n      <th></th>\n      <th>continent</th>\n      <th>total_litres_of_pure_alcohol</th>\n      <th>wine_servings</th>\n      <th>spirit_servings</th>\n      <th>beer_servings</th>\n      <th>country</th>\n    </tr>\n  </thead>\n  <tbody>\n    <tr>\n      <th>0</th>\n      <td>Asia</td>\n      <td>0.0</td>\n      <td>0</td>\n      <td>0</td>\n      <td>0</td>\n      <td>Afghanistan</td>\n    </tr>\n    <tr>\n      <th>1</th>\n      <td>Europe</td>\n      <td>4.9</td>\n      <td>54</td>\n      <td>132</td>\n      <td>89</td>\n      <td>Albania</td>\n    </tr>\n    <tr>\n      <th>2</th>\n      <td>Africa</td>\n      <td>0.7</td>\n      <td>14</td>\n      <td>0</td>\n      <td>25</td>\n      <td>Algeria</td>\n    </tr>\n    <tr>\n      <th>3</th>\n      <td>Europe</td>\n      <td>12.4</td>\n      <td>312</td>\n      <td>138</td>\n      <td>245</td>\n      <td>Andorra</td>\n    </tr>\n    <tr>\n      <th>4</th>\n      <td>Africa</td>\n      <td>5.9</td>\n      <td>45</td>\n      <td>57</td>\n      <td>217</td>\n      <td>Angola</td>\n    </tr>\n  </tbody>\n</table>\n</div>"
     },
     "execution_count": 88,
     "metadata": {},
     "output_type": "execute_result"
    }
   ],
   "source": [
    "drinks.loc[:, ::-1].head()"
   ],
   "metadata": {
    "collapsed": false
   }
  },
  {
   "cell_type": "code",
   "execution_count": 89,
   "outputs": [
    {
     "data": {
      "text/plain": "country                          object\nbeer_servings                     int64\nspirit_servings                   int64\nwine_servings                     int64\ntotal_litres_of_pure_alcohol    float64\ncontinent                        object\ndtype: object"
     },
     "execution_count": 89,
     "metadata": {},
     "output_type": "execute_result"
    }
   ],
   "source": [
    "drinks.dtypes"
   ],
   "metadata": {
    "collapsed": false
   }
  },
  {
   "cell_type": "code",
   "execution_count": 90,
   "outputs": [
    {
     "data": {
      "text/plain": "   beer_servings  spirit_servings  wine_servings  total_litres_of_pure_alcohol\n0              0                0              0                           0.0\n1             89              132             54                           4.9\n2             25                0             14                           0.7\n3            245              138            312                          12.4\n4            217               57             45                           5.9",
      "text/html": "<div>\n<style scoped>\n    .dataframe tbody tr th:only-of-type {\n        vertical-align: middle;\n    }\n\n    .dataframe tbody tr th {\n        vertical-align: top;\n    }\n\n    .dataframe thead th {\n        text-align: right;\n    }\n</style>\n<table border=\"1\" class=\"dataframe\">\n  <thead>\n    <tr style=\"text-align: right;\">\n      <th></th>\n      <th>beer_servings</th>\n      <th>spirit_servings</th>\n      <th>wine_servings</th>\n      <th>total_litres_of_pure_alcohol</th>\n    </tr>\n  </thead>\n  <tbody>\n    <tr>\n      <th>0</th>\n      <td>0</td>\n      <td>0</td>\n      <td>0</td>\n      <td>0.0</td>\n    </tr>\n    <tr>\n      <th>1</th>\n      <td>89</td>\n      <td>132</td>\n      <td>54</td>\n      <td>4.9</td>\n    </tr>\n    <tr>\n      <th>2</th>\n      <td>25</td>\n      <td>0</td>\n      <td>14</td>\n      <td>0.7</td>\n    </tr>\n    <tr>\n      <th>3</th>\n      <td>245</td>\n      <td>138</td>\n      <td>312</td>\n      <td>12.4</td>\n    </tr>\n    <tr>\n      <th>4</th>\n      <td>217</td>\n      <td>57</td>\n      <td>45</td>\n      <td>5.9</td>\n    </tr>\n  </tbody>\n</table>\n</div>"
     },
     "execution_count": 90,
     "metadata": {},
     "output_type": "execute_result"
    }
   ],
   "source": [
    "drinks.select_dtypes(include='number').head()"
   ],
   "metadata": {
    "collapsed": false
   }
  },
  {
   "cell_type": "code",
   "execution_count": 91,
   "outputs": [
    {
     "data": {
      "text/plain": "       country continent\n0  Afghanistan      Asia\n1      Albania    Europe\n2      Algeria    Africa\n3      Andorra    Europe\n4       Angola    Africa",
      "text/html": "<div>\n<style scoped>\n    .dataframe tbody tr th:only-of-type {\n        vertical-align: middle;\n    }\n\n    .dataframe tbody tr th {\n        vertical-align: top;\n    }\n\n    .dataframe thead th {\n        text-align: right;\n    }\n</style>\n<table border=\"1\" class=\"dataframe\">\n  <thead>\n    <tr style=\"text-align: right;\">\n      <th></th>\n      <th>country</th>\n      <th>continent</th>\n    </tr>\n  </thead>\n  <tbody>\n    <tr>\n      <th>0</th>\n      <td>Afghanistan</td>\n      <td>Asia</td>\n    </tr>\n    <tr>\n      <th>1</th>\n      <td>Albania</td>\n      <td>Europe</td>\n    </tr>\n    <tr>\n      <th>2</th>\n      <td>Algeria</td>\n      <td>Africa</td>\n    </tr>\n    <tr>\n      <th>3</th>\n      <td>Andorra</td>\n      <td>Europe</td>\n    </tr>\n    <tr>\n      <th>4</th>\n      <td>Angola</td>\n      <td>Africa</td>\n    </tr>\n  </tbody>\n</table>\n</div>"
     },
     "execution_count": 91,
     "metadata": {},
     "output_type": "execute_result"
    }
   ],
   "source": [
    "drinks.select_dtypes(include='object').head()"
   ],
   "metadata": {
    "collapsed": false
   }
  },
  {
   "cell_type": "code",
   "execution_count": 92,
   "outputs": [
    {
     "data": {
      "text/plain": "       country  beer_servings  spirit_servings  wine_servings  \\\n0  Afghanistan              0                0              0   \n1      Albania             89              132             54   \n2      Algeria             25                0             14   \n3      Andorra            245              138            312   \n4       Angola            217               57             45   \n\n   total_litres_of_pure_alcohol continent  \n0                           0.0      Asia  \n1                           4.9    Europe  \n2                           0.7    Africa  \n3                          12.4    Europe  \n4                           5.9    Africa  ",
      "text/html": "<div>\n<style scoped>\n    .dataframe tbody tr th:only-of-type {\n        vertical-align: middle;\n    }\n\n    .dataframe tbody tr th {\n        vertical-align: top;\n    }\n\n    .dataframe thead th {\n        text-align: right;\n    }\n</style>\n<table border=\"1\" class=\"dataframe\">\n  <thead>\n    <tr style=\"text-align: right;\">\n      <th></th>\n      <th>country</th>\n      <th>beer_servings</th>\n      <th>spirit_servings</th>\n      <th>wine_servings</th>\n      <th>total_litres_of_pure_alcohol</th>\n      <th>continent</th>\n    </tr>\n  </thead>\n  <tbody>\n    <tr>\n      <th>0</th>\n      <td>Afghanistan</td>\n      <td>0</td>\n      <td>0</td>\n      <td>0</td>\n      <td>0.0</td>\n      <td>Asia</td>\n    </tr>\n    <tr>\n      <th>1</th>\n      <td>Albania</td>\n      <td>89</td>\n      <td>132</td>\n      <td>54</td>\n      <td>4.9</td>\n      <td>Europe</td>\n    </tr>\n    <tr>\n      <th>2</th>\n      <td>Algeria</td>\n      <td>25</td>\n      <td>0</td>\n      <td>14</td>\n      <td>0.7</td>\n      <td>Africa</td>\n    </tr>\n    <tr>\n      <th>3</th>\n      <td>Andorra</td>\n      <td>245</td>\n      <td>138</td>\n      <td>312</td>\n      <td>12.4</td>\n      <td>Europe</td>\n    </tr>\n    <tr>\n      <th>4</th>\n      <td>Angola</td>\n      <td>217</td>\n      <td>57</td>\n      <td>45</td>\n      <td>5.9</td>\n      <td>Africa</td>\n    </tr>\n  </tbody>\n</table>\n</div>"
     },
     "execution_count": 92,
     "metadata": {},
     "output_type": "execute_result"
    }
   ],
   "source": [
    "drinks.select_dtypes(include=['object', 'number', 'category', 'datetime']).head()"
   ],
   "metadata": {
    "collapsed": false
   }
  },
  {
   "cell_type": "code",
   "execution_count": 94,
   "outputs": [
    {
     "data": {
      "text/plain": "     beer_servings  spirit_servings  wine_servings\n0                0                0              0\n1               89              132             54\n2               25                0             14\n3              245              138            312\n4              217               57             45\n..             ...              ...            ...\n188            333              100              3\n189            111                2              1\n190              6                0              0\n191             32               19              4\n192             64               18              4\n\n[193 rows x 3 columns]",
      "text/html": "<div>\n<style scoped>\n    .dataframe tbody tr th:only-of-type {\n        vertical-align: middle;\n    }\n\n    .dataframe tbody tr th {\n        vertical-align: top;\n    }\n\n    .dataframe thead th {\n        text-align: right;\n    }\n</style>\n<table border=\"1\" class=\"dataframe\">\n  <thead>\n    <tr style=\"text-align: right;\">\n      <th></th>\n      <th>beer_servings</th>\n      <th>spirit_servings</th>\n      <th>wine_servings</th>\n    </tr>\n  </thead>\n  <tbody>\n    <tr>\n      <th>0</th>\n      <td>0</td>\n      <td>0</td>\n      <td>0</td>\n    </tr>\n    <tr>\n      <th>1</th>\n      <td>89</td>\n      <td>132</td>\n      <td>54</td>\n    </tr>\n    <tr>\n      <th>2</th>\n      <td>25</td>\n      <td>0</td>\n      <td>14</td>\n    </tr>\n    <tr>\n      <th>3</th>\n      <td>245</td>\n      <td>138</td>\n      <td>312</td>\n    </tr>\n    <tr>\n      <th>4</th>\n      <td>217</td>\n      <td>57</td>\n      <td>45</td>\n    </tr>\n    <tr>\n      <th>...</th>\n      <td>...</td>\n      <td>...</td>\n      <td>...</td>\n    </tr>\n    <tr>\n      <th>188</th>\n      <td>333</td>\n      <td>100</td>\n      <td>3</td>\n    </tr>\n    <tr>\n      <th>189</th>\n      <td>111</td>\n      <td>2</td>\n      <td>1</td>\n    </tr>\n    <tr>\n      <th>190</th>\n      <td>6</td>\n      <td>0</td>\n      <td>0</td>\n    </tr>\n    <tr>\n      <th>191</th>\n      <td>32</td>\n      <td>19</td>\n      <td>4</td>\n    </tr>\n    <tr>\n      <th>192</th>\n      <td>64</td>\n      <td>18</td>\n      <td>4</td>\n    </tr>\n  </tbody>\n</table>\n<p>193 rows × 3 columns</p>\n</div>"
     },
     "execution_count": 94,
     "metadata": {},
     "output_type": "execute_result"
    }
   ],
   "source": [
    "drinks.select_dtypes(exclude='float', include='number')"
   ],
   "metadata": {
    "collapsed": false
   }
  },
  {
   "cell_type": "code",
   "execution_count": 95,
   "outputs": [
    {
     "data": {
      "text/plain": "  col_01 col_02 col_03\n0    1.0    4.3    7.6\n1    2.0    5.4    8.7\n2    3.3    6.5      -",
      "text/html": "<div>\n<style scoped>\n    .dataframe tbody tr th:only-of-type {\n        vertical-align: middle;\n    }\n\n    .dataframe tbody tr th {\n        vertical-align: top;\n    }\n\n    .dataframe thead th {\n        text-align: right;\n    }\n</style>\n<table border=\"1\" class=\"dataframe\">\n  <thead>\n    <tr style=\"text-align: right;\">\n      <th></th>\n      <th>col_01</th>\n      <th>col_02</th>\n      <th>col_03</th>\n    </tr>\n  </thead>\n  <tbody>\n    <tr>\n      <th>0</th>\n      <td>1.0</td>\n      <td>4.3</td>\n      <td>7.6</td>\n    </tr>\n    <tr>\n      <th>1</th>\n      <td>2.0</td>\n      <td>5.4</td>\n      <td>8.7</td>\n    </tr>\n    <tr>\n      <th>2</th>\n      <td>3.3</td>\n      <td>6.5</td>\n      <td>-</td>\n    </tr>\n  </tbody>\n</table>\n</div>"
     },
     "execution_count": 95,
     "metadata": {},
     "output_type": "execute_result"
    }
   ],
   "source": [
    "df = pd.DataFrame({'col_01': ['1.0', '2.0', '3.3'],\n",
    "                   'col_02': ['4.3', '5.4', '6.5'],\n",
    "                   'col_03': ['7.6', '8.7', '-']})\n",
    "df"
   ],
   "metadata": {
    "collapsed": false
   }
  },
  {
   "cell_type": "code",
   "execution_count": 96,
   "outputs": [
    {
     "data": {
      "text/plain": "col_01    object\ncol_02    object\ncol_03    object\ndtype: object"
     },
     "execution_count": 96,
     "metadata": {},
     "output_type": "execute_result"
    }
   ],
   "source": [
    "df.dtypes"
   ],
   "metadata": {
    "collapsed": false
   }
  },
  {
   "cell_type": "code",
   "execution_count": 97,
   "outputs": [
    {
     "data": {
      "text/plain": "   col_01  col_02 col_03\n0     1.0     4.3    7.6\n1     2.0     5.4    8.7\n2     3.3     6.5      -",
      "text/html": "<div>\n<style scoped>\n    .dataframe tbody tr th:only-of-type {\n        vertical-align: middle;\n    }\n\n    .dataframe tbody tr th {\n        vertical-align: top;\n    }\n\n    .dataframe thead th {\n        text-align: right;\n    }\n</style>\n<table border=\"1\" class=\"dataframe\">\n  <thead>\n    <tr style=\"text-align: right;\">\n      <th></th>\n      <th>col_01</th>\n      <th>col_02</th>\n      <th>col_03</th>\n    </tr>\n  </thead>\n  <tbody>\n    <tr>\n      <th>0</th>\n      <td>1.0</td>\n      <td>4.3</td>\n      <td>7.6</td>\n    </tr>\n    <tr>\n      <th>1</th>\n      <td>2.0</td>\n      <td>5.4</td>\n      <td>8.7</td>\n    </tr>\n    <tr>\n      <th>2</th>\n      <td>3.3</td>\n      <td>6.5</td>\n      <td>-</td>\n    </tr>\n  </tbody>\n</table>\n</div>"
     },
     "execution_count": 97,
     "metadata": {},
     "output_type": "execute_result"
    }
   ],
   "source": [
    "df.astype({'col_01': 'float', 'col_02':float})"
   ],
   "metadata": {
    "collapsed": false
   }
  },
  {
   "cell_type": "code",
   "execution_count": 98,
   "outputs": [
    {
     "data": {
      "text/plain": "col_01    object\ncol_02    object\ncol_03    object\ndtype: object"
     },
     "execution_count": 98,
     "metadata": {},
     "output_type": "execute_result"
    }
   ],
   "source": [
    "df.dtypes"
   ],
   "metadata": {
    "collapsed": false
   }
  },
  {
   "cell_type": "code",
   "execution_count": 99,
   "outputs": [
    {
     "data": {
      "text/plain": "col_01    float64\ncol_02    float64\ncol_03     object\ndtype: object"
     },
     "execution_count": 99,
     "metadata": {},
     "output_type": "execute_result"
    }
   ],
   "source": [
    "df.astype({'col_01': 'float', 'col_02':float}).dtypes"
   ],
   "metadata": {
    "collapsed": false
   }
  },
  {
   "cell_type": "code",
   "execution_count": 101,
   "outputs": [
    {
     "data": {
      "text/plain": "0    7.6\n1    8.7\n2    NaN\nName: col_03, dtype: float64"
     },
     "execution_count": 101,
     "metadata": {},
     "output_type": "execute_result"
    }
   ],
   "source": [
    "pd.to_numeric(df.col_03, errors='coerce')"
   ],
   "metadata": {
    "collapsed": false
   }
  },
  {
   "cell_type": "code",
   "execution_count": 102,
   "outputs": [
    {
     "data": {
      "text/plain": "0    7.6\n1    8.7\n2    0.0\nName: col_03, dtype: float64"
     },
     "execution_count": 102,
     "metadata": {},
     "output_type": "execute_result"
    }
   ],
   "source": [
    "pd.to_numeric(df.col_03, errors='coerce').fillna(0)"
   ],
   "metadata": {
    "collapsed": false
   }
  },
  {
   "cell_type": "code",
   "execution_count": 103,
   "outputs": [
    {
     "data": {
      "text/plain": "col_01    object\ncol_02    object\ncol_03    object\ndtype: object"
     },
     "execution_count": 103,
     "metadata": {},
     "output_type": "execute_result"
    }
   ],
   "source": [
    "df\n",
    "df.dtypes\n"
   ],
   "metadata": {
    "collapsed": false
   }
  },
  {
   "cell_type": "code",
   "execution_count": 105,
   "outputs": [],
   "source": [
    "df = df.apply(pd.to_numeric, errors='coerce').fillna(0)"
   ],
   "metadata": {
    "collapsed": false
   }
  },
  {
   "cell_type": "code",
   "execution_count": 106,
   "outputs": [
    {
     "data": {
      "text/plain": "col_01    float64\ncol_02    float64\ncol_03    float64\ndtype: object"
     },
     "execution_count": 106,
     "metadata": {},
     "output_type": "execute_result"
    }
   ],
   "source": [
    "df.dtypes"
   ],
   "metadata": {
    "collapsed": false
   }
  },
  {
   "cell_type": "code",
   "execution_count": 107,
   "outputs": [
    {
     "data": {
      "text/plain": "   col_01  col_02  col_03\n0     1.0     4.3     7.6\n1     2.0     5.4     8.7\n2     3.3     6.5     0.0",
      "text/html": "<div>\n<style scoped>\n    .dataframe tbody tr th:only-of-type {\n        vertical-align: middle;\n    }\n\n    .dataframe tbody tr th {\n        vertical-align: top;\n    }\n\n    .dataframe thead th {\n        text-align: right;\n    }\n</style>\n<table border=\"1\" class=\"dataframe\">\n  <thead>\n    <tr style=\"text-align: right;\">\n      <th></th>\n      <th>col_01</th>\n      <th>col_02</th>\n      <th>col_03</th>\n    </tr>\n  </thead>\n  <tbody>\n    <tr>\n      <th>0</th>\n      <td>1.0</td>\n      <td>4.3</td>\n      <td>7.6</td>\n    </tr>\n    <tr>\n      <th>1</th>\n      <td>2.0</td>\n      <td>5.4</td>\n      <td>8.7</td>\n    </tr>\n    <tr>\n      <th>2</th>\n      <td>3.3</td>\n      <td>6.5</td>\n      <td>0.0</td>\n    </tr>\n  </tbody>\n</table>\n</div>"
     },
     "execution_count": 107,
     "metadata": {},
     "output_type": "execute_result"
    }
   ],
   "source": [
    "df\n"
   ],
   "metadata": {
    "collapsed": false
   }
  },
  {
   "cell_type": "code",
   "execution_count": 115,
   "outputs": [
    {
     "name": "stdout",
     "output_type": "stream",
     "text": [
      "<class 'pandas.core.frame.DataFrame'>\n",
      "RangeIndex: 193 entries, 0 to 192\n",
      "Data columns (total 6 columns):\n",
      " #   Column                        Non-Null Count  Dtype  \n",
      "---  ------                        --------------  -----  \n",
      " 0   country                       193 non-null    object \n",
      " 1   beer_servings                 193 non-null    int64  \n",
      " 2   spirit_servings               193 non-null    int64  \n",
      " 3   wine_servings                 193 non-null    int64  \n",
      " 4   total_litres_of_pure_alcohol  193 non-null    float64\n",
      " 5   continent                     193 non-null    object \n",
      "dtypes: float64(1), int64(3), object(2)\n",
      "memory usage: 30.5 KB\n"
     ]
    }
   ],
   "source": [
    "drinks.info(memory_usage='deep')"
   ],
   "metadata": {
    "collapsed": false
   }
  },
  {
   "cell_type": "code",
   "execution_count": 117,
   "outputs": [
    {
     "name": "stdout",
     "output_type": "stream",
     "text": [
      "<class 'pandas.core.frame.DataFrame'>\n",
      "RangeIndex: 193 entries, 0 to 192\n",
      "Data columns (total 2 columns):\n",
      " #   Column         Non-Null Count  Dtype \n",
      "---  ------         --------------  ----- \n",
      " 0   beer_servings  193 non-null    int64 \n",
      " 1   continent      193 non-null    object\n",
      "dtypes: int64(1), object(1)\n",
      "memory usage: 13.7 KB\n"
     ]
    }
   ],
   "source": [
    "small_drinks = pd.read_csv('http://bit.ly/drinksbycountry', usecols=['beer_servings', 'continent'])\n",
    "small_drinks.info(memory_usage='deep')"
   ],
   "metadata": {
    "collapsed": false
   }
  },
  {
   "cell_type": "code",
   "execution_count": 122,
   "outputs": [
    {
     "name": "stdout",
     "output_type": "stream",
     "text": [
      "<class 'pandas.core.frame.DataFrame'>\n",
      "RangeIndex: 193 entries, 0 to 192\n",
      "Data columns (total 2 columns):\n",
      " #   Column         Non-Null Count  Dtype   \n",
      "---  ------         --------------  -----   \n",
      " 0   beer_servings  193 non-null    int64   \n",
      " 1   continent      193 non-null    category\n",
      "dtypes: category(1), int64(1)\n",
      "memory usage: 2.4 KB\n"
     ]
    }
   ],
   "source": [
    "dtypes = {'continent':'category'}\n",
    "small_drinks = pd.read_csv('http://bit.ly/drinksbycountry', usecols=['beer_servings', 'continent'], dtype=dtypes)\n",
    "small_drinks.info(memory_usage='deep')"
   ],
   "metadata": {
    "collapsed": false
   }
  },
  {
   "cell_type": "code",
   "execution_count": 123,
   "outputs": [
    {
     "data": {
      "text/plain": "         Date   Close    Volume Symbol\n0  2016-10-03   31.50  14070500   CSCO\n1  2016-10-03  112.52  21701800   AAPL\n2  2016-10-03   57.42  19189500   MSFT",
      "text/html": "<div>\n<style scoped>\n    .dataframe tbody tr th:only-of-type {\n        vertical-align: middle;\n    }\n\n    .dataframe tbody tr th {\n        vertical-align: top;\n    }\n\n    .dataframe thead th {\n        text-align: right;\n    }\n</style>\n<table border=\"1\" class=\"dataframe\">\n  <thead>\n    <tr style=\"text-align: right;\">\n      <th></th>\n      <th>Date</th>\n      <th>Close</th>\n      <th>Volume</th>\n      <th>Symbol</th>\n    </tr>\n  </thead>\n  <tbody>\n    <tr>\n      <th>0</th>\n      <td>2016-10-03</td>\n      <td>31.50</td>\n      <td>14070500</td>\n      <td>CSCO</td>\n    </tr>\n    <tr>\n      <th>1</th>\n      <td>2016-10-03</td>\n      <td>112.52</td>\n      <td>21701800</td>\n      <td>AAPL</td>\n    </tr>\n    <tr>\n      <th>2</th>\n      <td>2016-10-03</td>\n      <td>57.42</td>\n      <td>19189500</td>\n      <td>MSFT</td>\n    </tr>\n  </tbody>\n</table>\n</div>"
     },
     "execution_count": 123,
     "metadata": {},
     "output_type": "execute_result"
    }
   ],
   "source": [
    "pd.read_csv('data/stocks1.csv')"
   ],
   "metadata": {
    "collapsed": false
   }
  },
  {
   "cell_type": "code",
   "execution_count": 133,
   "outputs": [
    {
     "name": "stdout",
     "output_type": "stream",
     "text": [
      "data\\stocks1.csv data\\stocks2.csv data\\stocks3.csv\n"
     ]
    }
   ],
   "source": [
    "from glob import glob, iglob\n",
    "\n",
    "print(*iglob('data/stocks?.csv'))"
   ],
   "metadata": {
    "collapsed": false
   }
  },
  {
   "cell_type": "code",
   "execution_count": 136,
   "outputs": [
    {
     "data": {
      "text/plain": "         Date   Close    Volume Symbol\n0  2016-10-03   31.50  14070500   CSCO\n1  2016-10-03  112.52  21701800   AAPL\n2  2016-10-03   57.42  19189500   MSFT\n3  2016-10-04  113.00  29736800   AAPL\n4  2016-10-04   57.24  20085900   MSFT\n5  2016-10-04   31.35  18460400   CSCO\n6  2016-10-05   57.64  16726400   MSFT\n7  2016-10-05   31.59  11808600   CSCO\n8  2016-10-05  113.05  21453100   AAPL",
      "text/html": "<div>\n<style scoped>\n    .dataframe tbody tr th:only-of-type {\n        vertical-align: middle;\n    }\n\n    .dataframe tbody tr th {\n        vertical-align: top;\n    }\n\n    .dataframe thead th {\n        text-align: right;\n    }\n</style>\n<table border=\"1\" class=\"dataframe\">\n  <thead>\n    <tr style=\"text-align: right;\">\n      <th></th>\n      <th>Date</th>\n      <th>Close</th>\n      <th>Volume</th>\n      <th>Symbol</th>\n    </tr>\n  </thead>\n  <tbody>\n    <tr>\n      <th>0</th>\n      <td>2016-10-03</td>\n      <td>31.50</td>\n      <td>14070500</td>\n      <td>CSCO</td>\n    </tr>\n    <tr>\n      <th>1</th>\n      <td>2016-10-03</td>\n      <td>112.52</td>\n      <td>21701800</td>\n      <td>AAPL</td>\n    </tr>\n    <tr>\n      <th>2</th>\n      <td>2016-10-03</td>\n      <td>57.42</td>\n      <td>19189500</td>\n      <td>MSFT</td>\n    </tr>\n    <tr>\n      <th>3</th>\n      <td>2016-10-04</td>\n      <td>113.00</td>\n      <td>29736800</td>\n      <td>AAPL</td>\n    </tr>\n    <tr>\n      <th>4</th>\n      <td>2016-10-04</td>\n      <td>57.24</td>\n      <td>20085900</td>\n      <td>MSFT</td>\n    </tr>\n    <tr>\n      <th>5</th>\n      <td>2016-10-04</td>\n      <td>31.35</td>\n      <td>18460400</td>\n      <td>CSCO</td>\n    </tr>\n    <tr>\n      <th>6</th>\n      <td>2016-10-05</td>\n      <td>57.64</td>\n      <td>16726400</td>\n      <td>MSFT</td>\n    </tr>\n    <tr>\n      <th>7</th>\n      <td>2016-10-05</td>\n      <td>31.59</td>\n      <td>11808600</td>\n      <td>CSCO</td>\n    </tr>\n    <tr>\n      <th>8</th>\n      <td>2016-10-05</td>\n      <td>113.05</td>\n      <td>21453100</td>\n      <td>AAPL</td>\n    </tr>\n  </tbody>\n</table>\n</div>"
     },
     "execution_count": 136,
     "metadata": {},
     "output_type": "execute_result"
    }
   ],
   "source": [
    "pd.concat((pd.read_csv(file) for file in iglob('data/stocks?.csv')), ignore_index=True)"
   ],
   "metadata": {
    "collapsed": false
   }
  },
  {
   "cell_type": "code",
   "execution_count": 140,
   "outputs": [
    {
     "data": {
      "text/plain": "         country  beer_servings  spirit_servings  wine_servings  \\\n0    Afghanistan              0                0              0   \n1        Albania             89              132             54   \n2        Algeria             25                0             14   \n3        Andorra            245              138            312   \n4         Angola            217               57             45   \n..           ...            ...              ...            ...   \n188    Venezuela            333              100              3   \n189      Vietnam            111                2              1   \n190        Yemen              6                0              0   \n191       Zambia             32               19              4   \n192     Zimbabwe             64               18              4   \n\n     total_litres_of_pure_alcohol      continent  \n0                             0.0           Asia  \n1                             4.9         Europe  \n2                             0.7         Africa  \n3                            12.4         Europe  \n4                             5.9         Africa  \n..                            ...            ...  \n188                           7.7  South America  \n189                           2.0           Asia  \n190                           0.1           Asia  \n191                           2.5         Africa  \n192                           4.7         Africa  \n\n[193 rows x 6 columns]",
      "text/html": "<div>\n<style scoped>\n    .dataframe tbody tr th:only-of-type {\n        vertical-align: middle;\n    }\n\n    .dataframe tbody tr th {\n        vertical-align: top;\n    }\n\n    .dataframe thead th {\n        text-align: right;\n    }\n</style>\n<table border=\"1\" class=\"dataframe\">\n  <thead>\n    <tr style=\"text-align: right;\">\n      <th></th>\n      <th>country</th>\n      <th>beer_servings</th>\n      <th>spirit_servings</th>\n      <th>wine_servings</th>\n      <th>total_litres_of_pure_alcohol</th>\n      <th>continent</th>\n    </tr>\n  </thead>\n  <tbody>\n    <tr>\n      <th>0</th>\n      <td>Afghanistan</td>\n      <td>0</td>\n      <td>0</td>\n      <td>0</td>\n      <td>0.0</td>\n      <td>Asia</td>\n    </tr>\n    <tr>\n      <th>1</th>\n      <td>Albania</td>\n      <td>89</td>\n      <td>132</td>\n      <td>54</td>\n      <td>4.9</td>\n      <td>Europe</td>\n    </tr>\n    <tr>\n      <th>2</th>\n      <td>Algeria</td>\n      <td>25</td>\n      <td>0</td>\n      <td>14</td>\n      <td>0.7</td>\n      <td>Africa</td>\n    </tr>\n    <tr>\n      <th>3</th>\n      <td>Andorra</td>\n      <td>245</td>\n      <td>138</td>\n      <td>312</td>\n      <td>12.4</td>\n      <td>Europe</td>\n    </tr>\n    <tr>\n      <th>4</th>\n      <td>Angola</td>\n      <td>217</td>\n      <td>57</td>\n      <td>45</td>\n      <td>5.9</td>\n      <td>Africa</td>\n    </tr>\n    <tr>\n      <th>...</th>\n      <td>...</td>\n      <td>...</td>\n      <td>...</td>\n      <td>...</td>\n      <td>...</td>\n      <td>...</td>\n    </tr>\n    <tr>\n      <th>188</th>\n      <td>Venezuela</td>\n      <td>333</td>\n      <td>100</td>\n      <td>3</td>\n      <td>7.7</td>\n      <td>South America</td>\n    </tr>\n    <tr>\n      <th>189</th>\n      <td>Vietnam</td>\n      <td>111</td>\n      <td>2</td>\n      <td>1</td>\n      <td>2.0</td>\n      <td>Asia</td>\n    </tr>\n    <tr>\n      <th>190</th>\n      <td>Yemen</td>\n      <td>6</td>\n      <td>0</td>\n      <td>0</td>\n      <td>0.1</td>\n      <td>Asia</td>\n    </tr>\n    <tr>\n      <th>191</th>\n      <td>Zambia</td>\n      <td>32</td>\n      <td>19</td>\n      <td>4</td>\n      <td>2.5</td>\n      <td>Africa</td>\n    </tr>\n    <tr>\n      <th>192</th>\n      <td>Zimbabwe</td>\n      <td>64</td>\n      <td>18</td>\n      <td>4</td>\n      <td>4.7</td>\n      <td>Africa</td>\n    </tr>\n  </tbody>\n</table>\n<p>193 rows × 6 columns</p>\n</div>"
     },
     "execution_count": 140,
     "metadata": {},
     "output_type": "execute_result"
    }
   ],
   "source": [
    "pd.concat((pd.read_csv(file) for file in iglob('data/drinks?.csv')), axis='columns')"
   ],
   "metadata": {
    "collapsed": false
   }
  },
  {
   "cell_type": "code",
   "execution_count": 144,
   "outputs": [
    {
     "data": {
      "text/plain": "         country  beer_servings  spirit_servings\n0    Afghanistan              0                0\n1        Albania             89              132\n2        Algeria             25                0\n3        Andorra            245              138\n4         Angola            217               57\n..           ...            ...              ...\n188    Venezuela            333              100\n189      Vietnam            111                2\n190        Yemen              6                0\n191       Zambia             32               19\n192     Zimbabwe             64               18\n\n[193 rows x 3 columns]",
      "text/html": "<div>\n<style scoped>\n    .dataframe tbody tr th:only-of-type {\n        vertical-align: middle;\n    }\n\n    .dataframe tbody tr th {\n        vertical-align: top;\n    }\n\n    .dataframe thead th {\n        text-align: right;\n    }\n</style>\n<table border=\"1\" class=\"dataframe\">\n  <thead>\n    <tr style=\"text-align: right;\">\n      <th></th>\n      <th>country</th>\n      <th>beer_servings</th>\n      <th>spirit_servings</th>\n    </tr>\n  </thead>\n  <tbody>\n    <tr>\n      <th>0</th>\n      <td>Afghanistan</td>\n      <td>0</td>\n      <td>0</td>\n    </tr>\n    <tr>\n      <th>1</th>\n      <td>Albania</td>\n      <td>89</td>\n      <td>132</td>\n    </tr>\n    <tr>\n      <th>2</th>\n      <td>Algeria</td>\n      <td>25</td>\n      <td>0</td>\n    </tr>\n    <tr>\n      <th>3</th>\n      <td>Andorra</td>\n      <td>245</td>\n      <td>138</td>\n    </tr>\n    <tr>\n      <th>4</th>\n      <td>Angola</td>\n      <td>217</td>\n      <td>57</td>\n    </tr>\n    <tr>\n      <th>...</th>\n      <td>...</td>\n      <td>...</td>\n      <td>...</td>\n    </tr>\n    <tr>\n      <th>188</th>\n      <td>Venezuela</td>\n      <td>333</td>\n      <td>100</td>\n    </tr>\n    <tr>\n      <th>189</th>\n      <td>Vietnam</td>\n      <td>111</td>\n      <td>2</td>\n    </tr>\n    <tr>\n      <th>190</th>\n      <td>Yemen</td>\n      <td>6</td>\n      <td>0</td>\n    </tr>\n    <tr>\n      <th>191</th>\n      <td>Zambia</td>\n      <td>32</td>\n      <td>19</td>\n    </tr>\n    <tr>\n      <th>192</th>\n      <td>Zimbabwe</td>\n      <td>64</td>\n      <td>18</td>\n    </tr>\n  </tbody>\n</table>\n<p>193 rows × 3 columns</p>\n</div>"
     },
     "execution_count": 144,
     "metadata": {},
     "output_type": "execute_result"
    }
   ],
   "source": [
    "# clipboard\n",
    "df = pd.read_clipboard(sep=',')\n",
    "df"
   ],
   "metadata": {
    "collapsed": false
   }
  },
  {
   "cell_type": "code",
   "execution_count": 145,
   "outputs": [
    {
     "data": {
      "text/plain": "country            object\nbeer_servings       int64\nspirit_servings     int64\ndtype: object"
     },
     "execution_count": 145,
     "metadata": {},
     "output_type": "execute_result"
    }
   ],
   "source": [
    "df.dtypes"
   ],
   "metadata": {
    "collapsed": false
   }
  },
  {
   "cell_type": "code",
   "execution_count": 146,
   "outputs": [
    {
     "data": {
      "text/plain": "979"
     },
     "execution_count": 146,
     "metadata": {},
     "output_type": "execute_result"
    }
   ],
   "source": [
    "len(movies)"
   ],
   "metadata": {
    "collapsed": false
   }
  },
  {
   "cell_type": "code",
   "execution_count": 147,
   "outputs": [],
   "source": [
    "movies1 = movies.sample(frac=0.75)\n",
    "movies2 = movies.drop(movies1.index)\n"
   ],
   "metadata": {
    "collapsed": false
   }
  },
  {
   "cell_type": "code",
   "execution_count": 148,
   "outputs": [
    {
     "data": {
      "text/plain": "0"
     },
     "execution_count": 148,
     "metadata": {},
     "output_type": "execute_result"
    }
   ],
   "source": [
    "len(movies1) + len(movies2) - len(movies)"
   ],
   "metadata": {
    "collapsed": false
   }
  },
  {
   "cell_type": "code",
   "execution_count": 150,
   "outputs": [
    {
     "data": {
      "text/plain": "Int64Index([  0,   1,   3,   5,   6,   7,   8,   9,  10,  12,\n            ...\n            967, 969, 970, 971, 972, 973, 975, 976, 977, 978],\n           dtype='int64', length=734)"
     },
     "execution_count": 150,
     "metadata": {},
     "output_type": "execute_result"
    }
   ],
   "source": [
    "movies1.index.sort_values()"
   ],
   "metadata": {
    "collapsed": false
   }
  },
  {
   "cell_type": "code",
   "execution_count": 151,
   "outputs": [
    {
     "data": {
      "text/plain": "Int64Index([  2,   4,  11,  18,  23,  28,  44,  45,  47,  55,\n            ...\n            925, 933, 936, 937, 943, 951, 952, 965, 968, 974],\n           dtype='int64', length=245)"
     },
     "execution_count": 151,
     "metadata": {},
     "output_type": "execute_result"
    }
   ],
   "source": [
    "movies2.index.sort_values()"
   ],
   "metadata": {
    "collapsed": false
   }
  },
  {
   "cell_type": "code",
   "execution_count": 152,
   "outputs": [
    {
     "data": {
      "text/plain": "   star_rating                     title content_rating   genre  duration  \\\n0          9.3  The Shawshank Redemption              R   Crime       142   \n1          9.2             The Godfather              R   Crime       175   \n2          9.1    The Godfather: Part II              R   Crime       200   \n3          9.0           The Dark Knight          PG-13  Action       152   \n4          8.9              Pulp Fiction              R   Crime       154   \n\n                                         actors_list  \n0  [u'Tim Robbins', u'Morgan Freeman', u'Bob Gunt...  \n1    [u'Marlon Brando', u'Al Pacino', u'James Caan']  \n2  [u'Al Pacino', u'Robert De Niro', u'Robert Duv...  \n3  [u'Christian Bale', u'Heath Ledger', u'Aaron E...  \n4  [u'John Travolta', u'Uma Thurman', u'Samuel L....  ",
      "text/html": "<div>\n<style scoped>\n    .dataframe tbody tr th:only-of-type {\n        vertical-align: middle;\n    }\n\n    .dataframe tbody tr th {\n        vertical-align: top;\n    }\n\n    .dataframe thead th {\n        text-align: right;\n    }\n</style>\n<table border=\"1\" class=\"dataframe\">\n  <thead>\n    <tr style=\"text-align: right;\">\n      <th></th>\n      <th>star_rating</th>\n      <th>title</th>\n      <th>content_rating</th>\n      <th>genre</th>\n      <th>duration</th>\n      <th>actors_list</th>\n    </tr>\n  </thead>\n  <tbody>\n    <tr>\n      <th>0</th>\n      <td>9.3</td>\n      <td>The Shawshank Redemption</td>\n      <td>R</td>\n      <td>Crime</td>\n      <td>142</td>\n      <td>[u'Tim Robbins', u'Morgan Freeman', u'Bob Gunt...</td>\n    </tr>\n    <tr>\n      <th>1</th>\n      <td>9.2</td>\n      <td>The Godfather</td>\n      <td>R</td>\n      <td>Crime</td>\n      <td>175</td>\n      <td>[u'Marlon Brando', u'Al Pacino', u'James Caan']</td>\n    </tr>\n    <tr>\n      <th>2</th>\n      <td>9.1</td>\n      <td>The Godfather: Part II</td>\n      <td>R</td>\n      <td>Crime</td>\n      <td>200</td>\n      <td>[u'Al Pacino', u'Robert De Niro', u'Robert Duv...</td>\n    </tr>\n    <tr>\n      <th>3</th>\n      <td>9.0</td>\n      <td>The Dark Knight</td>\n      <td>PG-13</td>\n      <td>Action</td>\n      <td>152</td>\n      <td>[u'Christian Bale', u'Heath Ledger', u'Aaron E...</td>\n    </tr>\n    <tr>\n      <th>4</th>\n      <td>8.9</td>\n      <td>Pulp Fiction</td>\n      <td>R</td>\n      <td>Crime</td>\n      <td>154</td>\n      <td>[u'John Travolta', u'Uma Thurman', u'Samuel L....</td>\n    </tr>\n  </tbody>\n</table>\n</div>"
     },
     "execution_count": 152,
     "metadata": {},
     "output_type": "execute_result"
    }
   ],
   "source": [
    "movies.head()"
   ],
   "metadata": {
    "collapsed": false
   }
  },
  {
   "cell_type": "code",
   "execution_count": 155,
   "outputs": [
    {
     "data": {
      "text/plain": "array(['Crime', 'Action', 'Drama', 'Western', 'Adventure', 'Biography',\n       'Comedy', 'Animation', 'Mystery', 'Horror', 'Film-Noir', 'Sci-Fi',\n       'History', 'Thriller', 'Family', 'Fantasy'], dtype=object)"
     },
     "execution_count": 155,
     "metadata": {},
     "output_type": "execute_result"
    }
   ],
   "source": [
    "movies.genre.unique()"
   ],
   "metadata": {
    "collapsed": false
   }
  },
  {
   "cell_type": "code",
   "execution_count": 157,
   "outputs": [
    {
     "data": {
      "text/plain": "     star_rating                                            title  \\\n3            9.0                                  The Dark Knight   \n5            8.9                                     12 Angry Men   \n9            8.9                                       Fight Club   \n11           8.8                                        Inception   \n12           8.8   Star Wars: Episode V - The Empire Strikes Back   \n..           ...                                              ...   \n968          7.4                              The English Patient   \n970          7.4                                      Wonder Boys   \n972          7.4                                   Blue Valentine   \n973          7.4                            The Cider House Rules   \n976          7.4  Master and Commander: The Far Side of the World   \n\n    content_rating   genre  duration  \\\n3            PG-13  Action       152   \n5        NOT RATED   Drama        96   \n9                R   Drama       139   \n11           PG-13  Action       148   \n12              PG  Action       124   \n..             ...     ...       ...   \n968              R   Drama       162   \n970              R   Drama       107   \n972          NC-17   Drama       112   \n973          PG-13   Drama       126   \n976          PG-13  Action       138   \n\n                                           actors_list  \n3    [u'Christian Bale', u'Heath Ledger', u'Aaron E...  \n5    [u'Henry Fonda', u'Lee J. Cobb', u'Martin Bals...  \n9    [u'Brad Pitt', u'Edward Norton', u'Helena Bonh...  \n11   [u'Leonardo DiCaprio', u'Joseph Gordon-Levitt'...  \n12   [u'Mark Hamill', u'Harrison Ford', u'Carrie Fi...  \n..                                                 ...  \n968  [u'Ralph Fiennes', u'Juliette Binoche', u'Will...  \n970  [u'Michael Douglas', u'Tobey Maguire', u'Franc...  \n972  [u'Ryan Gosling', u'Michelle Williams', u'John...  \n973  [u'Tobey Maguire', u'Charlize Theron', u'Micha...  \n976  [u'Russell Crowe', u'Paul Bettany', u'Billy Bo...  \n\n[414 rows x 6 columns]",
      "text/html": "<div>\n<style scoped>\n    .dataframe tbody tr th:only-of-type {\n        vertical-align: middle;\n    }\n\n    .dataframe tbody tr th {\n        vertical-align: top;\n    }\n\n    .dataframe thead th {\n        text-align: right;\n    }\n</style>\n<table border=\"1\" class=\"dataframe\">\n  <thead>\n    <tr style=\"text-align: right;\">\n      <th></th>\n      <th>star_rating</th>\n      <th>title</th>\n      <th>content_rating</th>\n      <th>genre</th>\n      <th>duration</th>\n      <th>actors_list</th>\n    </tr>\n  </thead>\n  <tbody>\n    <tr>\n      <th>3</th>\n      <td>9.0</td>\n      <td>The Dark Knight</td>\n      <td>PG-13</td>\n      <td>Action</td>\n      <td>152</td>\n      <td>[u'Christian Bale', u'Heath Ledger', u'Aaron E...</td>\n    </tr>\n    <tr>\n      <th>5</th>\n      <td>8.9</td>\n      <td>12 Angry Men</td>\n      <td>NOT RATED</td>\n      <td>Drama</td>\n      <td>96</td>\n      <td>[u'Henry Fonda', u'Lee J. Cobb', u'Martin Bals...</td>\n    </tr>\n    <tr>\n      <th>9</th>\n      <td>8.9</td>\n      <td>Fight Club</td>\n      <td>R</td>\n      <td>Drama</td>\n      <td>139</td>\n      <td>[u'Brad Pitt', u'Edward Norton', u'Helena Bonh...</td>\n    </tr>\n    <tr>\n      <th>11</th>\n      <td>8.8</td>\n      <td>Inception</td>\n      <td>PG-13</td>\n      <td>Action</td>\n      <td>148</td>\n      <td>[u'Leonardo DiCaprio', u'Joseph Gordon-Levitt'...</td>\n    </tr>\n    <tr>\n      <th>12</th>\n      <td>8.8</td>\n      <td>Star Wars: Episode V - The Empire Strikes Back</td>\n      <td>PG</td>\n      <td>Action</td>\n      <td>124</td>\n      <td>[u'Mark Hamill', u'Harrison Ford', u'Carrie Fi...</td>\n    </tr>\n    <tr>\n      <th>...</th>\n      <td>...</td>\n      <td>...</td>\n      <td>...</td>\n      <td>...</td>\n      <td>...</td>\n      <td>...</td>\n    </tr>\n    <tr>\n      <th>968</th>\n      <td>7.4</td>\n      <td>The English Patient</td>\n      <td>R</td>\n      <td>Drama</td>\n      <td>162</td>\n      <td>[u'Ralph Fiennes', u'Juliette Binoche', u'Will...</td>\n    </tr>\n    <tr>\n      <th>970</th>\n      <td>7.4</td>\n      <td>Wonder Boys</td>\n      <td>R</td>\n      <td>Drama</td>\n      <td>107</td>\n      <td>[u'Michael Douglas', u'Tobey Maguire', u'Franc...</td>\n    </tr>\n    <tr>\n      <th>972</th>\n      <td>7.4</td>\n      <td>Blue Valentine</td>\n      <td>NC-17</td>\n      <td>Drama</td>\n      <td>112</td>\n      <td>[u'Ryan Gosling', u'Michelle Williams', u'John...</td>\n    </tr>\n    <tr>\n      <th>973</th>\n      <td>7.4</td>\n      <td>The Cider House Rules</td>\n      <td>PG-13</td>\n      <td>Drama</td>\n      <td>126</td>\n      <td>[u'Tobey Maguire', u'Charlize Theron', u'Micha...</td>\n    </tr>\n    <tr>\n      <th>976</th>\n      <td>7.4</td>\n      <td>Master and Commander: The Far Side of the World</td>\n      <td>PG-13</td>\n      <td>Action</td>\n      <td>138</td>\n      <td>[u'Russell Crowe', u'Paul Bettany', u'Billy Bo...</td>\n    </tr>\n  </tbody>\n</table>\n<p>414 rows × 6 columns</p>\n</div>"
     },
     "execution_count": 157,
     "metadata": {},
     "output_type": "execute_result"
    }
   ],
   "source": [
    "movies[movies.genre.isin(['Drama','Action'])]"
   ],
   "metadata": {
    "collapsed": false
   }
  },
  {
   "cell_type": "code",
   "execution_count": 158,
   "outputs": [
    {
     "data": {
      "text/plain": "979"
     },
     "execution_count": 158,
     "metadata": {},
     "output_type": "execute_result"
    }
   ],
   "source": [
    "len(movies)"
   ],
   "metadata": {
    "collapsed": false
   }
  },
  {
   "cell_type": "code",
   "execution_count": 159,
   "outputs": [
    {
     "data": {
      "text/plain": "     star_rating                                            title  \\\n3            9.0                                  The Dark Knight   \n5            8.9                                     12 Angry Men   \n9            8.9                                       Fight Club   \n11           8.8                                        Inception   \n12           8.8   Star Wars: Episode V - The Empire Strikes Back   \n..           ...                                              ...   \n968          7.4                              The English Patient   \n970          7.4                                      Wonder Boys   \n972          7.4                                   Blue Valentine   \n973          7.4                            The Cider House Rules   \n976          7.4  Master and Commander: The Far Side of the World   \n\n    content_rating   genre  duration  \\\n3            PG-13  Action       152   \n5        NOT RATED   Drama        96   \n9                R   Drama       139   \n11           PG-13  Action       148   \n12              PG  Action       124   \n..             ...     ...       ...   \n968              R   Drama       162   \n970              R   Drama       107   \n972          NC-17   Drama       112   \n973          PG-13   Drama       126   \n976          PG-13  Action       138   \n\n                                           actors_list  \n3    [u'Christian Bale', u'Heath Ledger', u'Aaron E...  \n5    [u'Henry Fonda', u'Lee J. Cobb', u'Martin Bals...  \n9    [u'Brad Pitt', u'Edward Norton', u'Helena Bonh...  \n11   [u'Leonardo DiCaprio', u'Joseph Gordon-Levitt'...  \n12   [u'Mark Hamill', u'Harrison Ford', u'Carrie Fi...  \n..                                                 ...  \n968  [u'Ralph Fiennes', u'Juliette Binoche', u'Will...  \n970  [u'Michael Douglas', u'Tobey Maguire', u'Franc...  \n972  [u'Ryan Gosling', u'Michelle Williams', u'John...  \n973  [u'Tobey Maguire', u'Charlize Theron', u'Micha...  \n976  [u'Russell Crowe', u'Paul Bettany', u'Billy Bo...  \n\n[414 rows x 6 columns]",
      "text/html": "<div>\n<style scoped>\n    .dataframe tbody tr th:only-of-type {\n        vertical-align: middle;\n    }\n\n    .dataframe tbody tr th {\n        vertical-align: top;\n    }\n\n    .dataframe thead th {\n        text-align: right;\n    }\n</style>\n<table border=\"1\" class=\"dataframe\">\n  <thead>\n    <tr style=\"text-align: right;\">\n      <th></th>\n      <th>star_rating</th>\n      <th>title</th>\n      <th>content_rating</th>\n      <th>genre</th>\n      <th>duration</th>\n      <th>actors_list</th>\n    </tr>\n  </thead>\n  <tbody>\n    <tr>\n      <th>3</th>\n      <td>9.0</td>\n      <td>The Dark Knight</td>\n      <td>PG-13</td>\n      <td>Action</td>\n      <td>152</td>\n      <td>[u'Christian Bale', u'Heath Ledger', u'Aaron E...</td>\n    </tr>\n    <tr>\n      <th>5</th>\n      <td>8.9</td>\n      <td>12 Angry Men</td>\n      <td>NOT RATED</td>\n      <td>Drama</td>\n      <td>96</td>\n      <td>[u'Henry Fonda', u'Lee J. Cobb', u'Martin Bals...</td>\n    </tr>\n    <tr>\n      <th>9</th>\n      <td>8.9</td>\n      <td>Fight Club</td>\n      <td>R</td>\n      <td>Drama</td>\n      <td>139</td>\n      <td>[u'Brad Pitt', u'Edward Norton', u'Helena Bonh...</td>\n    </tr>\n    <tr>\n      <th>11</th>\n      <td>8.8</td>\n      <td>Inception</td>\n      <td>PG-13</td>\n      <td>Action</td>\n      <td>148</td>\n      <td>[u'Leonardo DiCaprio', u'Joseph Gordon-Levitt'...</td>\n    </tr>\n    <tr>\n      <th>12</th>\n      <td>8.8</td>\n      <td>Star Wars: Episode V - The Empire Strikes Back</td>\n      <td>PG</td>\n      <td>Action</td>\n      <td>124</td>\n      <td>[u'Mark Hamill', u'Harrison Ford', u'Carrie Fi...</td>\n    </tr>\n    <tr>\n      <th>...</th>\n      <td>...</td>\n      <td>...</td>\n      <td>...</td>\n      <td>...</td>\n      <td>...</td>\n      <td>...</td>\n    </tr>\n    <tr>\n      <th>968</th>\n      <td>7.4</td>\n      <td>The English Patient</td>\n      <td>R</td>\n      <td>Drama</td>\n      <td>162</td>\n      <td>[u'Ralph Fiennes', u'Juliette Binoche', u'Will...</td>\n    </tr>\n    <tr>\n      <th>970</th>\n      <td>7.4</td>\n      <td>Wonder Boys</td>\n      <td>R</td>\n      <td>Drama</td>\n      <td>107</td>\n      <td>[u'Michael Douglas', u'Tobey Maguire', u'Franc...</td>\n    </tr>\n    <tr>\n      <th>972</th>\n      <td>7.4</td>\n      <td>Blue Valentine</td>\n      <td>NC-17</td>\n      <td>Drama</td>\n      <td>112</td>\n      <td>[u'Ryan Gosling', u'Michelle Williams', u'John...</td>\n    </tr>\n    <tr>\n      <th>973</th>\n      <td>7.4</td>\n      <td>The Cider House Rules</td>\n      <td>PG-13</td>\n      <td>Drama</td>\n      <td>126</td>\n      <td>[u'Tobey Maguire', u'Charlize Theron', u'Micha...</td>\n    </tr>\n    <tr>\n      <th>976</th>\n      <td>7.4</td>\n      <td>Master and Commander: The Far Side of the World</td>\n      <td>PG-13</td>\n      <td>Action</td>\n      <td>138</td>\n      <td>[u'Russell Crowe', u'Paul Bettany', u'Billy Bo...</td>\n    </tr>\n  </tbody>\n</table>\n<p>414 rows × 6 columns</p>\n</div>"
     },
     "execution_count": 159,
     "metadata": {},
     "output_type": "execute_result"
    }
   ],
   "source": [
    "movies[(movies.genre == 'Action') | (movies.genre == 'Drama')]"
   ],
   "metadata": {
    "collapsed": false
   }
  },
  {
   "cell_type": "code",
   "execution_count": 171,
   "outputs": [
    {
     "data": {
      "text/plain": "     star_rating                           title content_rating      genre  \\\n0            9.3        The Shawshank Redemption              R      Crime   \n1            9.2                   The Godfather              R      Crime   \n2            9.1          The Godfather: Part II              R      Crime   \n4            8.9                    Pulp Fiction              R      Crime   \n6            8.9  The Good, the Bad and the Ugly      NOT RATED    Western   \n..           ...                             ...            ...        ...   \n971          7.4              Death at a Funeral              R     Comedy   \n974          7.4                         Tootsie             PG     Comedy   \n975          7.4     Back to the Future Part III             PG  Adventure   \n977          7.4                     Poltergeist             PG     Horror   \n978          7.4                     Wall Street              R      Crime   \n\n     duration                                        actors_list  \n0         142  [u'Tim Robbins', u'Morgan Freeman', u'Bob Gunt...  \n1         175    [u'Marlon Brando', u'Al Pacino', u'James Caan']  \n2         200  [u'Al Pacino', u'Robert De Niro', u'Robert Duv...  \n4         154  [u'John Travolta', u'Uma Thurman', u'Samuel L....  \n6         161  [u'Clint Eastwood', u'Eli Wallach', u'Lee Van ...  \n..        ...                                                ...  \n971        90  [u'Matthew Macfadyen', u'Peter Dinklage', u'Ew...  \n974       116  [u'Dustin Hoffman', u'Jessica Lange', u'Teri G...  \n975       118  [u'Michael J. Fox', u'Christopher Lloyd', u'Ma...  \n977       114  [u'JoBeth Williams', u\"Heather O'Rourke\", u'Cr...  \n978       126  [u'Charlie Sheen', u'Michael Douglas', u'Tamar...  \n\n[565 rows x 6 columns]",
      "text/html": "<div>\n<style scoped>\n    .dataframe tbody tr th:only-of-type {\n        vertical-align: middle;\n    }\n\n    .dataframe tbody tr th {\n        vertical-align: top;\n    }\n\n    .dataframe thead th {\n        text-align: right;\n    }\n</style>\n<table border=\"1\" class=\"dataframe\">\n  <thead>\n    <tr style=\"text-align: right;\">\n      <th></th>\n      <th>star_rating</th>\n      <th>title</th>\n      <th>content_rating</th>\n      <th>genre</th>\n      <th>duration</th>\n      <th>actors_list</th>\n    </tr>\n  </thead>\n  <tbody>\n    <tr>\n      <th>0</th>\n      <td>9.3</td>\n      <td>The Shawshank Redemption</td>\n      <td>R</td>\n      <td>Crime</td>\n      <td>142</td>\n      <td>[u'Tim Robbins', u'Morgan Freeman', u'Bob Gunt...</td>\n    </tr>\n    <tr>\n      <th>1</th>\n      <td>9.2</td>\n      <td>The Godfather</td>\n      <td>R</td>\n      <td>Crime</td>\n      <td>175</td>\n      <td>[u'Marlon Brando', u'Al Pacino', u'James Caan']</td>\n    </tr>\n    <tr>\n      <th>2</th>\n      <td>9.1</td>\n      <td>The Godfather: Part II</td>\n      <td>R</td>\n      <td>Crime</td>\n      <td>200</td>\n      <td>[u'Al Pacino', u'Robert De Niro', u'Robert Duv...</td>\n    </tr>\n    <tr>\n      <th>4</th>\n      <td>8.9</td>\n      <td>Pulp Fiction</td>\n      <td>R</td>\n      <td>Crime</td>\n      <td>154</td>\n      <td>[u'John Travolta', u'Uma Thurman', u'Samuel L....</td>\n    </tr>\n    <tr>\n      <th>6</th>\n      <td>8.9</td>\n      <td>The Good, the Bad and the Ugly</td>\n      <td>NOT RATED</td>\n      <td>Western</td>\n      <td>161</td>\n      <td>[u'Clint Eastwood', u'Eli Wallach', u'Lee Van ...</td>\n    </tr>\n    <tr>\n      <th>...</th>\n      <td>...</td>\n      <td>...</td>\n      <td>...</td>\n      <td>...</td>\n      <td>...</td>\n      <td>...</td>\n    </tr>\n    <tr>\n      <th>971</th>\n      <td>7.4</td>\n      <td>Death at a Funeral</td>\n      <td>R</td>\n      <td>Comedy</td>\n      <td>90</td>\n      <td>[u'Matthew Macfadyen', u'Peter Dinklage', u'Ew...</td>\n    </tr>\n    <tr>\n      <th>974</th>\n      <td>7.4</td>\n      <td>Tootsie</td>\n      <td>PG</td>\n      <td>Comedy</td>\n      <td>116</td>\n      <td>[u'Dustin Hoffman', u'Jessica Lange', u'Teri G...</td>\n    </tr>\n    <tr>\n      <th>975</th>\n      <td>7.4</td>\n      <td>Back to the Future Part III</td>\n      <td>PG</td>\n      <td>Adventure</td>\n      <td>118</td>\n      <td>[u'Michael J. Fox', u'Christopher Lloyd', u'Ma...</td>\n    </tr>\n    <tr>\n      <th>977</th>\n      <td>7.4</td>\n      <td>Poltergeist</td>\n      <td>PG</td>\n      <td>Horror</td>\n      <td>114</td>\n      <td>[u'JoBeth Williams', u\"Heather O'Rourke\", u'Cr...</td>\n    </tr>\n    <tr>\n      <th>978</th>\n      <td>7.4</td>\n      <td>Wall Street</td>\n      <td>R</td>\n      <td>Crime</td>\n      <td>126</td>\n      <td>[u'Charlie Sheen', u'Michael Douglas', u'Tamar...</td>\n    </tr>\n  </tbody>\n</table>\n<p>565 rows × 6 columns</p>\n</div>"
     },
     "execution_count": 171,
     "metadata": {},
     "output_type": "execute_result"
    }
   ],
   "source": [
    "movies[(movies.genre != 'Action') & (movies.genre != 'Drama')]\n"
   ],
   "metadata": {
    "collapsed": false
   }
  },
  {
   "cell_type": "code",
   "execution_count": 180,
   "outputs": [
    {
     "data": {
      "text/plain": "0"
     },
     "execution_count": 180,
     "metadata": {},
     "output_type": "execute_result"
    }
   ],
   "source": [
    "len(movies) - (len(movies[(movies.genre == 'Action') | (movies.genre == 'Drama')]) + len(movies[(movies.genre != 'Action') & (movies.genre != 'Drama')]))"
   ],
   "metadata": {
    "collapsed": false
   }
  },
  {
   "cell_type": "code",
   "execution_count": 185,
   "outputs": [
    {
     "data": {
      "text/plain": "<bound method Series.info of Drama        278\nComedy       156\nAction       136\nCrime        124\nBiography     77\nAdventure     75\nAnimation     62\nHorror        29\nMystery       16\nWestern        9\nSci-Fi         5\nThriller       5\nFilm-Noir      3\nFamily         2\nHistory        1\nFantasy        1\nName: genre, dtype: int64>"
     },
     "execution_count": 185,
     "metadata": {},
     "output_type": "execute_result"
    }
   ],
   "source": [
    "counts = movies.genre.value_counts()\n",
    "counts.info"
   ],
   "metadata": {
    "collapsed": false
   }
  },
  {
   "cell_type": "code",
   "execution_count": 186,
   "outputs": [
    {
     "data": {
      "text/plain": "Drama     278\nComedy    156\nAction    136\nName: genre, dtype: int64"
     },
     "execution_count": 186,
     "metadata": {},
     "output_type": "execute_result"
    }
   ],
   "source": [
    "counts.nlargest(3)"
   ],
   "metadata": {
    "collapsed": false
   }
  },
  {
   "cell_type": "code",
   "execution_count": 190,
   "outputs": [
    {
     "data": {
      "text/plain": "     star_rating                                            title  \\\n3            9.0                                  The Dark Knight   \n5            8.9                                     12 Angry Men   \n9            8.9                                       Fight Club   \n11           8.8                                        Inception   \n12           8.8   Star Wars: Episode V - The Empire Strikes Back   \n..           ...                                              ...   \n971          7.4                               Death at a Funeral   \n972          7.4                                   Blue Valentine   \n973          7.4                            The Cider House Rules   \n974          7.4                                          Tootsie   \n976          7.4  Master and Commander: The Far Side of the World   \n\n    content_rating   genre  duration  \\\n3            PG-13  Action       152   \n5        NOT RATED   Drama        96   \n9                R   Drama       139   \n11           PG-13  Action       148   \n12              PG  Action       124   \n..             ...     ...       ...   \n971              R  Comedy        90   \n972          NC-17   Drama       112   \n973          PG-13   Drama       126   \n974             PG  Comedy       116   \n976          PG-13  Action       138   \n\n                                           actors_list  \n3    [u'Christian Bale', u'Heath Ledger', u'Aaron E...  \n5    [u'Henry Fonda', u'Lee J. Cobb', u'Martin Bals...  \n9    [u'Brad Pitt', u'Edward Norton', u'Helena Bonh...  \n11   [u'Leonardo DiCaprio', u'Joseph Gordon-Levitt'...  \n12   [u'Mark Hamill', u'Harrison Ford', u'Carrie Fi...  \n..                                                 ...  \n971  [u'Matthew Macfadyen', u'Peter Dinklage', u'Ew...  \n972  [u'Ryan Gosling', u'Michelle Williams', u'John...  \n973  [u'Tobey Maguire', u'Charlize Theron', u'Micha...  \n974  [u'Dustin Hoffman', u'Jessica Lange', u'Teri G...  \n976  [u'Russell Crowe', u'Paul Bettany', u'Billy Bo...  \n\n[570 rows x 6 columns]",
      "text/html": "<div>\n<style scoped>\n    .dataframe tbody tr th:only-of-type {\n        vertical-align: middle;\n    }\n\n    .dataframe tbody tr th {\n        vertical-align: top;\n    }\n\n    .dataframe thead th {\n        text-align: right;\n    }\n</style>\n<table border=\"1\" class=\"dataframe\">\n  <thead>\n    <tr style=\"text-align: right;\">\n      <th></th>\n      <th>star_rating</th>\n      <th>title</th>\n      <th>content_rating</th>\n      <th>genre</th>\n      <th>duration</th>\n      <th>actors_list</th>\n    </tr>\n  </thead>\n  <tbody>\n    <tr>\n      <th>3</th>\n      <td>9.0</td>\n      <td>The Dark Knight</td>\n      <td>PG-13</td>\n      <td>Action</td>\n      <td>152</td>\n      <td>[u'Christian Bale', u'Heath Ledger', u'Aaron E...</td>\n    </tr>\n    <tr>\n      <th>5</th>\n      <td>8.9</td>\n      <td>12 Angry Men</td>\n      <td>NOT RATED</td>\n      <td>Drama</td>\n      <td>96</td>\n      <td>[u'Henry Fonda', u'Lee J. Cobb', u'Martin Bals...</td>\n    </tr>\n    <tr>\n      <th>9</th>\n      <td>8.9</td>\n      <td>Fight Club</td>\n      <td>R</td>\n      <td>Drama</td>\n      <td>139</td>\n      <td>[u'Brad Pitt', u'Edward Norton', u'Helena Bonh...</td>\n    </tr>\n    <tr>\n      <th>11</th>\n      <td>8.8</td>\n      <td>Inception</td>\n      <td>PG-13</td>\n      <td>Action</td>\n      <td>148</td>\n      <td>[u'Leonardo DiCaprio', u'Joseph Gordon-Levitt'...</td>\n    </tr>\n    <tr>\n      <th>12</th>\n      <td>8.8</td>\n      <td>Star Wars: Episode V - The Empire Strikes Back</td>\n      <td>PG</td>\n      <td>Action</td>\n      <td>124</td>\n      <td>[u'Mark Hamill', u'Harrison Ford', u'Carrie Fi...</td>\n    </tr>\n    <tr>\n      <th>...</th>\n      <td>...</td>\n      <td>...</td>\n      <td>...</td>\n      <td>...</td>\n      <td>...</td>\n      <td>...</td>\n    </tr>\n    <tr>\n      <th>971</th>\n      <td>7.4</td>\n      <td>Death at a Funeral</td>\n      <td>R</td>\n      <td>Comedy</td>\n      <td>90</td>\n      <td>[u'Matthew Macfadyen', u'Peter Dinklage', u'Ew...</td>\n    </tr>\n    <tr>\n      <th>972</th>\n      <td>7.4</td>\n      <td>Blue Valentine</td>\n      <td>NC-17</td>\n      <td>Drama</td>\n      <td>112</td>\n      <td>[u'Ryan Gosling', u'Michelle Williams', u'John...</td>\n    </tr>\n    <tr>\n      <th>973</th>\n      <td>7.4</td>\n      <td>The Cider House Rules</td>\n      <td>PG-13</td>\n      <td>Drama</td>\n      <td>126</td>\n      <td>[u'Tobey Maguire', u'Charlize Theron', u'Micha...</td>\n    </tr>\n    <tr>\n      <th>974</th>\n      <td>7.4</td>\n      <td>Tootsie</td>\n      <td>PG</td>\n      <td>Comedy</td>\n      <td>116</td>\n      <td>[u'Dustin Hoffman', u'Jessica Lange', u'Teri G...</td>\n    </tr>\n    <tr>\n      <th>976</th>\n      <td>7.4</td>\n      <td>Master and Commander: The Far Side of the World</td>\n      <td>PG-13</td>\n      <td>Action</td>\n      <td>138</td>\n      <td>[u'Russell Crowe', u'Paul Bettany', u'Billy Bo...</td>\n    </tr>\n  </tbody>\n</table>\n<p>570 rows × 6 columns</p>\n</div>"
     },
     "execution_count": 190,
     "metadata": {},
     "output_type": "execute_result"
    }
   ],
   "source": [
    "movies[movies.genre.isin(counts.nlargest(3).index)]"
   ],
   "metadata": {
    "collapsed": false
   }
  },
  {
   "cell_type": "code",
   "execution_count": null,
   "outputs": [],
   "source": [],
   "metadata": {
    "collapsed": false
   }
  }
 ],
 "metadata": {
  "kernelspec": {
   "display_name": "Python 3",
   "language": "python",
   "name": "python3"
  },
  "language_info": {
   "codemirror_mode": {
    "name": "ipython",
    "version": 2
   },
   "file_extension": ".py",
   "mimetype": "text/x-python",
   "name": "python",
   "nbconvert_exporter": "python",
   "pygments_lexer": "ipython2",
   "version": "2.7.6"
  }
 },
 "nbformat": 4,
 "nbformat_minor": 0
}
