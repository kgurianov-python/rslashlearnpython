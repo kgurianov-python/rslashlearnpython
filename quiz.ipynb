{
 "cells": [
  {
   "cell_type": "code",
   "execution_count": null,
   "metadata": {
    "collapsed": true
   },
   "outputs": [],
   "source": [
    "\n",
    "import os.path\n",
    "\n",
    "x = sum([3, 6, 7])\n",
    "y = 3\n",
    "x // y"
   ]
  },
  {
   "cell_type": "code",
   "execution_count": null,
   "outputs": [],
   "source": [
    "class Num:\n",
    "    def __init__(self, x):\n",
    "        self.x = x\n",
    "\n",
    "    def __mod__(self, other):\n",
    "        return self.x % other.x\n",
    "\n",
    "    def __floordiv__(self, other):\n",
    "        return self.x // other.x\n",
    "\n",
    "\n",
    "x = Num(sum([7, 3, 6]))\n",
    "y = Num(3)\n",
    "print(x % y)"
   ],
   "metadata": {
    "collapsed": false
   }
  },
  {
   "cell_type": "code",
   "execution_count": null,
   "outputs": [],
   "source": [
    "def foo(a, b=2, c=3):\n",
    "    return a + b + c\n",
    "\n",
    "\n",
    "print(foo(c=1, a=3))"
   ],
   "metadata": {
    "collapsed": false
   }
  },
  {
   "cell_type": "code",
   "execution_count": null,
   "outputs": [],
   "source": [
    "print(f\"{'hello':25}xx\")\n",
    "print(f\"{'tomorrow':25}xx\")\n",
    "print(f\"{'the day after tomorrow':25}xx\")\n",
    "\n",
    "print(f\"{'hello':25}\" + 'xx')\n",
    "print(f\"{'tomorrow':25}\" + 'xx')\n",
    "print(f\"{'the day after tomorrow':25}\" + 'xx')\n"
   ],
   "metadata": {
    "collapsed": false
   }
  },
  {
   "cell_type": "code",
   "execution_count": null,
   "outputs": [],
   "source": [
    "x = [1, 2, 3, 4, 5]\n",
    "x += (1, 2)\n",
    "y = [0] * 3\n",
    "z = x + y\n",
    "z"
   ],
   "metadata": {
    "collapsed": false
   }
  },
  {
   "cell_type": "code",
   "execution_count": null,
   "outputs": [],
   "source": [
    "x = [1, 2, 3, 4, 5]\n",
    "x = x + (1, 2)  # TypeError: can only concatenate list (not \"tuple\") to list\n",
    "\n",
    "x.append((1, 2))  # x = [1, 2, 3, 4, 5, (1, 2)]\n",
    "\n",
    "y = [0] * 3\n",
    "z = x + [y]  # [1, 2, 3, 4, 5, (1, 2), [0, 0, 0]]"
   ],
   "metadata": {
    "collapsed": false
   }
  },
  {
   "cell_type": "code",
   "execution_count": null,
   "outputs": [],
   "source": [
    "def f(): return [[]]\n",
    "\n",
    "\n",
    "arr = f()\n",
    "arr[-1].append(2)\n",
    "print(f\"{arr = }\")\n",
    "\n",
    "arr = f()\n",
    "arr[0] += [2]\n",
    "print(f\"{arr = }\")\n",
    "\n",
    "arr = f()\n",
    "single, *_ = arr\n",
    "single.append(2)\n",
    "print(f\"{arr = }\")\n",
    "\n",
    "arr = f()\n",
    "next(iter(arr)).append(2)\n",
    "print(f\"{arr = }\")\n",
    "\n",
    "arr = f()\n",
    "for single in arr:\n",
    "    single.append(2)\n",
    "print(f\"{arr = }\")\n",
    "\n",
    "arr = f()\n",
    "(lambda x: x)(*arr).append(2)\n",
    "print(f\"{arr = }\")"
   ],
   "metadata": {
    "collapsed": false
   }
  },
  {
   "cell_type": "code",
   "execution_count": null,
   "outputs": [],
   "source": [
    "import re\n",
    "\n",
    "s = \"I lm Phlhmn\"\n",
    "\n",
    "\n",
    "def func(x, table={\"m\": \"ike\", \"h\": \"y\", \"lhmn\": \"thon\"}):\n",
    "    res = table.get(x.group(), x.group())\n",
    "    print(f\"{x = } {x.group() = } {res = }\")\n",
    "    return res\n",
    "\n",
    "\n",
    "Python = re.sub(\"[pmhb]\", func, s)\n",
    "print(Python)\n",
    "Python = Python.replace('lyiken', 'thon')\n",
    "print(Python)\n"
   ],
   "metadata": {
    "collapsed": false
   }
  },
  {
   "cell_type": "code",
   "execution_count": null,
   "outputs": [],
   "source": [
    "def quizz() -> int:\n",
    "    a = \"1\"\n",
    "    b = \"2\"\n",
    "    return (a + b,)\n",
    "\n",
    "\n",
    "print(quizz())"
   ],
   "metadata": {
    "collapsed": false
   }
  },
  {
   "cell_type": "code",
   "execution_count": null,
   "outputs": [],
   "source": [
    "ids = ['id1', 'id2', 'id30', 'id3', 'id22', 'id100']\n",
    "\n",
    "sorted_ids = (x for x in sorted(iter(ids), key=lambda x: int(x[2:])))\n",
    "ids.append('id15')\n",
    "\n",
    "print(*sorted_ids)"
   ],
   "metadata": {
    "collapsed": false
   }
  },
  {
   "cell_type": "code",
   "execution_count": null,
   "outputs": [],
   "source": [
    "a = [1, 2, 3]\n",
    "print(id(a))\n",
    "a += [1]\n",
    "print(id(a))"
   ],
   "metadata": {
    "collapsed": false
   }
  },
  {
   "cell_type": "code",
   "execution_count": null,
   "outputs": [],
   "source": [
    "a = [1, 2, 3]\n",
    "print(id(a))\n",
    "a = a + [1]\n",
    "print(id(a))"
   ],
   "metadata": {
    "collapsed": false
   }
  },
  {
   "cell_type": "code",
   "execution_count": null,
   "outputs": [],
   "source": [
    "def do_iadd(left_collection, right_collection):\n",
    "    left_collection += right_collection\n",
    "    # print(f\"{left_collection = }: {id(left_collection) = }\")\n",
    "\n",
    "\n",
    "def do_extend(left_collection, right_collection):\n",
    "    left_collection.extend(right_collection)\n",
    "    # print(f\"{left_collection = }: {id(left_collection) = }\")\n",
    "\n",
    "\n",
    "SEP = \".^20\"\n",
    "\n",
    "print(f\"{' With Arrays ':{SEP}}\")\n",
    "arr1 = [1, 2, 3, 4]\n",
    "arr2 = [5, 6, 7, 8]\n",
    "print(f\"{arr1 = }: {id(arr1) = }\")\n",
    "do_iadd(arr1, arr2)\n",
    "do_extend(arr1, arr2)\n",
    "\n",
    "print(f\"{' With Tuples ':{SEP}}\")\n",
    "tup1 = (1, 2, 3, 4)\n",
    "tup2 = (5, 6, 7, 8)\n",
    "print(f\"{tup1 = }: {id(tup1) = }\")\n",
    "try:\n",
    "    do_iadd(tup1, tup2)\n",
    "except TypeError as e:\n",
    "    print(e)\n",
    "try:\n",
    "    do_extend(tup1, tup2)\n",
    "except AttributeError as e:\n",
    "    print(e)\n",
    "\n",
    "print(f\"{' With Strings ':{SEP}}\")\n",
    "str1 = \"(1, 2, 3, 4)\"\n",
    "str2 = \"(5, 6, 7, 8)\"\n",
    "print(f\"{str1 = }: {id(str1) = }\")\n",
    "try:\n",
    "    do_iadd(str1, str2)\n",
    "except TypeError as e:\n",
    "    print(e)\n",
    "try:\n",
    "    do_extend(str1, str2)\n",
    "except AttributeError as e:\n",
    "    print(e)"
   ],
   "metadata": {
    "collapsed": false
   }
  },
  {
   "cell_type": "code",
   "execution_count": null,
   "outputs": [],
   "source": [
    "s = \"abcdef\"\n",
    "print(list(s))\n",
    "a = list(s).extend(['Z'])\n",
    "print(a)"
   ],
   "metadata": {
    "collapsed": false
   }
  },
  {
   "cell_type": "code",
   "execution_count": null,
   "outputs": [],
   "source": [
    "import timeit\n",
    "\n",
    "timeit.timeit(\"do_iadd([1, 2, 3, 4, 5, 6, 7], [1, 2, 3, 4, 5, 6, 7, 8, 9])\", globals=globals())\n",
    "timeit.timeit(\"do_extend([1, 2, 3, 4, 5, 6, 7], [1, 2, 3, 4, 5, 6, 7, 8, 9])\", globals=globals())"
   ],
   "metadata": {
    "collapsed": false
   }
  },
  {
   "cell_type": "code",
   "execution_count": null,
   "outputs": [],
   "source": [
    "x = [1, 2, 3, 4, 5, 6, 7, 8, 9, 0]\n",
    "\n",
    "print(0 ** 1 if (x[5] - x[-5]) else 0 ** 0)\n",
    "\n",
    "x[-1]"
   ],
   "metadata": {
    "collapsed": false
   }
  },
  {
   "cell_type": "code",
   "execution_count": null,
   "outputs": [],
   "source": [
    "def my_func(x, y, **kwargs):  # 2, 3, {'round': 2}\n",
    "    result = sum((x + y, x * y, x - y,\n",
    "                  x / y))  # => sum((5, 6, -1, 0.6666666666666666)) => 10.666666666666666\n",
    "    if \"round\" in kwargs:  # kwargs = {'round': 2}, so condiiton  evaluates to True\n",
    "        return round(result, kwargs[\"round\"])  # round(10.666666666666666, 2) => 10.67\n",
    "\n",
    "\n",
    "result = my_func(2, 3, round=2)\n",
    "print(result)"
   ],
   "metadata": {
    "collapsed": false
   }
  },
  {
   "cell_type": "code",
   "execution_count": null,
   "outputs": [],
   "source": [
    "functions = [all]  # functions[0] => built-in function all()\n",
    "\n",
    "for number in range(8):  # iterates through 0 to 7\n",
    "    def my_function(\n",
    "            n=number):  # defines a function with a default value for parameter n set to current number\n",
    "        return n  # returns n => return number\n",
    "\n",
    "\n",
    "    functions.append(my_function)  # appends a reference to function my_function() to the list\n",
    "\n",
    "    # list functions =>\n",
    "    #       [ <built-in function all>\n",
    "    #         <function my_function at 0x000001D7B10AC5E0>\n",
    "    #         <function my_function at 0x000001D7B10ACC20>\n",
    "    #         <function my_function at 0x000001D7B10AD620>\n",
    "    #         <function my_function at 0x000001D7B10AD300>\n",
    "    #         <function my_function at 0x000001D7B10AD6C0>\n",
    "    #         <function my_function at 0x000001D7B10AD4E0>\n",
    "    #         <function my_function at 0x000001D7B10AC900>\n",
    "    #         <function my_function at 0x000001D7B117F920>]\n",
    "\n",
    "results = [func([{()}]) if func is functions[0] else func() for func in\n",
    "           functions]  # functions[0] => all;\n",
    "# all([{()}]) => all() fro an empty list returns True,\n",
    "# since the list does not conains values which evaluate to False\n",
    "# The rest of the lista are instances of my_func() with a default\n",
    "# value set in the loop\n",
    "print(results)  # [True, 0, 1, 2, 3, 4, 5, 6, 7]"
   ],
   "metadata": {
    "collapsed": false
   }
  },
  {
   "cell_type": "code",
   "execution_count": null,
   "outputs": [],
   "source": [
    "print(\n",
    "    f\"{all([]) = }\")  # all() lazily evaluates to False if is contains at least one item, which evaluates to False. Otherwise, evaluates to True\n",
    "# basically, ir performs \"and\" comparison on all items in the collection\n",
    "print(\n",
    "    f\"{any([]) = }\")  # any() lazily evaluates to True if is contains at least one item, which evaluates to True. Otherwise, evaluates to False\n",
    "# basically, ir performs \"or\" comparison on all items in the collection\n"
   ],
   "metadata": {
    "collapsed": false
   }
  },
  {
   "cell_type": "code",
   "execution_count": null,
   "outputs": [],
   "source": [
    "def func(words, nums):\n",
    "    result = tuple(w[:][0] for w in words or nums)  # expression (words or nums) => (words),\n",
    "    # since tuple words is not None and not empty,\n",
    "    # therefore bool(words) evaluates to True\n",
    "    # thus the generator expression evaluates\n",
    "    # (w[:][0] for w in words or nums) =>\n",
    "    # (w[:][0] for w in words)\n",
    "    return result  # result => ('a', 'b', 'c')\n",
    "\n",
    "\n",
    "tuple_of_words = (\"apple\", \"banana\", \"cherry\")\n",
    "list_of_nums = [1, 2, 3]\n",
    "\n",
    "print(func(tuple_of_words, list_of_nums))"
   ],
   "metadata": {
    "collapsed": false
   }
  },
  {
   "cell_type": "code",
   "execution_count": null,
   "outputs": [],
   "source": [
    "from collections import Counter\n",
    "\n",
    "print(Counter(\"TWO\" + \"ELEVEN\" + \"ONE\"))\n",
    "print(Counter(\"TWELVE\"))\n",
    "print(Counter(\"TWO\" + \"ELEVEN\" + \"ONE\") - Counter(\"TWELVE\"))\n",
    "\n"
   ],
   "metadata": {
    "collapsed": false
   }
  },
  {
   "cell_type": "code",
   "execution_count": null,
   "outputs": [],
   "source": [
    "a = [1, 2, 3, 4, 5]\n",
    "print(f\"Original\\t{id(a) = }; {a=}\")\n",
    "a[0:5] = a[::-1]\n",
    "print(f\"Sliced\\t\\t{id(a) = }; {a=}\")\n",
    "a = a[::-1]\n",
    "print(f\"Reassigned\\t{id(a) = }; {a=}\")"
   ],
   "metadata": {
    "collapsed": false
   }
  },
  {
   "cell_type": "code",
   "execution_count": null,
   "outputs": [],
   "source": [
    "print(f\"Sliced {id(a) = }; {a=}\")"
   ],
   "metadata": {
    "collapsed": false
   }
  },
  {
   "cell_type": "code",
   "execution_count": null,
   "outputs": [],
   "source": [
    "import sys\n",
    "\n",
    "w = \"foobar\"\n",
    "x = \"foobar\"\n",
    "print(\n",
    "    f\"Implicit interning: {w = }, {x = } | {w is x = }\")  # True, look like a valid Python identifier\n",
    "\n",
    "w = \"not_like_python id\"\n",
    "x = \"not_like_python id\"\n",
    "print(\n",
    "    f\"Implicit interning: {w = }, {x = } | {w is x = }\")  # False, spaces are not allowed in Python identifier\n",
    "\n",
    "w = 'a' * 4096\n",
    "x = 'a' * 4096\n",
    "print(f\"Implicit interning: {w is x =}\")  # True, len(w) == len(x) <= 4096\n",
    "\n",
    "y = 'a' * 4097\n",
    "z = 'a' * 4097\n",
    "print(f\"Implicit interning: {y is z = }\")  # False, max string length ios 4096 since v.3.7\n",
    "\n",
    "y = sys.intern('a' * 4097)\n",
    "z = sys.intern('a' * 4097)\n",
    "print(f\"Explicit interning: {y is z = }\")  # True, explicit interning"
   ],
   "metadata": {
    "collapsed": false
   }
  },
  {
   "cell_type": "code",
   "execution_count": null,
   "outputs": [],
   "source": [
    "x = 30\n",
    "\n",
    "\n",
    "def outer():\n",
    "    x = 10 + 4\n",
    "\n",
    "    def inner():\n",
    "        nonlocal x\n",
    "        x = 20\n",
    "        return x\n",
    "\n",
    "    # inner()\n",
    "    x = 12 + x\n",
    "    return x\n",
    "\n",
    "\n",
    "print(outer())"
   ],
   "metadata": {
    "collapsed": false
   }
  },
  {
   "cell_type": "code",
   "execution_count": null,
   "outputs": [],
   "source": [
    "print(round(15.1, -1))"
   ],
   "metadata": {
    "collapsed": false
   }
  },
  {
   "cell_type": "code",
   "execution_count": null,
   "outputs": [],
   "source": [
    "import timeit\n",
    "\n",
    "\n",
    "def test_func(a):\n",
    "    return a ** a\n",
    "\n",
    "\n",
    "print(timeit.timeit(\"test_func(10)\", globals=globals(), number=1000))"
   ],
   "metadata": {
    "collapsed": false
   }
  },
  {
   "cell_type": "code",
   "execution_count": null,
   "outputs": [],
   "source": [
    "d = dict(\n",
    "    name='bob',\n",
    "    age=357,\n",
    ")\n",
    "type(d)"
   ],
   "metadata": {
    "collapsed": false
   }
  },
  {
   "cell_type": "code",
   "execution_count": null,
   "outputs": [],
   "source": [
    "os.scandir('.', )\n",
    "\n"
   ],
   "metadata": {
    "collapsed": false
   }
  },
  {
   "cell_type": "code",
   "execution_count": null,
   "outputs": [],
   "source": [
    "a = ['a', 'b', 'c']\n",
    "print(*enumerate(a, 100), sep='\\n')\n",
    "b = dict(\n",
    "    enumerate(a, 100))  # enumerate(a, 100) creates an iterable object of type <class 'enumerate'>,\n",
    "# which iterates through pairs (<index>, <value>),\n",
    "# with value 100 set as a starting index:\n",
    "#       (100, 'a') (101, 'b') (102, 'c')\n",
    "# passing this to dict() is same as calling\n",
    "#       dict(((100, 'a'), (101, 'b'), (102, 'c'))).\n",
    "print(b)  # => {100: 'a', 101: 'b', 102: 'c'}"
   ],
   "metadata": {
    "collapsed": false
   }
  },
  {
   "cell_type": "code",
   "execution_count": null,
   "outputs": [],
   "source": [
    "from typing import Collection\n",
    "\n",
    "# BOARD_SIZE = 4\n",
    "BOARD_SIZE = 3\n",
    "\n",
    "PLAYER = \"x\"\n",
    "\n",
    "board = [\" \"] * BOARD_SIZE ** 2\n",
    "# board[12]=board[9]=board[6]=board[3]=PLAYER\n",
    "board[6] = board[4] = board[2] = PLAYER\n",
    "\n",
    "\n",
    "def get_win_indices(board_size: int) -> list[list[int]]:\n",
    "    result = tuple(zip(*[iter(range(board_size ** 2))] * board_size))\n",
    "    result += tuple(zip(*result))\n",
    "    result += (tuple(range(0, board_size ** 2, board_size + 1)),)\n",
    "    result += (tuple(range(board_size ** 2 - board_size, 0, -board_size + 1)),)\n",
    "    return result\n",
    "\n",
    "\n",
    "def printable_board(board: list[str], board_size: int) -> tuple[tuple[str]]:\n",
    "    return tuple(zip(*[iter(board)] * board_size))\n",
    "\n",
    "\n",
    "def check_winner(player: str, board: list[str], win_idxs: Collection[Collection[int]]) -> bool:\n",
    "    return any(all(player == board[idx] for idx in combo) for combo in win_idxs)\n",
    "\n",
    "\n",
    "win_indices = get_win_indices(BOARD_SIZE)\n",
    "\n",
    "print(f\"Win combinations: {win_indices}\")\n",
    "print(*printable_board(board, BOARD_SIZE), sep=\"\\n\")\n",
    "print(f\"{check_winner(PLAYER, board, win_indices)}\")"
   ],
   "metadata": {
    "collapsed": false
   }
  },
  {
   "cell_type": "code",
   "execution_count": null,
   "outputs": [],
   "source": [
    "\n",
    "board = tuple(range(0, BOARD_SIZE ** 2, BOARD_SIZE + 1))\n",
    "print(board)\n",
    "print(tuple(range(BOARD_SIZE ** 2 - BOARD_SIZE, 0, -BOARD_SIZE + 1)))"
   ],
   "metadata": {
    "collapsed": false
   }
  },
  {
   "cell_type": "code",
   "execution_count": null,
   "outputs": [],
   "source": [
    "class myClass():\n",
    "    x = 10\n",
    "\n",
    "    def __init__(self):\n",
    "        self.data = [3, 2, 1]\n",
    "        self.data.pop(-2)\n",
    "\n",
    "    def add_value(self, value):\n",
    "        if value >= 3:\n",
    "            self.data.append(value)\n",
    "        else:\n",
    "            self.data.pop(value)\n",
    "\n",
    "    def sum_data(self):\n",
    "        self.x = 5\n",
    "        return sum(set(self.data)) + self.x\n",
    "\n",
    "\n",
    "obj1 = myClass()  # obj1.x => 10, obj1.data => [3,1]\n",
    "obj1.x = 12  # obj1.x => 12, obj1.data => [3,1]\n",
    "obj1.add_value(1)  # obj1.x => 12, obj1.data => [3]\n",
    "obj1.add_value(3)  # obj1.x => 12, obj1.data => [3,3]\n",
    "obj1.add_value(4)  # obj1.x => 12, obj1.data => [3,3,4]\n",
    "print(obj1.sum_data())  # obj1.x => 5, obj1.data => [3,3,4]\n",
    "# set(obj1.data) => [3,4]\n",
    "# sum([3,4]) => 7\n",
    "# 7 + 5 => 12\n",
    "\n",
    "\n"
   ],
   "metadata": {
    "collapsed": false
   }
  },
  {
   "cell_type": "code",
   "execution_count": null,
   "outputs": [],
   "source": [
    "def do_something(values, magic):\n",
    "    itrs = [iter(values)] * int(magic)\n",
    "    print(*itrs, sep=\"\\n\")\n",
    "    return zip(*itrs)\n",
    "\n",
    "\n",
    "val1 = do_something(range(10), 3)\n",
    "print(*val1, sep=\"\\n\")\n"
   ],
   "metadata": {
    "collapsed": false
   }
  },
  {
   "cell_type": "code",
   "execution_count": null,
   "outputs": [],
   "source": [
    "if \"1\" > 1:\n",
    "    print(1)"
   ],
   "metadata": {
    "collapsed": false
   }
  },
  {
   "cell_type": "code",
   "execution_count": null,
   "outputs": [],
   "source": [
    "num = 5\n",
    "print([num for num in range(num)])"
   ],
   "metadata": {
    "collapsed": false
   }
  },
  {
   "cell_type": "code",
   "execution_count": null,
   "outputs": [],
   "source": [
    "import itertools\n",
    "\n",
    "prices = (16, 17, 30)\n",
    "res = [sorted(vals) for vals in itertools.product(prices, repeat=6) if sum(vals) == 113]\n",
    "print(*res, sep=\"\\n\")"
   ],
   "metadata": {
    "collapsed": false
   }
  },
  {
   "cell_type": "code",
   "execution_count": null,
   "outputs": [],
   "source": [
    "a = [1, 2, 3, 4]\n",
    "tmp = a.pop(2)\n",
    "a.insert(1, tmp)\n",
    "a"
   ],
   "metadata": {
    "collapsed": false
   }
  },
  {
   "cell_type": "code",
   "execution_count": null,
   "outputs": [],
   "source": [
    "def y(y, a, x, i):\n",
    "    def o(x, i):\n",
    "        return x + i\n",
    "\n",
    "    return o(y, a)\n",
    "\n",
    "\n",
    "print(f\"\"\"{y('5', '3', '7', \"1\") = }\"\"\")"
   ],
   "metadata": {
    "collapsed": false
   }
  },
  {
   "cell_type": "code",
   "execution_count": null,
   "outputs": [],
   "source": [
    "def func(lst):\n",
    "    result = [x if x != 0 else 1 / x for x in numbers]\n",
    "    return result\n",
    "\n",
    "\n",
    "numbers = [1, 2, 3, 4, 5]\n",
    "print(func(numbers))"
   ],
   "metadata": {
    "collapsed": false
   }
  },
  {
   "cell_type": "code",
   "execution_count": null,
   "outputs": [],
   "source": [
    "a = range(9)\n",
    "iters1 = [iter(a)] * 3\n",
    "iters2 = [iter(a), iter(a), iter(a)]\n",
    "print(iters1, len(set(iters1)) == 1)\n",
    "print(iters2, len(set(iters2)) == 1)\n",
    "print(*zip(*iters1))\n",
    "print(*zip(*iters2))\n"
   ],
   "metadata": {
    "collapsed": false
   }
  },
  {
   "cell_type": "code",
   "execution_count": null,
   "outputs": [],
   "source": [
    "SIZE = 3\n",
    "a = [[1] * SIZE] * SIZE\n",
    "b = [[1] * SIZE for _ in range(SIZE)]\n",
    "\n",
    "before = (a == b)\n",
    "\n",
    "a[1][1] = b[1][1] = 42\n",
    "\n",
    "after = (a == b)\n",
    "\n",
    "print(before, after)"
   ],
   "metadata": {
    "collapsed": false
   }
  },
  {
   "cell_type": "code",
   "execution_count": null,
   "outputs": [],
   "source": [
    "x, x, y = 0, 3, 6\n",
    "print(x, y)"
   ],
   "metadata": {
    "collapsed": false
   }
  },
  {
   "cell_type": "code",
   "execution_count": null,
   "outputs": [],
   "source": [
    "x = (1, 2, 3)\n",
    "y = x\n",
    "y[1] = 10\n",
    "x"
   ],
   "metadata": {
    "collapsed": false
   }
  },
  {
   "cell_type": "code",
   "execution_count": null,
   "outputs": [],
   "source": [
    "print(*itertools.product(*itertools.repeat((True, False), 2)), sep='\\n')"
   ],
   "metadata": {
    "collapsed": false
   }
  },
  {
   "cell_type": "code",
   "execution_count": null,
   "outputs": [],
   "source": [
    "a = {i: str(i) for i in range(5)}\n",
    "print(dict(map(lambda x: x[::-1], a.items())))\n",
    "print(dict(list(a.items())[::-1]))"
   ],
   "metadata": {
    "collapsed": false
   }
  },
  {
   "cell_type": "code",
   "execution_count": null,
   "outputs": [],
   "source": [
    "def my_range(x):\n",
    "    for i in range(x):\n",
    "        print(i)\n",
    "        yield i\n",
    "\n",
    "\n",
    "my_range5 = my_range(5)\n",
    "\n",
    "range5 = range(5)\n",
    "\n",
    "print(2 in range5, 1 in range5)\n",
    "print(2 in my_range5)\n"
   ],
   "metadata": {
    "collapsed": false
   }
  },
  {
   "cell_type": "code",
   "execution_count": null,
   "outputs": [],
   "source": [
    "range5 = range(5)\n",
    "print(\"Iterable:\")\n",
    "for i in range5:\n",
    "    print(f\"\\tstep {i}: \", end=\"\")\n",
    "    print(*range5)  # represents a sequence, can be refused\n",
    "\n",
    "range_iterator = iter(range(5))\n",
    "print(\"Iterator:\")\n",
    "for i in range_iterator:\n",
    "    print(f\"\\tstep {i}: \", end=\"\")\n",
    "    print(\n",
    "        *range_iterator)  # exhausted after reaching last element and throws StopIteration exception"
   ],
   "metadata": {
    "collapsed": false
   }
  },
  {
   "cell_type": "code",
   "execution_count": null,
   "outputs": [],
   "source": [
    "\n",
    "import random\n",
    "\n",
    "N = 10\n",
    "REPEATS = 10\n",
    "\n",
    "\n",
    "def get_rnd_sum(vals) -> float:\n",
    "    result = [0]\n",
    "    while val := random.choice(vals):\n",
    "        result.append(val)\n",
    "    return sum(result) / len(result)\n",
    "\n",
    "\n",
    "results = (get_rnd_sum(range(N)) for _ in range(REPEATS))\n",
    "print(*results, sep=\"\\n\")\n",
    "# print(*map(statistics.mean, results))"
   ],
   "metadata": {
    "collapsed": false
   }
  },
  {
   "cell_type": "code",
   "execution_count": null,
   "outputs": [],
   "source": [
    "print(*range('10'))"
   ],
   "metadata": {
    "collapsed": false
   }
  },
  {
   "cell_type": "code",
   "execution_count": null,
   "outputs": [],
   "source": [
    "def func(a):\n",
    "    a[0] = 15  # assign 15 to the fist element of the list.\n",
    "    # Parameter a references the object passed as an argument to the function, so that object is updated\n",
    "    a = (1,\n",
    "         2)  # assign new tuple object to a local variable (parameter) a. This assignment is only valid within the function local scope\n",
    "    print(a)  # print object, referenced  by local variable a\n",
    "\n",
    "\n",
    "a = [1, 2]\n",
    "func(a)\n",
    "print(a)"
   ],
   "metadata": {
    "collapsed": false
   }
  },
  {
   "cell_type": "code",
   "execution_count": null,
   "outputs": [],
   "source": [
    "x = [[1, 2, 3], [4, 5, 6], [7, 8, 9]]\n",
    "y = list(x)\n",
    "y[1][0] = 10\n",
    "y[2] = 10\n",
    "print(x)"
   ],
   "metadata": {
    "collapsed": false
   }
  },
  {
   "cell_type": "code",
   "execution_count": null,
   "outputs": [],
   "source": [
    "a = [1, 2, 3]\n",
    "b = a.append(4)\n",
    "print(a, b)"
   ],
   "metadata": {
    "collapsed": false
   }
  },
  {
   "cell_type": "code",
   "execution_count": null,
   "outputs": [],
   "source": [
    "class Iterator:\n",
    "    def __init__(self, start, end):\n",
    "        self.start = start\n",
    "        self.end = end\n",
    "\n",
    "    def __iter__(self):\n",
    "        return self\n",
    "\n",
    "    def __next__(self):\n",
    "        if self.start > self.end:\n",
    "            raise StopIteration\n",
    "        value = self.start ** 2\n",
    "        self.start += 1\n",
    "        return value\n",
    "\n",
    "\n",
    "# Example usage:\n",
    "iterator = Iterator(1, 5)\n",
    "for num in iterator:\n",
    "    print(num)"
   ],
   "metadata": {
    "collapsed": false
   }
  },
  {
   "cell_type": "code",
   "execution_count": null,
   "outputs": [],
   "source": [
    "e = enumerate(['1', '2', '3'])\n",
    "print(type(e))\n",
    "print(dir(e))\n",
    "print(next(e))\n",
    "print(next(e))\n",
    "print(next(e))\n",
    "print(next(e))\n"
   ],
   "metadata": {
    "collapsed": false
   }
  },
  {
   "cell_type": "code",
   "execution_count": null,
   "outputs": [],
   "source": [
    "def my_func():\n",
    "    data = [2, 4, 6, 8, 10, 12]\n",
    "    result = [num for num in data if\n",
    "              num % 3 == 0]  # result => [6, 12] as the only values from the original list, divisible by 3\n",
    "    return result[::-1][-2] + result[-2]  # result[::-1] reverses the list, => [12, 6]\n",
    "    # [12,6][-2] => 12 (second from the right of th reversed list)\n",
    "    # result[-2] => 6, second from the right of the list 'result'\n",
    "    # 12+6 = 18\n",
    "\n",
    "\n",
    "print(my_func())"
   ],
   "metadata": {
    "collapsed": false
   }
  },
  {
   "cell_type": "code",
   "execution_count": null,
   "outputs": [],
   "source": [
    "data = list(range(10))\n",
    "another_data = data[::-1][:4:-1] + data[-1:-6:-1][::-1]\n",
    "another_data == data"
   ],
   "metadata": {
    "collapsed": false
   }
  },
  {
   "cell_type": "code",
   "execution_count": null,
   "outputs": [],
   "source": [
    "numbers = [1, 2, 3, 4, 5]\n",
    "numbers = [*map(lambda x: x * (2 + x % 2), numbers)]\n",
    "print(numbers)\n"
   ],
   "metadata": {
    "collapsed": false
   }
  },
  {
   "cell_type": "code",
   "execution_count": null,
   "outputs": [],
   "source": [
    "\n",
    "\n",
    "target = 72\n",
    "multipliers = []\n",
    "for a in range(1, target // 2):\n",
    "    for b in range(a, target // (2 * a)):\n",
    "        c, remainder = divmod(target, a * b)\n",
    "        if remainder == 0 and c >= b:\n",
    "            multipliers.append((a, b, c))\n",
    "\n",
    "print(*sorted(zip(multipliers, map(sum, multipliers)), key=lambda x: x[1], reverse=True), sep=\"\\n\")\n",
    "\n",
    "\n"
   ],
   "metadata": {
    "collapsed": false
   }
  },
  {
   "cell_type": "code",
   "execution_count": 46,
   "outputs": [
    {
     "name": "stdout",
     "output_type": "stream",
     "text": [
      "Counter({2: 3, 3: 2})\n"
     ]
    },
    {
     "data": {
      "text/plain": "[1, 2, 4, 8, 1, 3, 9]"
     },
     "execution_count": 46,
     "metadata": {},
     "output_type": "execute_result"
    }
   ],
   "source": [
    "\n",
    "from collections import Counter\n",
    "\n",
    "\n",
    "def get_multipliers(target, size, factors=None, current_combo=None, combos=None):\n",
    "    if combos is None:\n",
    "        combos = []\n",
    "    if current_combo is None:\n",
    "        current_combo = []\n",
    "    if factors is None:\n",
    "        factors = Counter(get_factors(target))\n",
    "\n",
    "    if len(current_combo) == size - 1:\n",
    "        current_combo.append(target)\n",
    "        combos.append(current_combo.copy())\n",
    "        current_combo.pop()\n",
    "\n",
    "    for factor in factors:\n",
    "        for power in range(factors[factor]):\n",
    "            mutliplier = factor ** power\n",
    "            current_combo.append(mutliplier)\n",
    "            tmp = {item: factors[item] for item in factors if item != factor}\n",
    "            get_multipliers(target // mutliplier, size, tmp, current_combo, combos)\n",
    "            current_combo.pop()\n",
    "\n",
    "    return combos\n",
    "\n",
    "\n",
    "def get_factors(target):\n",
    "    factors = []\n",
    "    factor = 2\n",
    "    while target > 1:\n",
    "        res, remainder = divmod(target, factor)\n",
    "        if remainder == 0:\n",
    "            target = res\n",
    "            factors.append(factor)\n",
    "        else:\n",
    "            factor += 1\n",
    "    return factors\n",
    "\n",
    "\n",
    "print(Counter(get_factors(72)))\n",
    "bools = [False]*72\n",
    "\n",
    "[key**power for key, val in Counter(get_factors(72)).items() for power in range(val+1)]"
   ],
   "metadata": {
    "collapsed": false,
    "ExecuteTime": {
     "end_time": "2023-05-19T13:04:49.825508200Z",
     "start_time": "2023-05-19T13:04:49.817490900Z"
    }
   }
  },
  {
   "cell_type": "code",
   "execution_count": 47,
   "outputs": [
    {
     "name": "stdout",
     "output_type": "stream",
     "text": [
      "[]\n"
     ]
    }
   ],
   "source": [
    "print([]*3)"
   ],
   "metadata": {
    "collapsed": false,
    "ExecuteTime": {
     "end_time": "2023-05-19T16:56:32.939700200Z",
     "start_time": "2023-05-19T16:56:32.859908600Z"
    }
   }
  },
  {
   "cell_type": "code",
   "execution_count": 51,
   "outputs": [
    {
     "data": {
      "text/plain": "1"
     },
     "execution_count": 51,
     "metadata": {},
     "output_type": "execute_result"
    }
   ],
   "source": [
    "str_obj = '_100 _200 _300'\n",
    "str_obj.count('_', 5,10)"
   ],
   "metadata": {
    "collapsed": false,
    "ExecuteTime": {
     "end_time": "2023-05-19T17:48:43.271502600Z",
     "start_time": "2023-05-19T17:48:43.265384700Z"
    }
   }
  },
  {
   "cell_type": "code",
   "execution_count": 80,
   "outputs": [
    {
     "data": {
      "text/plain": "183.33333333333334"
     },
     "execution_count": 80,
     "metadata": {},
     "output_type": "execute_result"
    }
   ],
   "source": [
    "from statistics import mean\n",
    "\n",
    "heights_inches = [71, 75, 68, 72, 73 ]\n",
    "weight_pounds = [165, 190, 140, 175, 185]\n",
    "\n",
    "mean((weight_pounds[i] for i in (idx for  idx, val in enumerate(heights_inches) if val>71)))"
   ],
   "metadata": {
    "collapsed": false,
    "ExecuteTime": {
     "end_time": "2023-05-19T23:06:21.038628100Z",
     "start_time": "2023-05-19T23:06:21.032326400Z"
    }
   }
  },
  {
   "cell_type": "code",
   "execution_count": 84,
   "outputs": [
    {
     "ename": "TypeError",
     "evalue": "'generator' object does not support item assignment",
     "output_type": "error",
     "traceback": [
      "\u001B[1;31m---------------------------------------------------------------------------\u001B[0m",
      "\u001B[1;31mTypeError\u001B[0m                                 Traceback (most recent call last)",
      "Cell \u001B[1;32mIn[84], line 3\u001B[0m\n\u001B[0;32m      1\u001B[0m a \u001B[38;5;241m=\u001B[39m [\u001B[38;5;241m1\u001B[39m,\u001B[38;5;241m2\u001B[39m,\u001B[38;5;241m3\u001B[39m,\u001B[38;5;241m4\u001B[39m,\u001B[38;5;241m5\u001B[39m]\n\u001B[0;32m      2\u001B[0m b \u001B[38;5;241m=\u001B[39m (x\u001B[38;5;241m*\u001B[39m\u001B[38;5;241m*\u001B[39mx \u001B[38;5;28;01mfor\u001B[39;00m x \u001B[38;5;129;01min\u001B[39;00m a)\n\u001B[1;32m----> 3\u001B[0m \u001B[43mb\u001B[49m\u001B[43m[\u001B[49m\u001B[38;5;241;43m0\u001B[39;49m\u001B[43m]\u001B[49m \u001B[38;5;241m=\u001B[39m \u001B[38;5;241m5\u001B[39m\n\u001B[0;32m      4\u001B[0m \u001B[38;5;28mprint\u001B[39m(b)\n",
      "\u001B[1;31mTypeError\u001B[0m: 'generator' object does not support item assignment"
     ]
    }
   ],
   "source": [
    "a = [1,2,3,4,5]\n",
    "b = [x**x for x in a]\n",
    "b[0] = 5\n",
    "print(b)"
   ],
   "metadata": {
    "collapsed": false,
    "ExecuteTime": {
     "end_time": "2023-05-19T23:28:42.151007700Z",
     "start_time": "2023-05-19T23:28:42.139485Z"
    }
   }
  },
  {
   "cell_type": "code",
   "execution_count": null,
   "outputs": [],
   "source": [],
   "metadata": {
    "collapsed": false
   }
  }
 ],
 "metadata": {
  "kernelspec": {
   "display_name": "Python 3",
   "language": "python",
   "name": "python3"
  },
  "language_info": {
   "codemirror_mode": {
    "name": "ipython",
    "version": 2
   },
   "file_extension": ".py",
   "mimetype": "text/x-python",
   "name": "python",
   "nbconvert_exporter": "python",
   "pygments_lexer": "ipython2",
   "version": "2.7.6"
  }
 },
 "nbformat": 4,
 "nbformat_minor": 0
}
