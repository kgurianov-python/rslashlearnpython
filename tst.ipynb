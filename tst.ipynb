{
 "cells": [
  {
   "cell_type": "code",
   "execution_count": 1,
   "metadata": {
    "collapsed": true,
    "pycharm": {
     "name": "#%%\n",
     "is_executing": true
    },
    "ExecuteTime": {
     "end_time": "2023-09-18T23:48:19.579462400Z",
     "start_time": "2023-09-18T23:48:19.573194600Z"
    }
   },
   "outputs": [
    {
     "name": "stdout",
     "output_type": "stream",
     "text": [
      "tst\n"
     ]
    }
   ],
   "source": [
    "print(\"tst\")"
   ]
  },
  {
   "cell_type": "code",
   "execution_count": 7,
   "outputs": [
    {
     "name": "stdout",
     "output_type": "stream",
     "text": [
      "(1, 2) (1, 3) (2, 3)\n",
      "0\n"
     ]
    }
   ],
   "source": [
    "from itertools import combinations\n",
    "combos = combinations([1, 2, 3], 2)\n",
    "print(*combos)\n",
    "my_list = sum([items[1] for items in combos])\n",
    "print(my_list)"
   ],
   "metadata": {
    "collapsed": false,
    "ExecuteTime": {
     "end_time": "2023-09-19T16:48:56.822394800Z",
     "start_time": "2023-09-19T16:48:56.813258100Z"
    }
   }
  },
  {
   "cell_type": "code",
   "execution_count": 27,
   "outputs": [
    {
     "name": "stdout",
     "output_type": "stream",
     "text": [
      "formatter = 's<10'\n",
      "message = hissssssss\n"
     ]
    }
   ],
   "source": [
    "message = \"hi\" \n",
    "fill = \"s\"\n",
    "align = \"<\"\n",
    "width = 10\n",
    "formatter =f'{fill}{align}{width}'\n",
    "print(f\"{formatter = }\")\n",
    "print(f\"{message = :{formatter}}\")\n",
    "# print(f\"{message:s<10}\")"
   ],
   "metadata": {
    "collapsed": false,
    "ExecuteTime": {
     "end_time": "2023-09-19T16:57:35.259483600Z",
     "start_time": "2023-09-19T16:57:35.252057100Z"
    }
   }
  },
  {
   "cell_type": "code",
   "execution_count": null,
   "outputs": [],
   "source": [],
   "metadata": {
    "collapsed": false
   }
  }
 ],
 "metadata": {
  "kernelspec": {
   "display_name": "Python 3",
   "language": "python",
   "name": "python3"
  },
  "language_info": {
   "codemirror_mode": {
    "name": "ipython",
    "version": 2
   },
   "file_extension": ".py",
   "mimetype": "text/x-python",
   "name": "python",
   "nbconvert_exporter": "python",
   "pygments_lexer": "ipython2",
   "version": "2.7.6"
  }
 },
 "nbformat": 4,
 "nbformat_minor": 0
}
