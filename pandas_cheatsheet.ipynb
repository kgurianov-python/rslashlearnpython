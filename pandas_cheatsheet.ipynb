{
 "cells": [
  {
   "cell_type": "markdown",
   "source": [
    " # 0. import some data"
   ],
   "metadata": {
    "collapsed": false
   }
  },
  {
   "cell_type": "code",
   "execution_count": 1,
   "outputs": [],
   "source": [
    "import pandas as pd\n",
    "import numpy as np"
   ],
   "metadata": {
    "collapsed": false
   }
  },
  {
   "cell_type": "code",
   "execution_count": null,
   "outputs": [],
   "source": [
    "# drinks = pd.read_csv('http://bit.ly/drinksbycountry')\n",
    "# movies = pd.read_csv('http://bit.ly/imdbratings')\n",
    "# orders = pd.read_csv('http://bit.ly/chiporders', sep='\\t')\n",
    "# orders['item_price'] = orders.item_price.str.replace('$', '').astype('float')\n",
    "# stocks = pd.read_csv('http://bit.ly/smallstocks', parse_dates=['Date'])\n",
    "# titanic = pd.read_csv('http://bit.ly/kaggletrain')\n",
    "# ufo = pd.read_csv('http://bit.ly/uforeports', parse_dates=['Time'])"
   ],
   "metadata": {
    "collapsed": false
   }
  },
  {
   "cell_type": "code",
   "execution_count": null,
   "outputs": [],
   "source": [
    "re"
   ],
   "metadata": {
    "collapsed": false
   }
  }
 ],
 "metadata": {
  "kernelspec": {
   "display_name": "Python 3",
   "language": "python",
   "name": "python3"
  },
  "language_info": {
   "codemirror_mode": {
    "name": "ipython",
    "version": 2
   },
   "file_extension": ".py",
   "mimetype": "text/x-python",
   "name": "python",
   "nbconvert_exporter": "python",
   "pygments_lexer": "ipython2",
   "version": "2.7.6"
  }
 },
 "nbformat": 4,
 "nbformat_minor": 0
}
